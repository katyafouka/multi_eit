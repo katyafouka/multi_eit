{
 "cells": [
  {
   "cell_type": "code",
   "execution_count": 1,
   "metadata": {},
   "outputs": [],
   "source": [
    "import numpy as np\n",
    "from qutip import *\n",
    "from sympy.physics.quantum.cg import CG\n",
    "from sympy.physics.wigner import wigner_6j, wigner_3j\n",
    "from tqdm import tqdm\n",
    "import matplotlib.pyplot as plt\n",
    "from scipy.linalg import inv\n",
    "from numpy import linalg as LA\n",
    "from scipy.optimize import minimize_scalar\n",
    "import math\n",
    "from scipy.optimize import curve_fit\n",
    "from scipy.sparse.linalg import eigs"
   ]
  },
  {
   "cell_type": "code",
   "execution_count": 2,
   "metadata": {},
   "outputs": [
    {
     "data": {
      "text/plain": [
       "[1, 0, 1, 2]"
      ]
     },
     "execution_count": 2,
     "metadata": {},
     "output_type": "execute_result"
    }
   ],
   "source": [
    "#toy model's quantum numbers\n",
    "I = 1\n",
    "S = 1\n",
    "Je = 0\n",
    "Jg = 1\n",
    "Lg = 2\n",
    "F = [i for i in range(int(I-Jg),int(I + Jg + 1),1)]\n",
    "F.insert(0,int(I+Je))\n",
    "F "
   ]
  },
  {
   "cell_type": "code",
   "execution_count": 3,
   "metadata": {},
   "outputs": [
    {
     "data": {
      "text/plain": [
       "12"
      ]
     },
     "execution_count": 3,
     "metadata": {},
     "output_type": "execute_result"
    }
   ],
   "source": [
    "#number of atomic states\n",
    "N = [2*F[i] + 1 for i in range(len(F))]\n",
    "N = sum(N)\n",
    "N"
   ]
  },
  {
   "cell_type": "code",
   "execution_count": 4,
   "metadata": {},
   "outputs": [
    {
     "name": "stdout",
     "output_type": "stream",
     "text": [
      "7.021541606995384\n",
      "[-0.0002465559058692723, -0.07142857142857142, 0.008928571428571428, 0.0625]\n"
     ]
    }
   ],
   "source": [
    "#Zeeman stuff\n",
    "\n",
    "muB = 9.3e-24 #Bohr magneton J T^-1\n",
    "hbar = 1.054e-34 # J s\n",
    "\n",
    "muB = muB/hbar #hbar = 1\n",
    "muB = muB/(2*np.pi)\n",
    "muB = muB/1e6  # so it's in 1/2π (MHz T^-1)\n",
    "#muB=1\n",
    "\n",
    "# 1Gauss is 0.0001 T\n",
    "B=5e-04\n",
    "print(muB*B) \n",
    "#gF = [1,0,1,2]\n",
    "gF = []\n",
    "FF = [7,6,7,8]\n",
    "II = 7\n",
    "\n",
    "\n",
    "#Lande g factor for F\n",
    "me = 9.1093837015e-31 \n",
    "mp = 1.67262192369e-27 \n",
    "\n",
    "mI = 3.169 #nuclear magnetic moment of 176Lu in units of μN\n",
    "gI = mI/II\n",
    "gJg = 1 + (Jg*(Jg +1) + S*(S + 1) - Lg*(Lg + 1))/(2*Jg*(Jg + 1))\n",
    "\n",
    "\n",
    "gF.append(-gI*me/mp)\n",
    "\n",
    "for i in range(3):\n",
    "    gF.append(gJg*(FF[i +1]*(FF[i+1] + 1) + Jg*(Jg+1) - II*(II+1))/(2*FF[i+1]*(FF[i +1] + 1)))\n",
    "\n",
    "    \n",
    "print(gF)"
   ]
  },
  {
   "cell_type": "code",
   "execution_count": 9,
   "metadata": {},
   "outputs": [
    {
     "data": {
      "text/plain": [
       "-0.0002465559058692723"
      ]
     },
     "execution_count": 9,
     "metadata": {},
     "output_type": "execute_result"
    }
   ],
   "source": [
    "-gI*me/mp"
   ]
  },
  {
   "cell_type": "code",
   "execution_count": 11,
   "metadata": {},
   "outputs": [
    {
     "name": "stdout",
     "output_type": "stream",
     "text": [
      "-0.0017312025515115329\n",
      "-0.5015386862139559\n",
      "0.06269233577674449\n",
      "0.4388463504372115\n"
     ]
    }
   ],
   "source": [
    "for i in range(len(F)):\n",
    "    print(gF[i]*muB*B) #(1/2π MHz)"
   ]
  },
  {
   "cell_type": "code",
   "execution_count": 13,
   "metadata": {},
   "outputs": [],
   "source": [
    "def base(F,i,mF):\n",
    "    #numbering states from 0 to N-1 starting from -mF to mF\n",
    "    # 0 is |F',-mF'>\n",
    "    if i==0:\n",
    "        b = basis(N,mF+F[i])\n",
    "    elif i==1:\n",
    "        b = basis(N,mF + F[i] + 2*F[0] + 1)\n",
    "    elif i==2:\n",
    "        b = basis(N,mF + F[i] + 2*F[0] + 1 + 2*F[1] + 1)\n",
    "    else:\n",
    "        b = basis(N,mF + F[i] + 2*F[0] + 1 + 2*F[1] + 1 + 2*F[2] +1)\n",
    "    return b    "
   ]
  },
  {
   "cell_type": "markdown",
   "metadata": {},
   "source": [
    "## Dissipation"
   ]
  },
  {
   "cell_type": "code",
   "execution_count": 16,
   "metadata": {},
   "outputs": [],
   "source": [
    "GammaJgJe = 2.44745 #1/2π (MHz) 3D1 to 3P0\n",
    "#GammaJgJe = 2.5"
   ]
  },
  {
   "cell_type": "code",
   "execution_count": 18,
   "metadata": {},
   "outputs": [],
   "source": [
    "def GammaFgFe(F,ig,Je,Jg,I,GammaJgJe):\n",
    "    return float((2*Je + 1)*(2*F[ig] + 1)*wigner_6j(Je,F[0],I,F[ig],Jg,1)**2)*GammaJgJe\n",
    "    #return GammaJgJe"
   ]
  },
  {
   "cell_type": "code",
   "execution_count": 20,
   "metadata": {},
   "outputs": [
    {
     "data": {
      "text/plain": [
       "2.44745"
      ]
     },
     "execution_count": 20,
     "metadata": {},
     "output_type": "execute_result"
    }
   ],
   "source": [
    "GammaFgFe(F,1,Je,Jg,I,GammaJgJe) + GammaFgFe(F,2,Je,Jg,I,GammaJgJe) + GammaFgFe(F,3,Je,Jg,I,GammaJgJe)"
   ]
  },
  {
   "cell_type": "code",
   "execution_count": 22,
   "metadata": {},
   "outputs": [],
   "source": [
    "def cg(F,ig,mFg,ie,mFe,q):\n",
    "    return float(CG(F[ig],mFg,1,q,F[ie],mFe).doit())\n",
    "    #return 1"
   ]
  },
  {
   "cell_type": "code",
   "execution_count": 24,
   "metadata": {},
   "outputs": [],
   "source": [
    "def c_ops(F,GammaJgJe):\n",
    "    c_ops = []\n",
    "    qs = [-1,0,1]\n",
    "\n",
    "    for ig in range(1,len(F)):\n",
    "        for mfg in range(-F[ig],F[ig] + 1):\n",
    "            for mfe in range(-F[0], F[0] + 1):\n",
    "                for q in qs:\n",
    "                    if cg(F,ig,mfg,0,mfe,q) != 0:\n",
    "                        cops =np.sqrt(1/(2*F[0] + 1))*cg(F,ig,mfg,0,mfe,q)*np.sqrt(GammaFgFe(F,ig,Je,Jg,I,GammaJgJe))*base(F,ig,mfg)*base(F,0,mfe).dag()\n",
    "                        c_ops.append(cops.to(\"CSR\"))\n",
    "    return c_ops"
   ]
  },
  {
   "cell_type": "markdown",
   "metadata": {},
   "source": [
    "## Rest ion"
   ]
  },
  {
   "cell_type": "code",
   "execution_count": 27,
   "metadata": {},
   "outputs": [],
   "source": [
    "def H_I(F,Omega_p):\n",
    "    HI=0*basis(N,0)*basis(N,0).dag()\n",
    "    for mFe in range(-F[0],F[0] + 1):\n",
    "        for ig in range(1,len(F)):\n",
    "            for mFg in range(-F[ig],F[ig]+1):\n",
    "                for q in range(-1,2):\n",
    "                    HI += cg(F,ig,mFg,0,mFe,q)*Omega_p[ig-1,q+1]/2*base(F,0,mFe)*base(F,ig,mFg).dag()\n",
    "                \n",
    "    return -1/np.sqrt(2*F[0]+1)*(HI + HI.dag()) "
   ]
  },
  {
   "cell_type": "code",
   "execution_count": 29,
   "metadata": {},
   "outputs": [],
   "source": [
    "def H_0(F,Delta):\n",
    "    H0 = 0*basis(N,0)*basis(N,0).dag()\n",
    "    for l in range(len(F)):\n",
    "        for mF in range(-F[l],F[l]+1):\n",
    "            H0 +=(Delta[l] + gF[l]*muB*mF*B)*base(F,l,mF)*base(F,l,mF).dag() \n",
    "    return H0"
   ]
  },
  {
   "cell_type": "code",
   "execution_count": 31,
   "metadata": {},
   "outputs": [],
   "source": [
    "def pop_e(F,N,Delta,Omega_p,c_ops,Deltap_min, Deltap_max,nn):   \n",
    "    \n",
    "    #number of excited states\n",
    "    Ne = 2*F[0] + 1\n",
    "\n",
    "    e = [basis(N,i) for i in range(0,Ne)]\n",
    "    g = [basis(N,i) for i in range(Ne,N)]\n",
    "\n",
    "    #Delta = [0,4*GammaJgJe,4*GammaJgJe,4*GammaJgJe + 5]\n",
    "    i=0\n",
    "    popes = np.zeros(nn)\n",
    "    #popgs = np.zeros(nn)\n",
    "    #rhos = []\n",
    "    \n",
    "    #HI - laser-ion interaction      \n",
    "    HI=H_I(F,Omega_p) \n",
    "\n",
    "    for Deltap in tqdm(np.linspace(Dmin,Dmax,nn)):\n",
    "    #for Deltap in [50,55,60,65,0]:\n",
    "        \n",
    "        Delta[2] = Deltap\n",
    "        \n",
    "        #H0 - ion\n",
    "        H0 = H_0(F,Delta)\n",
    "    \n",
    "        #total Hamiltonian\n",
    "        H = H0 + HI\n",
    "        #make sure Hamiltonian is sparse\n",
    "        H = H.to(\"CSR\").tidyup(atol=1e-8)\n",
    "        #print(H)\n",
    "        \n",
    "        rho = steadystate(H,c_ops)\n",
    "        #rhos.append(rho)\n",
    "        \n",
    "        for j in range(len(e)):\n",
    "            popes[i] += expect(e[j]*e[j].dag(),rho)\n",
    "            \n",
    "        #for k in range(len(g)):\n",
    "            #popgs[i] += expect(g[k]*g[k].dag(),rho)\n",
    "    \n",
    "        #print(i)\n",
    "        #print(popgs[i])\n",
    "        #print(popes[i])\n",
    "        i+=1\n",
    "        \n",
    "    #return popes,popgs,rhos\n",
    "    return popes"
   ]
  },
  {
   "cell_type": "markdown",
   "metadata": {},
   "source": [
    "### σ+ and σ- for all transitions"
   ]
  },
  {
   "cell_type": "code",
   "execution_count": 34,
   "metadata": {},
   "outputs": [],
   "source": [
    "#Rabi frequencies Ω_F,F' #1/2π (MHz)\n",
    "omega = [23.5,10,23.5]\n",
    "\n",
    "#turn on/off polarization\n",
    "Omega_p= np.zeros((3,3)) # (ig-1, q + 1) transition from F[ig] state to F' with polarization q\n",
    "\n",
    "Omega_p[0,0] = Omega_p[0,2] = omega[0]       #σ+ and σ- for F=F[1] to F'= F[0]\n",
    "Omega_p[1,0] = Omega_p[1,2] = omega[1]      #σ+ and σ- for F=F[2] to F'=F[0]\n",
    "Omega_p[2,0] = Omega_p[2,2] = omega[2]     #σ+ and σ- for F=F[3] to F'=F[0]"
   ]
  },
  {
   "cell_type": "code",
   "execution_count": 36,
   "metadata": {},
   "outputs": [
    {
     "name": "stdout",
     "output_type": "stream",
     "text": [
      "7.021541606995384\n"
     ]
    },
    {
     "data": {
      "text/plain": [
       "[0, 10, 20.5, 20]"
      ]
     },
     "execution_count": 36,
     "metadata": {},
     "output_type": "execute_result"
    }
   ],
   "source": [
    "B = 5e-04\n",
    "print(muB*B) \n",
    "Delta = [0,10,20.5,20]\n",
    "\n",
    "#Delta[2] = Delta[3] -(gF[2] + gF[3])*muB*B\n",
    "\n",
    "Delta"
   ]
  },
  {
   "cell_type": "code",
   "execution_count": 38,
   "metadata": {},
   "outputs": [],
   "source": [
    "Delta_ds = []\n",
    "\n",
    "for mFe in range(-F[0],F[0] + 1):\n",
    "    for mFg in range(-F[2],F[2] + 1):\n",
    "        for q in [-1,1]:\n",
    "            #print(mFg)\n",
    "            if cg(F,2,mFg,0,mFe,q) != 0:\n",
    "                #print(F[0],mFe)\n",
    "                #print(F[2],mFg)\n",
    "                #print('\\n')\n",
    "                for ig in [1,3]:\n",
    "                    for mFFg in range(-F[ig],F[ig] + 1):\n",
    "                        for qq in [-1,1]:\n",
    "                        #print(mFFg)\n",
    "                            if cg(F,ig,mFFg,0,mFe,qq) != 0:\n",
    "                                Delta_ds.append(Delta[ig] - gF[2]*mFg*muB*B + gF[ig]*mFFg*muB*B)"
   ]
  },
  {
   "cell_type": "code",
   "execution_count": 40,
   "metadata": {},
   "outputs": [
    {
     "data": {
      "text/plain": [
       "20.501538686213955"
      ]
     },
     "execution_count": 40,
     "metadata": {},
     "output_type": "execute_result"
    }
   ],
   "source": [
    "Delta_ds.sort()\n",
    "Delta_ds[-2]"
   ]
  },
  {
   "cell_type": "markdown",
   "metadata": {},
   "source": [
    "## Fictitious"
   ]
  },
  {
   "cell_type": "code",
   "execution_count": 43,
   "metadata": {},
   "outputs": [],
   "source": [
    "def find_nearest(array, value):\n",
    "    array = np.asarray(array)\n",
    "    idx = (np.abs(array - value)).argmin()\n",
    "    return idx"
   ]
  },
  {
   "cell_type": "code",
   "execution_count": 45,
   "metadata": {},
   "outputs": [],
   "source": [
    "def H1_(F,eta,Omega_p):\n",
    "    H1=0*basis(N,0)*basis(N,0).dag()\n",
    "    for mFe in range(-F[0],F[0] + 1):\n",
    "        for ig in range(1,len(F)):\n",
    "            for mFg in range(-F[ig],F[ig]+1):\n",
    "                for q in range(-1,2):\n",
    "                    H1 += eta[ig-1]*cg(F,ig,mFg,0,mFe,q)*Omega_p[ig-1,q+1]/2*base(F,0,mFe)*base(F,ig,mFg).dag()\n",
    "                \n",
    "    return -1/np.sqrt(2*F[0]+1)*H1"
   ]
  },
  {
   "cell_type": "code",
   "execution_count": 47,
   "metadata": {},
   "outputs": [],
   "source": [
    "def steck(F,N,Delta,Omega_p,eta,c,omega):\n",
    "    H0_ = H_0(F,Delta)\n",
    "    HI_ = H_I(F,Omega_p) \n",
    "    \n",
    "\n",
    "    H0 = H0_ + HI_ \n",
    "\n",
    "    L0 = 0*spre(c[0])*spost(c[0].dag())\n",
    "    for i in range(len(c)):\n",
    "        L0 += spre(c[i])*spost(c[i].dag()) - 0.5*(spre(c[i].dag()*c[i]) + spost(c[i].dag()*c[i]))\n",
    "    #L0 = sum(c)\n",
    "\n",
    "    L0 += -1j*(spre(H0) - spost(H0))\n",
    "    \n",
    "    #L0 = np.array(L0)\n",
    "    L0 = L0.data_as('ndarray')\n",
    "\n",
    "    H_1 = H1_(F,eta,Omega_p)\n",
    "    L_1 = -1j*(spre(H_1) - spost(H_1))\n",
    "\n",
    "    #L_1 = np.array(L_1)\n",
    "    L_1 = L_1.data_as('ndarray')\n",
    "\n",
    "    H1 = H_1.dag()\n",
    "    L1 = -1j*(spre(H1) - spost(H1))\n",
    "\n",
    "    #L1 = np.array(L1)\n",
    "    L1 = L1.data_as('ndarray')\n",
    "   \n",
    "    #popes = np.zeros(nn,dtype='complex64')\n",
    "    #coh = np.zeros(nn,dtype='complex64')\n",
    "    #abs = np.zeros(nn,dtype='complex64')\n",
    "    \n",
    "    #k=0\n",
    "\n",
    "\n",
    "\n",
    "    #S3 = -np.matmul(inv(L0-3j*delta*np.eye(N**2)),L1)\n",
    "    S2 = -np.matmul(inv(L0-2j*omega*np.eye(N**2)),L1)\n",
    "    #S2 = -np.matmul(inv(L0-2j*delta*np.eye(N**2)+ np.matmul(L_1,S3)),L1)\n",
    "    S1 = -np.matmul(inv(L0-1j*omega*np.eye(N**2) + np.matmul(L_1,S2)),L1) \n",
    "\n",
    "    #T_3 = -np.matmul(inv(L0+3j*delta*np.eye(N**2)),L_1)\n",
    "    T_2 = -np.matmul(inv(L0+2j*omega*np.eye(N**2)),L_1)\n",
    "    #T_2 = -np.matmul(inv(L0+2j*delta*np.eye(N**2)+ np.matmul(L1,T_3)),L_1)\n",
    "    T_1 = -np.matmul(inv(L0+1j*omega*np.eye(N**2)+ np.matmul(L1,T_2)),L_1)\n",
    "\n",
    "    \n",
    "    L = np.matmul(L_1,S1) + L0 +np.matmul(L1,T_1)\n",
    "    \n",
    "    eigenvalues, eigenvectors = eigs(L,k=1,sigma = 0+0j)\n",
    "\n",
    "    rhoss = eigenvectors[:,0]\n",
    "\n",
    "    rhos = np.zeros((N,N),dtype='complex64')\n",
    "    for i in range(N):\n",
    "        for j in range(N):\n",
    "            rhos[j,i] = rhoss[j+i*N]\n",
    "\n",
    "    rho = Qobj(rhos)\n",
    "    if rho.tr() != 0:\n",
    "        rho = rho/rho.tr()\n",
    "\n",
    "    rho_ = operator_to_vector(rho)\n",
    "    #rho_ = np.array(rho_)\n",
    "    rho_ = rho_.data_as('ndarray')\n",
    "\n",
    "    rho1 = np.matmul(S1,rho_)\n",
    "    #rho2 = np.matmul(S2,rho_)\n",
    "    #rho3 = np.matmul(S3,rho_)\n",
    "\n",
    "    rho_1 = np.matmul(T_1,rho_)\n",
    "    #rho_2 = np.matmul(T_2,rho_)\n",
    "    #rho_3 = np.matmul(T_3,rho_)\n",
    "\n",
    "    rhos1 = np.zeros((N,N),dtype='complex64')\n",
    "    #rhos2 = np.zeros((N,N),dtype='complex64')\n",
    "    #rhos3 = np.zeros((N,N),dtype='complex64')\n",
    "    rhos_1 = np.zeros((N,N),dtype='complex64')\n",
    "    #rhos_2 = np.zeros((N,N),dtype='complex64')\n",
    "    #rhos_3 = np.zeros((N,N),dtype='complex64')\n",
    "    for i in range(N):\n",
    "        for j in range(N):\n",
    "            rhos1[j,i] = rho1[j+i*N]\n",
    "            #rhos2[j,i] = rho2[j+i*N]\n",
    "            #rhos3[j,i] = rho3[j+i*N]\n",
    "            rhos_1[j,i] = rho_1[j+i*N]\n",
    "            #rhos_2[j,i] = rho_2[j+i*N]\n",
    "            #rhos_3[j,i] = rho_3[j+i*N]\n",
    "            \n",
    "    Rho1 = Qobj(rhos1)\n",
    "    #Rho2 = Qobj(rhos2)\n",
    "    #Rho3 = Qobj(rhos3)\n",
    "    Rho_1 = Qobj(rhos_1)\n",
    "    #Rho_2 = Qobj(rhos_2)\n",
    "    #Rho_3 = Qobj(rhos_3)\n",
    "\n",
    "    #ree = 0+0j\n",
    "    #rcoh = 0+0j\n",
    "    rabs= 0+0j\n",
    "    for ig in range(1,len(F)):\n",
    "        for mfg in range(-F[ig],F[ig] + 1):\n",
    "            for mfe in range(-F[0],F[0]+1):\n",
    "                for q in range(-1,2):\n",
    "                    #ree+=2*np.pi*1/(2*F[0] + 1)*cg(F,ig,mfg,0,mfe,q)**2*GammaFgFe(F,ig,Je,Jg,I,GammaJgJe)*(\n",
    "                        #expect(base(F,0,mfe)*base(F,0,mfe).dag(),rho))\n",
    "\n",
    "                    #rcoh+=-1j*2*np.pi*cg(F,ig,mfg,0,mfe,q)*Omega_p[ig-1,q+1]/2*1/np.sqrt(2*F[0]+1)*(\n",
    "                        #expect(base(F,ig,mfg)*base(F,0,mfe).dag(),rho) -(\n",
    "                            #expect(base(F,0,mfe)*base(F,ig,mfg).dag(),rho)))\n",
    "\n",
    "                    rabs+=-1j*2*np.pi*eta[ig-1]*cg(F,ig,mfg,0,mfe,q)*Omega_p[ig-1,q+1]/2*1/np.sqrt(2*F[0]+1)*(\n",
    "                        expect(base(F,ig,mfg)*base(F,0,mfe).dag(),Rho_1)-expect(base(F,0,mfe)*base(F,ig,mfg).dag(),Rho1))\n",
    "\n",
    "        \n",
    "        \n",
    "\n",
    "    #return popes,coh,abs\n",
    "    return rabs"
   ]
  },
  {
   "cell_type": "code",
   "execution_count": 49,
   "metadata": {},
   "outputs": [],
   "source": [
    "#system parameters\n",
    "c = 299792458\n",
    "λ = 646e-9\n",
    "f = c/λ \n",
    "f_1 = 11.2e9\n",
    "f_2 = 10.5e9\n",
    "\n",
    "#176Lu+\n",
    "amu = 1.66053886e-27\n",
    "hbar = 1.054571817e-34\n",
    "M = 176*amu\n",
    "\n",
    "omega0  = 1.4\n",
    "\n",
    "eta = []\n",
    "\n",
    "eta2 = 2*np.pi*f/c*np.sqrt(hbar/(2*M*2*np.pi*omega0*10**(6)))\n",
    "eta.append(eta2)\n",
    "\n",
    "eta3 = 2*np.pi*(f-f_1)/c*np.sqrt(hbar/(2*M*2*np.pi*omega0*10**(6)))\n",
    "eta.append(eta3)\n",
    "\n",
    "eta4 = -2*np.pi*(f-f_2)/c*np.sqrt(hbar/(2*M*2*np.pi*omega0*10**(6)))\n",
    "eta.append(eta4)\n",
    "\n",
    "#eta = [0.01,0.01,-0.01]\n",
    "#eta = [1e-4,1e-4,-1e-4]\n",
    "#eta = [1e-8,1e-8,-1e-8]\n",
    "#eta = [0.1,0.1,-0.1]"
   ]
  },
  {
   "cell_type": "code",
   "execution_count": 51,
   "metadata": {},
   "outputs": [],
   "source": [
    "#Rabi frequencies Ω_F,F' #1/2π (MHz)\n",
    "omega = [23.5,10,23.5]\n",
    "\n",
    "#turn on/off polarization\n",
    "Omega_p= np.zeros((3,3)) # (ig-1, q + 1) transition from F[ig] state to F' with polarization q\n",
    "\n",
    "Omega_p[0,0] = Omega_p[0,2] = omega[0]       #σ+ and σ- for F=F[1] to F'= F[0]\n",
    "Omega_p[1,0] = Omega_p[1,2] = omega[1]      #σ+ and σ- for F=F[2] to F'=F[0]\n",
    "Omega_p[2,0] = Omega_p[2,2] = omega[2]     #σ+ and σ- for F=F[3] to F'=F[0]\n",
    "\n",
    "B = 5e-04\n",
    "Delta = [0,10,Delta_ds[-2],20]\n",
    "\n",
    "\n",
    "GammaJgJe = 2.44745\n",
    "c_ops1 = c_ops(F,GammaJgJe)"
   ]
  },
  {
   "cell_type": "code",
   "execution_count": 53,
   "metadata": {},
   "outputs": [],
   "source": [
    "Gammas = np.array([2.44745,5,7.5,10,12.5,15,20,25,30,35,40,45,50,55,60,65,70,75,80])"
   ]
  },
  {
   "cell_type": "code",
   "execution_count": 55,
   "metadata": {},
   "outputs": [
    {
     "name": "stderr",
     "output_type": "stream",
     "text": [
      "  0%|                                                                                               | 0/19 [00:00<?, ?it/s]C:\\Users\\kfouka\\AppData\\Local\\Temp\\ipykernel_26872\\18842625.py:84: DeprecationWarning: Conversion of an array with ndim > 0 to a scalar is deprecated, and will error in future. Ensure you extract a single element from your array before performing this operation. (Deprecated NumPy 1.25.)\n",
      "  rhos1[j,i] = rho1[j+i*N]\n",
      "C:\\Users\\kfouka\\AppData\\Local\\Temp\\ipykernel_26872\\18842625.py:87: DeprecationWarning: Conversion of an array with ndim > 0 to a scalar is deprecated, and will error in future. Ensure you extract a single element from your array before performing this operation. (Deprecated NumPy 1.25.)\n",
      "  rhos_1[j,i] = rho_1[j+i*N]\n",
      "100%|██████████████████████████████████████████████████████████████████████████████████████| 19/19 [00:01<00:00, 13.28it/s]\n"
     ]
    }
   ],
   "source": [
    "wfic = []\n",
    "for GammaJgJe in tqdm(Gammas):\n",
    "    c_ops_ = c_ops(F,GammaJgJe)\n",
    "    abs_r = steck(F=F,N=N,Delta=Delta,Omega_p=Omega_p,eta=eta,c=c_ops_,omega=omega0)\n",
    "    abs_b = steck(F=F,N=N,Delta=Delta,Omega_p=Omega_p,eta=eta,c=c_ops_,omega=-omega0)\n",
    "    wfic.append((abs_r-abs_b).real)"
   ]
  },
  {
   "cell_type": "code",
   "execution_count": 57,
   "metadata": {},
   "outputs": [
    {
     "data": {
      "image/png": "[encoded data removed]",
      "text/plain": [
       "<Figure size 640x480 with 1 Axes>"
      ]
     },
     "metadata": {},
     "output_type": "display_data"
    }
   ],
   "source": [
    "plt.figure()\n",
    "#plt.title('W_{exp}')\n",
    "plt.scatter(Gammas,wfic)\n",
    "#plt.xlim(0,5000)\n",
    "#plt.legend()\n",
    "plt.ylabel('$\\widetilde{W}$')\n",
    "plt.xlabel('$Γ$ (ΜΗz/2π)')\n",
    "#plt.ylim(0)\n",
    "#plt.xlim(0)\n",
    "#plt.savefig(\"I1_eta_Wtilde.png\",bbox_inches = \"tight\")\n",
    "\n",
    "\n",
    "plt.show()"
   ]
  },
  {
   "cell_type": "code",
   "execution_count": 59,
   "metadata": {},
   "outputs": [
    {
     "data": {
      "text/plain": [
       "[0.016985140309914805,\n",
       " 0.0320627845098643,\n",
       " 0.0427381150129642,\n",
       " 0.04927510125611784,\n",
       " 0.05244160550052404,\n",
       " 0.05323276788272633,\n",
       " 0.05092828576006249,\n",
       " 0.046664646039257594,\n",
       " 0.04221031180456492,\n",
       " 0.03814761538975409,\n",
       " 0.03460635152198925,\n",
       " 0.031562669060320944,\n",
       " 0.028949951681627974,\n",
       " 0.02669753370346309,\n",
       " 0.024742766763003646,\n",
       " 0.023033524761463867,\n",
       " 0.021527525760336255,\n",
       " 0.02019076874180981,\n",
       " 0.01899594638392355]"
      ]
     },
     "execution_count": 59,
     "metadata": {},
     "output_type": "execute_result"
    }
   ],
   "source": [
    "wfic"
   ]
  },
  {
   "cell_type": "markdown",
   "metadata": {},
   "source": [
    "## Fluctuation Spectrum"
   ]
  },
  {
   "cell_type": "code",
   "execution_count": 62,
   "metadata": {},
   "outputs": [],
   "source": [
    "def H_I_(F,Omega_p):\n",
    "    HI=0*basis(N,0)*basis(N,0).dag()\n",
    "    for mFe in range(-F[0],F[0] + 1):\n",
    "        for ig in range(1,len(F)):\n",
    "            for mFg in range(-F[ig],F[ig]+1):\n",
    "                for q in range(-1,2):\n",
    "                    HI += 2*np.pi*cg(F,ig,mFg,0,mFe,q)*Omega_p[ig-1,q+1]/2*base(F,0,mFe)*base(F,ig,mFg).dag()\n",
    "                \n",
    "    return -1/np.sqrt(2*F[0]+1)*(HI + HI.dag()) "
   ]
  },
  {
   "cell_type": "code",
   "execution_count": 64,
   "metadata": {},
   "outputs": [],
   "source": [
    "def H_0_(F,Delta):\n",
    "    H0 = 0*basis(N,0)*basis(N,0).dag()\n",
    "    for l in range(len(F)):\n",
    "        for mF in range(-F[l],F[l]+1):\n",
    "            H0 += 2*np.pi*(Delta[l] + gF[l]*muB*mF*B)*base(F,l,mF)*base(F,l,mF).dag() \n",
    "    return H0"
   ]
  },
  {
   "cell_type": "code",
   "execution_count": 66,
   "metadata": {},
   "outputs": [],
   "source": [
    "def H_1(F,Omega_p,eta):\n",
    "    HI=0*basis(N,0)*basis(N,0).dag()\n",
    "    for mFe in range(-F[0],F[0] + 1):\n",
    "        for ig in range(1,len(F)):\n",
    "            for mFg in range(-F[ig],F[ig]+1):\n",
    "                for q in range(-1,2):\n",
    "                    HI += eta[ig-1]*2*np.pi*cg(F,ig,mFg,0,mFe,q)*Omega_p[ig-1,q+1]/2*base(F,0,mFe)*base(F,ig,mFg).dag()\n",
    "                \n",
    "    return 1/np.sqrt(2*F[0]+1)*(HI + HI.dag()) "
   ]
  },
  {
   "cell_type": "code",
   "execution_count": 68,
   "metadata": {},
   "outputs": [],
   "source": [
    "def S_(F,Delta,Omega_p,omega0,c,eta):\n",
    "    H0_ = H_0_(F,Delta)\n",
    "    HI_ = H_I_(F,Omega_p) \n",
    "    \n",
    "\n",
    "    H0 = H0_ + HI_ \n",
    "\n",
    "    L0 = 0*spre(c[0])*spost(c[0].dag())\n",
    "    for i in range(len(c)):\n",
    "        L0 += spre(c[i])*spost(c[i].dag()) - 0.5*(spre(c[i].dag()*c[i]) + spost(c[i].dag()*c[i]))\n",
    "    #L0 = sum(c)\n",
    "\n",
    "    L0 += -1j*(spre(H0) - spost(H0))\n",
    "    \n",
    "    #L0 = np.array(L0)\n",
    "    L0 = L0.data_as('ndarray')\n",
    "\n",
    "    V1 = H_1(F,Omega_p,eta)\n",
    "    \n",
    "    rho = steadystate(H0,c) #!\n",
    "\n",
    "    V1rho = V1*rho\n",
    "\n",
    "    V1rho = operator_to_vector(V1rho)\n",
    "    #V1rho = np.array(V1rho)\n",
    "    V1rho = V1rho.data_as('ndarray')\n",
    "\n",
    "    #eye = np.array(operator_to_vector(tensor(qeye(N),qeye(Nmotion))))\n",
    "    eye = np.eye(N**2)\n",
    "    inve = inv(-(L0+1j*2*np.pi*omega0*eye))\n",
    "\n",
    "    s = np.matmul(inve,V1rho)\n",
    "\n",
    "    S = np.zeros((N,N),dtype=np.complex_)\n",
    "    for i in range(N):\n",
    "        for j in range(N):\n",
    "            S[j,i] = s[N*i+j][0]\n",
    "\n",
    "    #V1 = np.array(V1)\n",
    "    V1 =V1.data_as('ndarray')\n",
    "    S = np.matmul(V1,S)\n",
    "\n",
    "\n",
    "    return np.matrix.trace(S)"
   ]
  },
  {
   "cell_type": "code",
   "execution_count": 70,
   "metadata": {},
   "outputs": [],
   "source": [
    "#Rabi frequencies Ω_F,F' #1/2π (MHz)\n",
    "omega = [23.5,10,23.5]\n",
    "\n",
    "#turn on/off polarization\n",
    "Omega_p= np.zeros((3,3)) # (ig-1, q + 1) transition from F[ig] state to F' with polarization q\n",
    "\n",
    "Omega_p[0,0] = Omega_p[0,2] = omega[0]       #σ+ and σ- for F=F[1] to F'= F[0]\n",
    "Omega_p[1,0] = Omega_p[1,2] = omega[1]      #σ+ and σ- for F=F[2] to F'=F[0]\n",
    "Omega_p[2,0] = Omega_p[2,2] = omega[2]     #σ+ and σ- for F=F[3] to F'=F[0]\n",
    "\n",
    "B = 5e-04\n",
    "Delta = [0,10,Delta_ds[-2],20]\n",
    "\n",
    "omega0=1.4\n",
    "eta=[0.044,0.044,-0.044]\n",
    "GammaJgJe = 2.44745*2*np.pi\n",
    "c_ops5 = c_ops(F,GammaJgJe)\n",
    "\n",
    "\n",
    "params = dict(F=F,Delta=Delta,Omega_p=Omega_p,omega0=omega0,c=c_ops5,eta=eta)"
   ]
  },
  {
   "cell_type": "code",
   "execution_count": 72,
   "metadata": {},
   "outputs": [
    {
     "data": {
      "text/plain": [
       "array([ 2.44745,  5.     ,  7.5    , 10.     , 12.5    , 15.     ,\n",
       "       20.     , 25.     , 30.     , 35.     , 40.     , 45.     ,\n",
       "       50.     , 55.     , 60.     , 65.     , 70.     , 75.     ,\n",
       "       80.     ])"
      ]
     },
     "execution_count": 72,
     "metadata": {},
     "output_type": "execute_result"
    }
   ],
   "source": [
    "Gammas"
   ]
  },
  {
   "cell_type": "code",
   "execution_count": 74,
   "metadata": {},
   "outputs": [
    {
     "name": "stderr",
     "output_type": "stream",
     "text": [
      "100%|██████████████████████████████████████████████████████████████████████████████████████| 19/19 [00:01<00:00, 15.94it/s]\n"
     ]
    }
   ],
   "source": [
    "ws = []\n",
    "for GammaJgJe in tqdm(2*np.pi*Gammas):\n",
    "    c_ops_ = c_ops(F,GammaJgJe)\n",
    "    A_m = S_(F=F,Delta=Delta,Omega_p=Omega_p,omega0=omega0,c=c_ops_,eta=eta)\n",
    "    A_p = S_(F=F,Delta=Delta,Omega_p=Omega_p,omega0=-omega0,c=c_ops_,eta=eta)\n",
    "    ws.append((2*A_m-2*A_p).real)"
   ]
  },
  {
   "cell_type": "code",
   "execution_count": 76,
   "metadata": {},
   "outputs": [
    {
     "data": {
      "image/png": "[encoded data removed]",
      "text/plain": [
       "<Figure size 640x480 with 1 Axes>"
      ]
     },
     "metadata": {},
     "output_type": "display_data"
    }
   ],
   "source": [
    "plt.figure()\n",
    "#plt.title('W_{exp}')\n",
    "plt.scatter(Gammas,wfic,label='$\\widetilde{W}$')\n",
    "plt.scatter(Gammas,ws,label='W')\n",
    "#plt.xlim(0,5000)\n",
    "plt.legend()\n",
    "plt.ylabel('$W$')\n",
    "plt.xlabel('$Γ$ (ΜΗz/2π)')\n",
    "#plt.yscale(\"log\")\n",
    "#plt.ylim(0)\n",
    "#plt.xlim(0)\n",
    "#plt.savefig(\"I1_eta_W.png\",bbox_inches = \"tight\")\n",
    "\n",
    "\n",
    "plt.show()"
   ]
  },
  {
   "cell_type": "markdown",
   "metadata": {},
   "source": [
    "## Cooling"
   ]
  },
  {
   "cell_type": "code",
   "execution_count": 49,
   "metadata": {},
   "outputs": [],
   "source": [
    "from scipy.optimize import minimize_scalar"
   ]
  },
  {
   "cell_type": "code",
   "execution_count": 50,
   "metadata": {},
   "outputs": [],
   "source": [
    "def func(x,Nmax,nbar):\n",
    "    \n",
    "    Z = (1-np.exp(-(Nmax+1)*x))/(1-np.exp(-x))\n",
    "    n = np.exp(-Nmax*x)*(np.exp((Nmax + 1)*x) -(Nmax+1)*np.exp(x) + Nmax)/(np.exp(x) -1)**2\n",
    "    \n",
    "    \n",
    "    return np.abs(nbar - n/Z)"
   ]
  },
  {
   "cell_type": "code",
   "execution_count": 51,
   "metadata": {},
   "outputs": [],
   "source": [
    "Nmax=14\n",
    "nbar=3\n",
    "res = minimize_scalar(func,args=(Nmax,nbar),bounds=(0, 1), method='bounded')"
   ]
  },
  {
   "cell_type": "code",
   "execution_count": 52,
   "metadata": {},
   "outputs": [],
   "source": [
    "x = res.x"
   ]
  },
  {
   "cell_type": "code",
   "execution_count": 53,
   "metadata": {},
   "outputs": [
    {
     "data": {
      "text/plain": [
       "0.002527075613606284"
      ]
     },
     "execution_count": 53,
     "metadata": {},
     "output_type": "execute_result"
    }
   ],
   "source": [
    "hbar = 1.054571817e-34\n",
    "kB = 1.380649e-23\n",
    "omega = 2*np.pi*1.4*10e6\n",
    "#x = 0.184132\n",
    "Z = (1-np.exp(-(Nmax+1)*x))/(1-np.exp(-x))\n",
    "\n",
    "T = hbar*omega/(kB*x)\n",
    "T"
   ]
  },
  {
   "cell_type": "code",
   "execution_count": 54,
   "metadata": {},
   "outputs": [],
   "source": [
    "P = []\n",
    "for i in range(Nmax+1): #Nmotion=15 but for <n> =3 keep up to i=10\n",
    "    P.append(np.exp(-i*x)/Z)"
   ]
  },
  {
   "cell_type": "code",
   "execution_count": 55,
   "metadata": {},
   "outputs": [],
   "source": [
    "Pn = []\n",
    "for i in range(Nmax+1):\n",
    "    Pn.append(np.exp(-i*x)/Z*i)"
   ]
  },
  {
   "cell_type": "code",
   "execution_count": 56,
   "metadata": {},
   "outputs": [],
   "source": [
    "t = []\n",
    "n = []\n",
    "for i in range(Nmax+1):\n",
    "    t.append(np.loadtxt(\"\"+str(path_name)+\"data_B5.0_D10_10_D12_20_O10_O11_23.5_O11_10_\"+str(i)+\"_Gamma_2.44745_ntraj_500_improved_step.txt\")[:, 0])\n",
    "    n.append(np.loadtxt(\"\"+str(path_name)+\"data_B5.0_D10_10_D12_20_O10_O11_23.5_O11_10_\"+str(i)+\"_Gamma_2.44745_ntraj_500_improved_step.txt\")[:, 1])"
   ]
  },
  {
   "cell_type": "code",
   "execution_count": 57,
   "metadata": {},
   "outputs": [],
   "source": [
    "nMC = np.zeros(len(t[0]))\n",
    "for i in range(Nmax+1):\n",
    "    nMC +=np.array(n[i])*P[i]"
   ]
  },
  {
   "cell_type": "code",
   "execution_count": 58,
   "metadata": {},
   "outputs": [],
   "source": [
    "t1 = []\n",
    "n1= []\n",
    "for i in range(Nmax+1):\n",
    "    t1.append(np.loadtxt(\"\"+str(path_name)+\"data_B5.0_D10_10_D12_20_O10_O11_23.5_O11_10_\"+str(i)+\"_state_7_Gamma_5.txt\")[:, 0])\n",
    "    n1.append(np.loadtxt(\"\"+str(path_name)+\"data_B5.0_D10_10_D12_20_O10_O11_23.5_O11_10_\"+str(i)+\"_state_7_Gamma_5.txt\")[:, 1])                                                                                "
   ]
  },
  {
   "cell_type": "code",
   "execution_count": 59,
   "metadata": {},
   "outputs": [],
   "source": [
    "nMC1 = np.zeros(len(t1[0]))\n",
    "for i in range(Nmax+1):\n",
    "    nMC1 +=np.array(n1[i])*P[i]"
   ]
  },
  {
   "cell_type": "code",
   "execution_count": 60,
   "metadata": {},
   "outputs": [],
   "source": [
    "t2 = []\n",
    "n2 = []\n",
    "for i in range(Nmax+1):\n",
    "    t2.append(np.loadtxt(\"\"+str(path_name)+\"data_B5.0_D10_10_D12_20_O10_O11_23.5_O11_10_\"+str(i)+\"_state_7_Gamma_7.5.txt\")[:, 0])\n",
    "    n2.append(np.loadtxt(\"\"+str(path_name)+\"data_B5.0_D10_10_D12_20_O10_O11_23.5_O11_10_\"+str(i)+\"_state_7_Gamma_7.5.txt\")[:, 1])        "
   ]
  },
  {
   "cell_type": "code",
   "execution_count": 61,
   "metadata": {},
   "outputs": [],
   "source": [
    "nMC2 = np.zeros(len(t2[0]))\n",
    "for i in range(Nmax+1):\n",
    "    nMC2 +=np.array(n2[i])*P[i]"
   ]
  },
  {
   "cell_type": "code",
   "execution_count": 62,
   "metadata": {},
   "outputs": [],
   "source": [
    "t3 = []\n",
    "n3= []\n",
    "for i in range(Nmax+1):\n",
    "    t3.append(np.loadtxt(\"\"+str(path_name)+\"data_B5.0_D10_10_D12_20_O10_O11_23.5_O11_10_\"+str(i)+\"_state_7_Gamma_10.txt\")[:, 0])\n",
    "    n3.append(np.loadtxt(\"\"+str(path_name)+\"data_B5.0_D10_10_D12_20_O10_O11_23.5_O11_10_\"+str(i)+\"_state_7_Gamma_10.txt\")[:, 1])        "
   ]
  },
  {
   "cell_type": "code",
   "execution_count": 63,
   "metadata": {},
   "outputs": [],
   "source": [
    "nMC3 = np.zeros(len(t3[0]))\n",
    "for i in range(Nmax+1):\n",
    "    nMC3 +=np.array(n3[i])*P[i]"
   ]
  },
  {
   "cell_type": "code",
   "execution_count": 64,
   "metadata": {},
   "outputs": [],
   "source": [
    "t4 = []\n",
    "n4= []\n",
    "for i in range(Nmax+1):\n",
    "    t4.append(np.loadtxt(\"\"+str(path_name)+\"data_B5.0_D10_10_D12_20_O10_O11_23.5_O11_10_\"+str(i)+\"_state_7_Gamma_12.5.txt\")[:, 0])\n",
    "    n4.append(np.loadtxt(\"\"+str(path_name)+\"data_B5.0_D10_10_D12_20_O10_O11_23.5_O11_10_\"+str(i)+\"_state_7_Gamma_12.5.txt\")[:, 1])        "
   ]
  },
  {
   "cell_type": "code",
   "execution_count": 65,
   "metadata": {},
   "outputs": [],
   "source": [
    "nMC4 = np.zeros(len(t4[0]))\n",
    "for i in range(Nmax+1):\n",
    "    nMC4 +=np.array(n4[i])*P[i]"
   ]
  },
  {
   "cell_type": "code",
   "execution_count": 66,
   "metadata": {},
   "outputs": [],
   "source": [
    "t5 = []\n",
    "n5= []\n",
    "for i in range(Nmax+1):\n",
    "    t5.append(np.loadtxt(\"\"+str(path_name)+\"data_B5.0_D10_10_D12_20_O10_O11_23.5_O11_10_\"+str(i)+\"_state_7_Gamma_15.txt\")[:, 0])\n",
    "    n5.append(np.loadtxt(\"\"+str(path_name)+\"data_B5.0_D10_10_D12_20_O10_O11_23.5_O11_10_\"+str(i)+\"_state_7_Gamma_15.txt\")[:, 1])        "
   ]
  },
  {
   "cell_type": "code",
   "execution_count": 67,
   "metadata": {},
   "outputs": [],
   "source": [
    "nMC5 = np.zeros(len(t5[0]))\n",
    "for i in range(Nmax+1):\n",
    "    nMC5 +=np.array(n5[i])*P[i]"
   ]
  },
  {
   "cell_type": "code",
   "execution_count": 68,
   "metadata": {},
   "outputs": [],
   "source": [
    "t6 = []\n",
    "n6 = []\n",
    "for i in range(Nmax+1):\n",
    "    t6.append(np.loadtxt(\"\"+str(path_name)+\"data_B5.0_D10_10_D12_20_O10_O11_23.5_O11_10_\"+str(i)+\"_state_7_Gamma_20.txt\")[:, 0])\n",
    "    n6.append(np.loadtxt(\"\"+str(path_name)+\"data_B5.0_D10_10_D12_20_O10_O11_23.5_O11_10_\"+str(i)+\"_state_7_Gamma_20.txt\")[:, 1])        "
   ]
  },
  {
   "cell_type": "code",
   "execution_count": 69,
   "metadata": {},
   "outputs": [],
   "source": [
    "nMC6 = np.zeros(len(t6[0]))\n",
    "for i in range(Nmax+1):\n",
    "    nMC6 +=np.array(n6[i])*P[i]"
   ]
  },
  {
   "cell_type": "code",
   "execution_count": 70,
   "metadata": {},
   "outputs": [],
   "source": [
    "t7 = []\n",
    "n7 = []\n",
    "for i in range(Nmax+1):\n",
    "    t7.append(np.loadtxt(\"\"+str(path_name)+\"data_B5.0_D10_10_D12_20_O10_O11_23.5_O11_10_\"+str(i)+\"_state_7_Gamma_25.txt\")[:, 0])\n",
    "    n7.append(np.loadtxt(\"\"+str(path_name)+\"data_B5.0_D10_10_D12_20_O10_O11_23.5_O11_10_\"+str(i)+\"_state_7_Gamma_25.txt\")[:, 1])        "
   ]
  },
  {
   "cell_type": "code",
   "execution_count": 71,
   "metadata": {},
   "outputs": [],
   "source": [
    "nMC7 = np.zeros(len(t7[0]))\n",
    "for i in range(Nmax+1):\n",
    "    nMC7 +=np.array(n7[i])*P[i]"
   ]
  },
  {
   "cell_type": "code",
   "execution_count": 72,
   "metadata": {},
   "outputs": [],
   "source": [
    "t8 = []\n",
    "n8 = []\n",
    "for i in range(Nmax+1):\n",
    "    t8.append(np.loadtxt(\"\"+str(path_name)+\"data_B5.0_D10_10_D12_20_O10_O11_23.5_O11_10_\"+str(i)+\"_state_7_Gamma_30.txt\")[:, 0])\n",
    "    n8.append(np.loadtxt(\"\"+str(path_name)+\"data_Gamma25/data_B5.0_D10_10_D12_20_O10_O11_23.5_O11_10_\"+str(i)+\"_state_7_Gamma_30.txt\")[:, 1])        "
   ]
  },
  {
   "cell_type": "code",
   "execution_count": 73,
   "metadata": {},
   "outputs": [],
   "source": [
    "nMC8 = np.zeros(len(t8[0]))\n",
    "for i in range(Nmax+1):\n",
    "    nMC8 +=np.array(n8[i])*P[i]"
   ]
  },
  {
   "cell_type": "code",
   "execution_count": 74,
   "metadata": {},
   "outputs": [],
   "source": [
    "t9 = []\n",
    "n9 = []\n",
    "for i in range(Nmax+1):\n",
    "    t9.append(np.loadtxt(\"\"+str(path_name)+\"data_B5.0_D10_10_D12_20_O10_O11_23.5_O11_10_\"+str(i)+\"_state_7_Gamma_35.txt\")[:, 0])\n",
    "    n9.append(np.loadtxt(\"\"+str(path_name)+\"data_B5.0_D10_10_D12_20_O10_O11_23.5_O11_10_\"+str(i)+\"_state_7_Gamma_35.txt\")[:, 1])        "
   ]
  },
  {
   "cell_type": "code",
   "execution_count": 75,
   "metadata": {},
   "outputs": [],
   "source": [
    "nMC9 = np.zeros(len(t9[0]))\n",
    "for i in range(Nmax+1):\n",
    "    nMC9 +=np.array(n9[i])*P[i]"
   ]
  },
  {
   "cell_type": "code",
   "execution_count": 76,
   "metadata": {},
   "outputs": [],
   "source": [
    "t10 = []\n",
    "n10 = []\n",
    "for i in range(Nmax+1):\n",
    "    t10.append(np.loadtxt(\"\"+str(path_name)+\"data_B5.0_D10_10_D12_20_O10_O11_23.5_O11_10_\"+str(i)+\"_state_7_Gamma_40.txt\")[:, 0])\n",
    "    n10.append(np.loadtxt(\"\"+str(path_name)+\"data_B5.0_D10_10_D12_20_O10_O11_23.5_O11_10_\"+str(i)+\"_state_7_Gamma_40.txt\")[:, 1])        "
   ]
  },
  {
   "cell_type": "code",
   "execution_count": 77,
   "metadata": {},
   "outputs": [],
   "source": [
    "nMC10 = np.zeros(len(t10[0]))\n",
    "for i in range(Nmax+1):\n",
    "    nMC10 +=np.array(n10[i])*P[i]"
   ]
  },
  {
   "cell_type": "code",
   "execution_count": 78,
   "metadata": {},
   "outputs": [],
   "source": [
    "t11 = []\n",
    "n11 = []\n",
    "for i in range(Nmax+1):\n",
    "    t11.append(np.loadtxt(\"\"+str(path_name)+\"data_B5.0_D10_10_D12_20_O10_O11_23.5_O11_10_\"+str(i)+\"_state_7_Gamma_45.txt\")[:, 0])\n",
    "    n11.append(np.loadtxt(\"\"+str(path_name)+\"data_B5.0_D10_10_D12_20_O10_O11_23.5_O11_10_\"+str(i)+\"_state_7_Gamma_45.txt\")[:, 1])        "
   ]
  },
  {
   "cell_type": "code",
   "execution_count": 79,
   "metadata": {},
   "outputs": [],
   "source": [
    "nMC11 = np.zeros(len(t11[0]))\n",
    "for i in range(Nmax+1):\n",
    "    nMC11 +=np.array(n11[i])*P[i]"
   ]
  },
  {
   "cell_type": "code",
   "execution_count": 80,
   "metadata": {},
   "outputs": [],
   "source": [
    "t12 = []\n",
    "n12 = []\n",
    "for i in range(Nmax+1):\n",
    "    t12.append(np.loadtxt(\"\"+str(path_name)+\"data_B5.0_D10_10_D12_20_O10_O11_23.5_O11_10_\"+str(i)+\"_state_7_Gamma_50.txt\")[:, 0])\n",
    "    n12.append(np.loadtxt(\"\"+str(path_name)+\"data_B5.0_D10_10_D12_20_O10_O11_23.5_O11_10_\"+str(i)+\"_state_7_Gamma_50.txt\")[:, 1])        "
   ]
  },
  {
   "cell_type": "code",
   "execution_count": 81,
   "metadata": {},
   "outputs": [],
   "source": [
    "nMC12 = np.zeros(len(t12[0]))\n",
    "for i in range(Nmax+1):\n",
    "    nMC12 +=np.array(n12[i])*P[i]"
   ]
  },
  {
   "cell_type": "code",
   "execution_count": 82,
   "metadata": {},
   "outputs": [],
   "source": [
    "t13 = []\n",
    "n13 = []\n",
    "for i in range(Nmax+1):\n",
    "    t13.append(np.loadtxt(\"\"+str(path_name)+\"data_B5.0_D10_10_D12_20_O10_O11_23.5_O11_10_\"+str(i)+\"_state_7_Gamma_55.txt\")[:, 0])\n",
    "    n13.append(np.loadtxt(\"\"+str(path_name)+\"data_B5.0_D10_10_D12_20_O10_O11_23.5_O11_10_\"+str(i)+\"_state_7_Gamma_55.txt\")[:, 1])        "
   ]
  },
  {
   "cell_type": "code",
   "execution_count": 83,
   "metadata": {},
   "outputs": [],
   "source": [
    "nMC13 = np.zeros(len(t13[0]))\n",
    "for i in range(Nmax+1):\n",
    "    nMC13 +=np.array(n13[i])*P[i]"
   ]
  },
  {
   "cell_type": "code",
   "execution_count": 84,
   "metadata": {},
   "outputs": [],
   "source": [
    "t14 = []\n",
    "n14 = []\n",
    "for i in range(Nmax+1):\n",
    "    t14.append(np.loadtxt(\"\"+str(path_name)+\"data_B5.0_D10_10_D12_20_O10_O11_23.5_O11_10_\"+str(i)+\"_state_7_Gamma_60.txt\")[:, 0])\n",
    "    n14.append(np.loadtxt(\"\"+str(path_name)+\"data_B5.0_D10_10_D12_20_O10_O11_23.5_O11_10_\"+str(i)+\"_state_7_Gamma_60.txt\")[:, 1])        "
   ]
  },
  {
   "cell_type": "code",
   "execution_count": 85,
   "metadata": {},
   "outputs": [],
   "source": [
    "nMC14 = np.zeros(len(t14[0]))\n",
    "for i in range(Nmax+1):\n",
    "    nMC14 +=np.array(n14[i])*P[i]"
   ]
  },
  {
   "cell_type": "code",
   "execution_count": 86,
   "metadata": {},
   "outputs": [],
   "source": [
    "t15 = []\n",
    "n15 = []\n",
    "for i in range(Nmax+1):\n",
    "    t15.append(np.loadtxt(\"\"+str(path_name)+\"data_B5.0_D10_10_D12_20_O10_O11_23.5_O11_10_\"+str(i)+\"_state_7_Gamma_65.txt\")[:, 0])\n",
    "    n15.append(np.loadtxt(\"\"+str(path_name)+\"data_B5.0_D10_10_D12_20_O10_O11_23.5_O11_10_\"+str(i)+\"_state_7_Gamma_65.txt\")[:, 1])        "
   ]
  },
  {
   "cell_type": "code",
   "execution_count": 87,
   "metadata": {},
   "outputs": [],
   "source": [
    "nMC15 = np.zeros(len(t15[0]))\n",
    "for i in range(Nmax+1):\n",
    "    nMC15 +=np.array(n15[i])*P[i]"
   ]
  },
  {
   "cell_type": "code",
   "execution_count": 88,
   "metadata": {},
   "outputs": [],
   "source": [
    "t16 = []\n",
    "n16 = []\n",
    "for i in range(Nmax+1):\n",
    "    t16.append(np.loadtxt(\"\"+str(path_name)+\"data_B5.0_D10_10_D12_20_O10_O11_23.5_O11_10_\"+str(i)+\"_state_7_Gamma_70.txt\")[:, 0])\n",
    "    n16.append(np.loadtxt(\"\"+str(path_name)+\"data_B5.0_D10_10_D12_20_O10_O11_23.5_O11_10_\"+str(i)+\"_state_7_Gamma_70.txt\")[:, 1])        "
   ]
  },
  {
   "cell_type": "code",
   "execution_count": 89,
   "metadata": {},
   "outputs": [],
   "source": [
    "nMC16 = np.zeros(len(t16[0]))\n",
    "for i in range(Nmax+1):\n",
    "    nMC16 +=np.array(n16[i])*P[i]"
   ]
  },
  {
   "cell_type": "code",
   "execution_count": 90,
   "metadata": {},
   "outputs": [],
   "source": [
    "t17 = []\n",
    "n17 = []\n",
    "for i in range(Nmax+1):\n",
    "    t17.append(np.loadtxt(\"\"+str(path_name)+\"data_B5.0_D10_10_D12_20_O10_O11_23.5_O11_10_\"+str(i)+\"_state_7_Gamma_75.txt\")[:, 0])\n",
    "    n17.append(np.loadtxt(\"\"+str(path_name)+\"data_B5.0_D10_10_D12_20_O10_O11_23.5_O11_10_\"+str(i)+\"_state_7_Gamma_75.txt\")[:, 1])        "
   ]
  },
  {
   "cell_type": "code",
   "execution_count": 91,
   "metadata": {},
   "outputs": [],
   "source": [
    "nMC17 = np.zeros(len(t17[0]))\n",
    "for i in range(Nmax+1):\n",
    "    nMC17 +=np.array(n17[i])*P[i]"
   ]
  },
  {
   "cell_type": "code",
   "execution_count": 92,
   "metadata": {},
   "outputs": [],
   "source": [
    "t18 = []\n",
    "n18 = []\n",
    "for i in range(Nmax+1):\n",
    "    t18.append(np.loadtxt(\"\"+str(path_name)+\"data_B5.0_D10_10_D12_20_O10_O11_23.5_O11_10_\"+str(i)+\"_state_7_Gamma_80.txt\")[:, 0])\n",
    "    n18.append(np.loadtxt(\"\"+str(path_name)+\"data_B5.0_D10_10_D12_20_O10_O11_23.5_O11_10_\"+str(i)+\"_state_7_Gamma_80.txt\")[:, 1])       "
   ]
  },
  {
   "cell_type": "code",
   "execution_count": 93,
   "metadata": {},
   "outputs": [],
   "source": [
    "nMC18 = np.zeros(len(t18[0]))\n",
    "for i in range(Nmax+1):\n",
    "    nMC18 +=np.array(n18[i])*P[i]"
   ]
  },
  {
   "cell_type": "code",
   "execution_count": 94,
   "metadata": {},
   "outputs": [
    {
     "data": {
      "image/png": "[encoded data removed]",
      "text/plain": [
       "<Figure size 640x480 with 1 Axes>"
      ]
     },
     "metadata": {},
     "output_type": "display_data"
    }
   ],
   "source": [
    "plt.figure()\n",
    "#plt.title(\"I=1\")\n",
    "\n",
    "#plt.plot(np.linspace(-10*GammaJgJe,20*GammaJgJe,200),pope1)\n",
    "plt.plot(t[0]*1e-3,nMC,label='Γ=2.5 ΜΗz')\n",
    "plt.plot(t1[0]*1e-3,nMC1,label='Γ=5 ΜΗz')\n",
    "plt.plot(t2[0]*1e-3,nMC2,label='Γ=7.5 ΜΗz')\n",
    "plt.plot(t3[0]*1e-3,nMC3,label='Γ=10 ΜΗz')\n",
    "plt.plot(t4[0]*1e-3,nMC4,label='Γ=12.5 ΜΗz')\n",
    "plt.plot(t5[0]*1e-3,nMC5,label='Γ=15 ΜΗz')\n",
    "plt.plot(t6[0]*1e-3,nMC6,label='Γ=20 ΜΗz')\n",
    "plt.plot(t7[0]*1e-3,nMC7,label='Γ=25 ΜΗz')\n",
    "plt.plot(t8[0]*1e-3,nMC8,label='Γ=30 ΜΗz')\n",
    "plt.plot(t9[0]*1e-3,nMC9,label='Γ=35 ΜΗz')\n",
    "plt.plot(t10[0]*1e-3,nMC10,label='Γ=40 ΜΗz')\n",
    "plt.plot(t11[0]*1e-3,nMC11,label='Γ=45 ΜΗz')\n",
    "plt.plot(t12[0]*1e-3,nMC12,label='Γ=50 ΜΗz')\n",
    "plt.plot(t13[0]*1e-3,nMC13,label='Γ=55 ΜΗz')\n",
    "plt.plot(t14[0]*1e-3,nMC14,label='Γ=60 ΜΗz')\n",
    "plt.plot(t15[0]*1e-3,nMC15,label='Γ=65 ΜΗz')\n",
    "plt.plot(t16[0]*1e-3,nMC16,label='Γ=70 ΜΗz')\n",
    "plt.plot(t17[0]*1e-3,nMC17,label='Γ=75 ΜΗz')\n",
    "plt.plot(t18[0]*1e-3,nMC18,label='Γ=80 ΜΗz')\n",
    "\n",
    "plt.ylabel('$\\\\langle n \\\\rangle$')\n",
    "plt.xlabel('$t$ (ms)')\n",
    "plt.ylim(0)\n",
    "#plt.axvline(10.787075035802768, linestyle='--')\n",
    "#plt.axvline(65, linestyle='--' )\n",
    "#plt.xlim(0,0.1)\n",
    "\n",
    "\n",
    "plt.legend()\n",
    "#plt.savefig(\"I1_cooling_diff_in_state.png\",bbox_inches = \"tight\")\n",
    "plt.show()"
   ]
  },
  {
   "cell_type": "code",
   "execution_count": 95,
   "metadata": {},
   "outputs": [
    {
     "data": {
      "image/png": "[encoded data removed]",
      "text/plain": [
       "<Figure size 640x480 with 1 Axes>"
      ]
     },
     "metadata": {},
     "output_type": "display_data"
    }
   ],
   "source": [
    "plt.figure()\n",
    "#plt.title(\"I=1\")\n",
    "\n",
    "plt.plot(t10[0]*1e-3,nMC10,label='Γ=40 ΜΗz')\n",
    "plt.plot(t11[0]*1e-3,nMC11,label='Γ=45 ΜΗz')\n",
    "plt.plot(t12[0]*1e-3,nMC12,label='Γ=50 ΜΗz')\n",
    "plt.plot(t13[0]*1e-3,nMC13,label='Γ=55 ΜΗz')\n",
    "plt.plot(t14[0]*1e-3,nMC14,label='Γ=60 ΜΗz')\n",
    "plt.plot(t15[0]*1e-3,nMC15,label='Γ=65 ΜΗz')\n",
    "plt.plot(t16[0]*1e-3,nMC16,label='Γ=70 ΜΗz')\n",
    "plt.plot(t17[0]*1e-3,nMC17,label='Γ=75 ΜΗz')\n",
    "plt.plot(t18[0]*1e-3,nMC18,label='Γ=80 ΜΗz')\n",
    "\n",
    "plt.ylabel('$\\\\langle n \\\\rangle$')\n",
    "plt.xlabel('$t$ (ms)')\n",
    "#plt.ylim(0)\n",
    "#plt.axvline(10.787075035802768, linestyle='--')\n",
    "#plt.axvline(65, linestyle='--' )\n",
    "#plt.xlim(0,0.1)\n",
    "plt.yscale(\"log\")\n",
    "\n",
    "\n",
    "plt.legend()\n",
    "#plt.savefig(\"I1_cooling_diff_in_state.png\",bbox_inches = \"tight\")\n",
    "plt.show()"
   ]
  },
  {
   "cell_type": "code",
   "execution_count": 96,
   "metadata": {},
   "outputs": [],
   "source": [
    "def func(t,a,b,c):\n",
    "    return a*np.exp(-b*t) + c*(1-np.exp(-b*t))"
   ]
  },
  {
   "cell_type": "code",
   "execution_count": 97,
   "metadata": {},
   "outputs": [
    {
     "data": {
      "text/plain": [
       "750.37518759"
      ]
     },
     "execution_count": 97,
     "metadata": {},
     "output_type": "execute_result"
    }
   ],
   "source": [
    "t[0][750]"
   ]
  },
  {
   "cell_type": "code",
   "execution_count": 98,
   "metadata": {},
   "outputs": [
    {
     "data": {
      "text/plain": [
       "array([ 3.06869919,  0.00604432, -0.04246837])"
      ]
     },
     "execution_count": 98,
     "metadata": {},
     "output_type": "execute_result"
    }
   ],
   "source": [
    "p0 = (3, .001,.001)\n",
    "popt, pcov = curve_fit(func,t[0][:150],nMC[:150],p0)\n",
    "popt"
   ]
  },
  {
   "cell_type": "code",
   "execution_count": 99,
   "metadata": {},
   "outputs": [
    {
     "data": {
      "text/plain": [
       "400.040004"
      ]
     },
     "execution_count": 99,
     "metadata": {},
     "output_type": "execute_result"
    }
   ],
   "source": [
    "t1[0][4000]"
   ]
  },
  {
   "cell_type": "code",
   "execution_count": 100,
   "metadata": {},
   "outputs": [
    {
     "data": {
      "text/plain": [
       "array([ 3.10998943,  0.01243756, -0.02140035])"
      ]
     },
     "execution_count": 100,
     "metadata": {},
     "output_type": "execute_result"
    }
   ],
   "source": [
    "p0 = (3, .001,.001)\n",
    "popt1, pcov = curve_fit(func,t1[0][:4000],nMC1[:4000],p0)\n",
    "popt1"
   ]
  },
  {
   "cell_type": "code",
   "execution_count": 101,
   "metadata": {},
   "outputs": [
    {
     "data": {
      "text/plain": [
       "300.030003"
      ]
     },
     "execution_count": 101,
     "metadata": {},
     "output_type": "execute_result"
    }
   ],
   "source": [
    "t2[0][3000]"
   ]
  },
  {
   "cell_type": "code",
   "execution_count": 102,
   "metadata": {},
   "outputs": [
    {
     "data": {
      "text/plain": [
       "array([ 3.15591215,  0.01736605, -0.02648777])"
      ]
     },
     "execution_count": 102,
     "metadata": {},
     "output_type": "execute_result"
    }
   ],
   "source": [
    "p0 = (3, .001,.001)\n",
    "popt2, pcov = curve_fit(func,t2[0][:3000],nMC2[:3000],p0)\n",
    "popt2"
   ]
  },
  {
   "cell_type": "code",
   "execution_count": 103,
   "metadata": {},
   "outputs": [
    {
     "data": {
      "text/plain": [
       "200.020002"
      ]
     },
     "execution_count": 103,
     "metadata": {},
     "output_type": "execute_result"
    }
   ],
   "source": [
    "t3[0][4000]"
   ]
  },
  {
   "cell_type": "code",
   "execution_count": 104,
   "metadata": {},
   "outputs": [
    {
     "data": {
      "text/plain": [
       "array([ 3.18264886,  0.02123503, -0.05146276])"
      ]
     },
     "execution_count": 104,
     "metadata": {},
     "output_type": "execute_result"
    }
   ],
   "source": [
    "p0 = (3, .001,.001)\n",
    "popt3, pcov = curve_fit(func,t3[0][:4000],nMC3[:4000],p0)\n",
    "popt3"
   ]
  },
  {
   "cell_type": "code",
   "execution_count": 105,
   "metadata": {},
   "outputs": [
    {
     "data": {
      "text/plain": [
       "150.0150015"
      ]
     },
     "execution_count": 105,
     "metadata": {},
     "output_type": "execute_result"
    }
   ],
   "source": [
    "t4[0][3000]"
   ]
  },
  {
   "cell_type": "code",
   "execution_count": 106,
   "metadata": {},
   "outputs": [
    {
     "data": {
      "text/plain": [
       "array([ 3.19664214,  0.02420889, -0.07602191])"
      ]
     },
     "execution_count": 106,
     "metadata": {},
     "output_type": "execute_result"
    }
   ],
   "source": [
    "p0 = (3, .001,.001)\n",
    "popt4, pcov = curve_fit(func,t4[0][:3000],nMC4[:3000],p0)\n",
    "popt4"
   ]
  },
  {
   "cell_type": "code",
   "execution_count": 107,
   "metadata": {},
   "outputs": [
    {
     "data": {
      "text/plain": [
       "125.01250125"
      ]
     },
     "execution_count": 107,
     "metadata": {},
     "output_type": "execute_result"
    }
   ],
   "source": [
    "t5[0][2500]"
   ]
  },
  {
   "cell_type": "code",
   "execution_count": 108,
   "metadata": {},
   "outputs": [
    {
     "data": {
      "text/plain": [
       "array([ 3.2055054 ,  0.02587487, -0.11054832])"
      ]
     },
     "execution_count": 108,
     "metadata": {},
     "output_type": "execute_result"
    }
   ],
   "source": [
    "p0 = (3, .001,.001)\n",
    "popt5, pcov = curve_fit(func,t5[0][:2500],nMC5[:2500],p0)\n",
    "popt5"
   ]
  },
  {
   "cell_type": "code",
   "execution_count": 109,
   "metadata": {},
   "outputs": [
    {
     "data": {
      "text/plain": [
       "100.010001"
      ]
     },
     "execution_count": 109,
     "metadata": {},
     "output_type": "execute_result"
    }
   ],
   "source": [
    "t6[0][2000]"
   ]
  },
  {
   "cell_type": "code",
   "execution_count": 110,
   "metadata": {},
   "outputs": [
    {
     "data": {
      "text/plain": [
       "array([ 3.20076277,  0.02682694, -0.17845957])"
      ]
     },
     "execution_count": 110,
     "metadata": {},
     "output_type": "execute_result"
    }
   ],
   "source": [
    "p0 = (3, .001,.001)\n",
    "popt6, pcov = curve_fit(func,t6[0][:2000],nMC6[:2000],p0)\n",
    "popt6"
   ]
  },
  {
   "cell_type": "code",
   "execution_count": 111,
   "metadata": {},
   "outputs": [
    {
     "data": {
      "text/plain": [
       "100.010001"
      ]
     },
     "execution_count": 111,
     "metadata": {},
     "output_type": "execute_result"
    }
   ],
   "source": [
    "t7[0][2000]"
   ]
  },
  {
   "cell_type": "code",
   "execution_count": 112,
   "metadata": {},
   "outputs": [
    {
     "data": {
      "text/plain": [
       "array([ 3.19444062,  0.02746854, -0.16639388])"
      ]
     },
     "execution_count": 112,
     "metadata": {},
     "output_type": "execute_result"
    }
   ],
   "source": [
    "p0 = (3, .001,.001)\n",
    "popt7, pcov = curve_fit(func,t7[0][:2000],nMC7[:2000],p0)\n",
    "popt7"
   ]
  },
  {
   "cell_type": "code",
   "execution_count": 113,
   "metadata": {},
   "outputs": [
    {
     "data": {
      "text/plain": [
       "100.010001"
      ]
     },
     "execution_count": 113,
     "metadata": {},
     "output_type": "execute_result"
    }
   ],
   "source": [
    "t8[0][2000]"
   ]
  },
  {
   "cell_type": "code",
   "execution_count": 114,
   "metadata": {},
   "outputs": [
    {
     "data": {
      "text/plain": [
       "array([ 3.1927587 ,  0.0264106 , -0.17103113])"
      ]
     },
     "execution_count": 114,
     "metadata": {},
     "output_type": "execute_result"
    }
   ],
   "source": [
    "p0 = (3, .001,.001)\n",
    "popt8, pcov = curve_fit(func,t8[0][:2000],nMC8[:2000],p0)\n",
    "popt8"
   ]
  },
  {
   "cell_type": "code",
   "execution_count": 115,
   "metadata": {},
   "outputs": [
    {
     "data": {
      "text/plain": [
       "100.010001"
      ]
     },
     "execution_count": 115,
     "metadata": {},
     "output_type": "execute_result"
    }
   ],
   "source": [
    "t9[0][2000]"
   ]
  },
  {
   "cell_type": "code",
   "execution_count": 116,
   "metadata": {},
   "outputs": [
    {
     "data": {
      "text/plain": [
       "array([ 3.16807264,  0.02536854, -0.15680798])"
      ]
     },
     "execution_count": 116,
     "metadata": {},
     "output_type": "execute_result"
    }
   ],
   "source": [
    "p0 = (3, .001,.001)\n",
    "popt9, pcov = curve_fit(func,t9[0][:2000],nMC9[:2000],p0)\n",
    "popt9"
   ]
  },
  {
   "cell_type": "code",
   "execution_count": 117,
   "metadata": {},
   "outputs": [
    {
     "data": {
      "text/plain": [
       "100.02500625"
      ]
     },
     "execution_count": 117,
     "metadata": {},
     "output_type": "execute_result"
    }
   ],
   "source": [
    "t10[0][2000]"
   ]
  },
  {
   "cell_type": "code",
   "execution_count": 118,
   "metadata": {},
   "outputs": [
    {
     "data": {
      "text/plain": [
       "array([ 3.1533084 ,  0.02381132, -0.15895685])"
      ]
     },
     "execution_count": 118,
     "metadata": {},
     "output_type": "execute_result"
    }
   ],
   "source": [
    "p0 = (3, .001,.001)\n",
    "popt10, pcov = curve_fit(func,t10[0][:2000],nMC10[:2000],p0)\n",
    "popt10"
   ]
  },
  {
   "cell_type": "code",
   "execution_count": 119,
   "metadata": {},
   "outputs": [
    {
     "data": {
      "text/plain": [
       "array([ 3.13788598,  0.02323756, -0.1257475 ])"
      ]
     },
     "execution_count": 119,
     "metadata": {},
     "output_type": "execute_result"
    }
   ],
   "source": [
    "p0 = (3, .001,.001)\n",
    "popt11, pcov = curve_fit(func,t11[0][:2000],nMC11[:2000],p0)\n",
    "popt11"
   ]
  },
  {
   "cell_type": "code",
   "execution_count": 120,
   "metadata": {},
   "outputs": [
    {
     "data": {
      "text/plain": [
       "array([ 3.12256905,  0.02135328, -0.13098415])"
      ]
     },
     "execution_count": 120,
     "metadata": {},
     "output_type": "execute_result"
    }
   ],
   "source": [
    "p0 = (3, .001,.001)\n",
    "popt12, pcov = curve_fit(func,t12[0][:2000],nMC12[:2000],p0)\n",
    "popt12"
   ]
  },
  {
   "cell_type": "code",
   "execution_count": 121,
   "metadata": {},
   "outputs": [
    {
     "data": {
      "text/plain": [
       "100.010001"
      ]
     },
     "execution_count": 121,
     "metadata": {},
     "output_type": "execute_result"
    }
   ],
   "source": [
    "t13[0][2000]"
   ]
  },
  {
   "cell_type": "code",
   "execution_count": 122,
   "metadata": {},
   "outputs": [
    {
     "data": {
      "text/plain": [
       "array([ 3.11534028,  0.01998125, -0.12966641])"
      ]
     },
     "execution_count": 122,
     "metadata": {},
     "output_type": "execute_result"
    }
   ],
   "source": [
    "p0 = (3, .001,.001)\n",
    "popt13, pcov = curve_fit(func,t13[0][:2000],nMC13[:2000],p0)\n",
    "popt13"
   ]
  },
  {
   "cell_type": "code",
   "execution_count": 123,
   "metadata": {},
   "outputs": [
    {
     "data": {
      "text/plain": [
       "array([ 3.10415086,  0.01891072, -0.11720818])"
      ]
     },
     "execution_count": 123,
     "metadata": {},
     "output_type": "execute_result"
    }
   ],
   "source": [
    "p0 = (3, .001,.001)\n",
    "popt14, pcov = curve_fit(func,t14[0][:2000],nMC14[:2000],p0)\n",
    "popt14"
   ]
  },
  {
   "cell_type": "code",
   "execution_count": 124,
   "metadata": {},
   "outputs": [
    {
     "data": {
      "text/plain": [
       "array([ 3.09185585,  0.01779071, -0.1121446 ])"
      ]
     },
     "execution_count": 124,
     "metadata": {},
     "output_type": "execute_result"
    }
   ],
   "source": [
    "p0 = (3, .001,.001)\n",
    "popt15, pcov = curve_fit(func,t15[0][:2000],nMC15[:2000],p0)\n",
    "popt15"
   ]
  },
  {
   "cell_type": "code",
   "execution_count": 125,
   "metadata": {},
   "outputs": [
    {
     "data": {
      "text/plain": [
       "array([ 3.09896877,  0.01724191, -0.03744678])"
      ]
     },
     "execution_count": 125,
     "metadata": {},
     "output_type": "execute_result"
    }
   ],
   "source": [
    "p0 = (3, .001,.001)\n",
    "popt16, pcov = curve_fit(func,t16[0][:3000],nMC16[:3000],p0)\n",
    "popt16"
   ]
  },
  {
   "cell_type": "code",
   "execution_count": 126,
   "metadata": {},
   "outputs": [
    {
     "data": {
      "text/plain": [
       "200.020002"
      ]
     },
     "execution_count": 126,
     "metadata": {},
     "output_type": "execute_result"
    }
   ],
   "source": [
    "t17[0][4000]"
   ]
  },
  {
   "cell_type": "code",
   "execution_count": 127,
   "metadata": {},
   "outputs": [
    {
     "data": {
      "text/plain": [
       "array([ 3.09908338,  0.01683062, -0.00857184])"
      ]
     },
     "execution_count": 127,
     "metadata": {},
     "output_type": "execute_result"
    }
   ],
   "source": [
    "p0 = (3, .001,.001)\n",
    "popt17, pcov = curve_fit(func,t17[0][:3500],nMC17[:3500],p0)\n",
    "popt17"
   ]
  },
  {
   "cell_type": "code",
   "execution_count": 128,
   "metadata": {},
   "outputs": [
    {
     "data": {
      "text/plain": [
       "array([ 3.09209911e+00,  1.58565784e-02, -1.51578512e-03])"
      ]
     },
     "execution_count": 128,
     "metadata": {},
     "output_type": "execute_result"
    }
   ],
   "source": [
    "p0 = (3, .001,.001)\n",
    "popt18, pcov = curve_fit(func,t18[0][:3500],nMC18[:3500],p0)\n",
    "popt18"
   ]
  },
  {
   "cell_type": "code",
   "execution_count": 129,
   "metadata": {},
   "outputs": [
    {
     "data": {
      "image/png": "[encoded data removed]",
      "text/plain": [
       "<Figure size 640x480 with 1 Axes>"
      ]
     },
     "metadata": {},
     "output_type": "display_data"
    }
   ],
   "source": [
    "plt.figure()\n",
    "#plt.title(\"I=1\")\n",
    "\n",
    "\n",
    "#plt.plot(t[0]*1e-3,nMC,label='Γ=2.5 ΜΗz')\n",
    "#plt.plot(t[0]*1e-3,func(t[0], *popt),'--')\n",
    "#plt.plot(t1[0]*1e-3,nMC1,label='Γ=5 ΜΗz')\n",
    "#plt.plot(t1[0]*1e-3,func(t1[0], *popt1),'--')\n",
    "#plt.plot(t2[0]*1e-3,nMC2,label='Γ=7.5 ΜΗz')\n",
    "#plt.plot(t2[0]*1e-3,func(t2[0], *popt2),'--')\n",
    "#plt.plot(t3[0]*1e-3,nMC3,label='Γ=10 ΜΗz')\n",
    "#plt.plot(t3[0]*1e-3,func(t3[0], *popt3),'--')\n",
    "#plt.plot(t4[0]*1e-3,nMC4,label='Γ=12.5ΜΗz')\n",
    "#plt.plot(t4[0]*1e-3,func(t4[0], *popt4),'--')\n",
    "#plt.plot(t5[0]*1e-3,nMC5,label='Γ=15 ΜΗz')\n",
    "#plt.plot(t5[0]*1e-3,func(t5[0], *popt5),'--')\n",
    "#plt.plot(t6[0]*1e-3,nMC6,label='Γ=20 ΜΗz')\n",
    "#plt.plot(t6[0]*1e-3,func(t6[0], *popt6),'--')\n",
    "#plt.plot(t7[0]*1e-3,nMC7,label='Γ=25 ΜΗz')\n",
    "#plt.plot(t7[0]*1e-3,func(t7[0], *popt7),'--')\n",
    "#plt.plot(t8[0]*1e-3,nMC8,label='Γ=30 ΜΗz')\n",
    "#plt.plot(t8[0]*1e-3,func(t8[0], *popt8),'--')\n",
    "#plt.plot(t9[0]*1e-3,nMC9,label='Γ=35 ΜΗz')\n",
    "#plt.plot(t9[0]*1e-3,func(t9[0], *popt9),'--')\n",
    "#plt.plot(t10[0]*1e-3,nMC10,label='Γ=40 ΜΗz')\n",
    "#plt.plot(t10[0]*1e-3,func(t10[0], *popt10),'--')\n",
    "#plt.plot(t11[0]*1e-3,nMC11,label='Γ=45 ΜΗz')\n",
    "#plt.plot(t11[0]*1e-3,func(t11[0], *popt11),'--')\n",
    "#plt.plot(t12[0]*1e-3,nMC12,label='Γ=50 ΜΗz')\n",
    "#plt.plot(t12[0]*1e-3,func(t12[0], *popt12),'--')\n",
    "#plt.plot(t13[0]*1e-3,nMC13,label='Γ=55 ΜΗz')\n",
    "#plt.plot(t13[0]*1e-3,func(t13[0], *popt13),'--')\n",
    "#plt.plot(t14[0]*1e-3,nMC14,label='Γ=60 ΜΗz')\n",
    "#plt.plot(t14[0]*1e-3,func(t14[0], *popt14),'--')\n",
    "#plt.plot(t15[0]*1e-3,nMC15,label='Γ=65 ΜΗz')\n",
    "#plt.plot(t15[0]*1e-3,func(t15[0], *popt15),'--')\n",
    "#plt.plot(t16[0]*1e-3,nMC16,label='Γ=70 ΜΗz')\n",
    "#plt.plot(t16[0]*1e-3,func(t16[0], *popt16),'--')\n",
    "#plt.plot(t17[0]*1e-3,nMC17,label='Γ=75 ΜΗz')\n",
    "#plt.plot(t17[0]*1e-3,func(t17[0], *popt17),'--')\n",
    "plt.plot(t18[0]*1e-3,nMC18,label='Γ=80 ΜΗz')\n",
    "plt.plot(t18[0]*1e-3,func(t18[0], *popt18),'--')\n",
    "\n",
    "plt.ylabel('$\\\\langle n \\\\rangle$')\n",
    "plt.xlabel('$t$ (ms)')\n",
    "#plt.ylim(0)\n",
    "#plt.yscale(\"log\")\n",
    "#plt.axvline(10.787075035802768, linestyle='--')\n",
    "#plt.axhline(0, linestyle='--' )\n",
    "#plt.xlim(0.05,0.1)\n",
    "\n",
    "\n",
    "plt.legend()\n",
    "#plt.savefig(\"/Users/kfouka/Desktop/ΠΕ ++/qudits/eit cooling/numerics/MC/I1/figures/I1_cooling_etas_fittings_G25.png\",bbox_inches = \"tight\")\n",
    "plt.show()"
   ]
  },
  {
   "cell_type": "code",
   "execution_count": 130,
   "metadata": {},
   "outputs": [],
   "source": [
    "wexp = np.array([popt[1],popt1[1],popt2[1],popt3[1],popt4[1],popt5[1],popt6[1],popt7[1],popt8[1],popt9[1],popt10[1],popt11[1],popt12[1],\n",
    "                popt13[1],popt14[1],popt15[1],popt16[1],popt17[1],popt18[1]])"
   ]
  },
  {
   "cell_type": "code",
   "execution_count": 131,
   "metadata": {},
   "outputs": [
    {
     "data": {
      "text/plain": [
       "array([0.00604432, 0.01243756, 0.01736605, 0.02123503, 0.02420889,\n",
       "       0.02587487, 0.02682694, 0.02746854, 0.0264106 , 0.02536854,\n",
       "       0.02381132, 0.02323756, 0.02135328, 0.01998125, 0.01891072,\n",
       "       0.01779071, 0.01724191, 0.01683062, 0.01585658])"
      ]
     },
     "execution_count": 131,
     "metadata": {},
     "output_type": "execute_result"
    }
   ],
   "source": [
    "wexp"
   ]
  },
  {
   "cell_type": "code",
   "execution_count": 132,
   "metadata": {},
   "outputs": [
    {
     "data": {
      "image/png": "[encoded data removed]",
      "text/plain": [
       "<Figure size 350x250 with 1 Axes>"
      ]
     },
     "metadata": {},
     "output_type": "display_data"
    }
   ],
   "source": [
    "plt.figure(figsize=(3.5,2.5))\n",
    "plt.rcParams.update({'font.size': 10})\n",
    "#plt.title('W_{exp}')\n",
    "plt.scatter(Gammas,ws,marker='s',label=r'$W$',color='white',edgecolor = '#b3cde3')\n",
    "plt.scatter(Gammas,wfic,marker='d',label=r'$W_{\\text{fic}}$',color='white',edgecolor = '#8c96c6')\n",
    "plt.scatter(Gammas,wexp,marker='+',label=r'$W_{\\text{exp}}$',color='#88419d')\n",
    "#plt.xlim(0,5000)\n",
    "plt.legend(prop={'size': 8})\n",
    "plt.ylabel('Rates (MHz)',labelpad=2)\n",
    "plt.xlabel('$Γ$ (ΜΗz/2π)',labelpad=0)\n",
    "#plt.ylim(0)\n",
    "#plt.xlim(0)\n",
    "plt.yscale(\"log\")\n",
    "#plt.savefig(\"I1_Ws_Gammas.pdf\",bbox_inches = \"tight\")\n",
    "\n",
    "\n",
    "plt.show()"
   ]
  },
  {
   "cell_type": "code",
   "execution_count": 133,
   "metadata": {},
   "outputs": [
    {
     "data": {
      "text/plain": [
       "[0.4621341685473364,\n",
       " 0.3231855569894994,\n",
       " 0.2328926117789355,\n",
       " 0.1797185892355439,\n",
       " 0.14568651277112613,\n",
       " 0.12225449545818043,\n",
       " 0.09226046843254611,\n",
       " 0.07394260692742269,\n",
       " 0.06161029229272555,\n",
       " 0.052742506297802465,\n",
       " 0.046056511039894554,\n",
       " 0.04083221220892271,\n",
       " 0.03663464125482109,\n",
       " 0.03318573115626628,\n",
       " 0.03029950310006941,\n",
       " 0.02784689944810467,\n",
       " 0.025735575754528936,\n",
       " 0.02389772475372635,\n",
       " 0.02228244146259587]"
      ]
     },
     "execution_count": 133,
     "metadata": {},
     "output_type": "execute_result"
    }
   ],
   "source": [
    "ws"
   ]
  },
  {
   "cell_type": "code",
   "execution_count": 134,
   "metadata": {},
   "outputs": [
    {
     "data": {
      "text/plain": [
       "array([0.00604432, 0.01243756, 0.01736605, 0.02123503, 0.02420889,\n",
       "       0.02587487, 0.02682694, 0.02746854, 0.0264106 , 0.02536854,\n",
       "       0.02381132, 0.02323756, 0.02135328, 0.01998125, 0.01891072,\n",
       "       0.01779071, 0.01724191, 0.01683062, 0.01585658])"
      ]
     },
     "execution_count": 134,
     "metadata": {},
     "output_type": "execute_result"
    }
   ],
   "source": [
    "wexp"
   ]
  },
  {
   "cell_type": "markdown",
   "metadata": {},
   "source": [
    "## Γ=2.44745 (ΜΗz/2π)"
   ]
  },
  {
   "cell_type": "code",
   "execution_count": 136,
   "metadata": {},
   "outputs": [],
   "source": [
    "etas = [0.01,0.025,0.044,0.075,0.1]\n",
    "GammaJgJe = 2.44745\n",
    "c_ops_ = c_ops(F,GammaJgJe)"
   ]
  },
  {
   "cell_type": "code",
   "execution_count": 137,
   "metadata": {},
   "outputs": [
    {
     "name": "stderr",
     "output_type": "stream",
     "text": [
      "  0%|                                                                                            | 0/5 [00:00<?, ?it/s]C:\\Users\\kfouka\\AppData\\Local\\Temp\\ipykernel_24076\\18842625.py:84: DeprecationWarning: Conversion of an array with ndim > 0 to a scalar is deprecated, and will error in future. Ensure you extract a single element from your array before performing this operation. (Deprecated NumPy 1.25.)\n",
      "  rhos1[j,i] = rho1[j+i*N]\n",
      "C:\\Users\\kfouka\\AppData\\Local\\Temp\\ipykernel_24076\\18842625.py:87: DeprecationWarning: Conversion of an array with ndim > 0 to a scalar is deprecated, and will error in future. Ensure you extract a single element from your array before performing this operation. (Deprecated NumPy 1.25.)\n",
      "  rhos_1[j,i] = rho_1[j+i*N]\n",
      "100%|████████████████████████████████████████████████████████████████████████████████████| 5/5 [00:00<00:00,  6.97it/s]\n"
     ]
    }
   ],
   "source": [
    "wfic_1 = []\n",
    "for ee in tqdm(etas):\n",
    "    eta = [ee,ee,-ee]\n",
    "    abs_r = steck(F=F,N=N,Delta=Delta,Omega_p=Omega_p,eta=eta,c=c_ops_,omega=omega0)\n",
    "    abs_b = steck(F=F,N=N,Delta=Delta,Omega_p=Omega_p,eta=eta,c=c_ops_,omega=-omega0)\n",
    "    wfic_1.append((abs_r-abs_b).real)"
   ]
  },
  {
   "cell_type": "code",
   "execution_count": 138,
   "metadata": {},
   "outputs": [],
   "source": [
    "c_ops_ = c_ops(F,2*np.pi*GammaJgJe)"
   ]
  },
  {
   "cell_type": "code",
   "execution_count": 139,
   "metadata": {},
   "outputs": [
    {
     "name": "stderr",
     "output_type": "stream",
     "text": [
      "100%|████████████████████████████████████████████████████████████████████████████████████| 5/5 [00:00<00:00,  9.24it/s]\n"
     ]
    }
   ],
   "source": [
    "ws_1 = []\n",
    "for ee in tqdm(etas):\n",
    "    eta = [ee,ee,-ee]\n",
    "    A_m = S_(F=F,Delta=Delta,Omega_p=Omega_p,omega0=omega0,c=c_ops_,eta=eta)\n",
    "    A_p = S_(F=F,Delta=Delta,Omega_p=Omega_p,omega0=-omega0,c=c_ops_,eta=eta)\n",
    "    ws_1.append((2*A_m-2*A_p).real)"
   ]
  },
  {
   "cell_type": "code",
   "execution_count": 140,
   "metadata": {},
   "outputs": [
    {
     "data": {
      "image/png": "[encoded data removed]",
      "text/plain": [
       "<Figure size 350x250 with 1 Axes>"
      ]
     },
     "metadata": {},
     "output_type": "display_data"
    }
   ],
   "source": [
    "plt.figure(figsize=(3.5,2.5))\n",
    "plt.rcParams.update({'font.size': 10})\n",
    "#plt.title('W_{exp}')\n",
    "plt.scatter(etas,ws_1,marker='s',label=r'$W$',color='white',edgecolor = '#b3cde3')\n",
    "plt.scatter(etas,wfic_1,marker='d',label=r'$W_{\\text{fic}}$',color='white',edgecolor = '#8c96c6')\n",
    "#plt.scatter(Gammas,wexp,marker='+',label=r'$W_{\\text{exp}}$',color='#88419d')\n",
    "#plt.xlim(0,5000)\n",
    "plt.legend(prop={'size': 8})\n",
    "plt.ylabel('Rates (MHz)',labelpad=2)\n",
    "plt.xlabel('η',labelpad=0)\n",
    "#plt.ylim(0)\n",
    "#plt.xlim(0)\n",
    "plt.yscale(\"log\")\n",
    "#plt.savefig(\"I1_Ws_Gammas.pdf\",bbox_inches = \"tight\")\n",
    "\n",
    "\n",
    "plt.show()"
   ]
  },
  {
   "cell_type": "code",
   "execution_count": 141,
   "metadata": {},
   "outputs": [
    {
     "data": {
      "text/plain": [
       "[0.01, 0.025, 0.044, 0.075, 0.1]"
      ]
     },
     "execution_count": 141,
     "metadata": {},
     "output_type": "execute_result"
    }
   ],
   "source": [
    "etas"
   ]
  },
  {
   "cell_type": "code",
   "execution_count": 142,
   "metadata": {},
   "outputs": [],
   "source": [
    "t_ = []\n",
    "n_ = []\n",
    "for i in range(Nmax+1):\n",
    "    t_.append(np.loadtxt(\"\"+str(path_name)+\"data_B5.0_D10_10_D12_20_O10_O11_23.5_O11_10_\"+str(i)+\"_Gamma_2.44745_ntraj_500_eta_0.01_improved.txt\")[:, 0])\n",
    "    n_.append(np.loadtxt(\"\"+str(path_name)+\"data_B5.0_D10_10_D12_20_O10_O11_23.5_O11_10_\"+str(i)+\"_Gamma_2.44745_ntraj_500_eta_0.01_improved.txt\")[:, 1])"
   ]
  },
  {
   "cell_type": "code",
   "execution_count": 143,
   "metadata": {},
   "outputs": [],
   "source": [
    "nMC_ = np.zeros(len(t_[0]))\n",
    "for i in range(Nmax+1):\n",
    "    nMC_ +=np.array(n_[i])*P[i]"
   ]
  },
  {
   "cell_type": "code",
   "execution_count": 144,
   "metadata": {},
   "outputs": [],
   "source": [
    "t_1 = []\n",
    "n_1 = []\n",
    "for i in range(Nmax+1):\n",
    "    t_1.append(np.loadtxt(\"\"+str(path_name)+\"data_B5.0_D10_10_D12_20_O10_O11_23.5_O11_10_\"+str(i)+\"_Gamma_2.44745_ntraj_500_eta_0.025_improved.txt\")[:, 0])\n",
    "    n_1.append(np.loadtxt(\"\"+str(path_name)+\"data_B5.0_D10_10_D12_20_O10_O11_23.5_O11_10_\"+str(i)+\"_Gamma_2.44745_ntraj_500_eta_0.025_improved.txt\")[:, 1])"
   ]
  },
  {
   "cell_type": "code",
   "execution_count": 145,
   "metadata": {},
   "outputs": [],
   "source": [
    "nMC_1 = np.zeros(len(t_1[0]))\n",
    "for i in range(Nmax+1):\n",
    "    nMC_1 +=np.array(n_1[i])*P[i]"
   ]
  },
  {
   "cell_type": "code",
   "execution_count": 146,
   "metadata": {},
   "outputs": [],
   "source": [
    "t_2 = []\n",
    "n_2 = []\n",
    "for i in range(Nmax+1):\n",
    "    t_2.append(np.loadtxt(\"\"+str(path_name)+\"data_B5.0_D10_10_D12_20_O10_O11_23.5_O11_10_\"+str(i)+\"_Gamma_2.44745_ntraj_500_eta_0.075_improved.txt\")[:, 0])\n",
    "    n_2.append(np.loadtxt(\"\"+str(path_name)+\"data_B5.0_D10_10_D12_20_O10_O11_23.5_O11_10_\"+str(i)+\"_Gamma_2.44745_ntraj_500_eta_0.075_improved.txt\")[:, 1])"
   ]
  },
  {
   "cell_type": "code",
   "execution_count": 147,
   "metadata": {},
   "outputs": [],
   "source": [
    "nMC_2 = np.zeros(len(t_2[0]))\n",
    "for i in range(Nmax+1):\n",
    "    nMC_2 +=np.array(n_2[i])*P[i]"
   ]
  },
  {
   "cell_type": "code",
   "execution_count": 148,
   "metadata": {},
   "outputs": [],
   "source": [
    "t_3 = []\n",
    "n_3 = []\n",
    "for i in range(Nmax+1):\n",
    "    t_3.append(np.loadtxt(\"\"+str(path_name)+\"data_B5.0_D10_10_D12_20_O10_O11_23.5_O11_10_\"+str(i)+\"_Gamma_2.44745_ntraj_500_eta_0.1_improved.txt\")[:, 0])\n",
    "    n_3.append(np.loadtxt(\"\"+str(path_name)+\"data_B5.0_D10_10_D12_20_O10_O11_23.5_O11_10_\"+str(i)+\"_Gamma_2.44745_ntraj_500_eta_0.1_improved.txt\")[:, 1])"
   ]
  },
  {
   "cell_type": "code",
   "execution_count": 149,
   "metadata": {},
   "outputs": [],
   "source": [
    "nMC_3 = np.zeros(len(t_3[0]))\n",
    "for i in range(Nmax+1):\n",
    "    nMC_3 +=np.array(n_3[i])*P[i]"
   ]
  },
  {
   "cell_type": "code",
   "execution_count": 150,
   "metadata": {},
   "outputs": [
    {
     "data": {
      "image/png": "[encoded data removed]",
      "text/plain": [
       "<Figure size 640x480 with 1 Axes>"
      ]
     },
     "metadata": {},
     "output_type": "display_data"
    }
   ],
   "source": [
    "plt.figure()\n",
    "#plt.title(\"I=1\")\n",
    "\n",
    "#plt.plot(np.linspace(-10*GammaJgJe,20*GammaJgJe,200),pope1)\n",
    "plt.plot(t_[0]*1e-3,nMC_,label='η=0.01')\n",
    "plt.plot(t_1[0]*1e-3,nMC_1,label='η=0.025')\n",
    "plt.plot(t[0]*1e-3,nMC,label='η=0.044')\n",
    "plt.plot(t_2[0]*1e-3,nMC_2,label='η=0.075')\n",
    "plt.plot(t_3[0]*1e-3,nMC_3,label='η=0.1')\n",
    "\n",
    "plt.ylabel('$\\\\langle n \\\\rangle$')\n",
    "plt.xlabel('$t$ (ms)')\n",
    "plt.ylim(0)\n",
    "#plt.axvline(10.787075035802768, linestyle='--')\n",
    "#plt.axvline(65, linestyle='--' )\n",
    "#plt.xlim(0,0.1)\n",
    "\n",
    "\n",
    "plt.legend()\n",
    "#plt.savefig(\"I1_cooling_diff_in_state.png\",bbox_inches = \"tight\")\n",
    "plt.show()"
   ]
  },
  {
   "cell_type": "code",
   "execution_count": 151,
   "metadata": {},
   "outputs": [],
   "source": [
    "ts = [t_[0],t_1[0],t[0],t_2[0],t_3[0]]\n",
    "nMCs = [nMC_,nMC_1,nMC,nMC_2,nMC_3]"
   ]
  },
  {
   "cell_type": "code",
   "execution_count": 152,
   "metadata": {},
   "outputs": [],
   "source": [
    "p0 = (3, .001,.001)\n",
    "wexp_1 = []\n",
    "for i in range(len(ts)):\n",
    "    popt, pcov = curve_fit(func,ts[i],nMCs[i],p0)\n",
    "    #print(popt)\n",
    "    wexp_1.append(popt[1])"
   ]
  },
  {
   "cell_type": "code",
   "execution_count": 153,
   "metadata": {},
   "outputs": [
    {
     "data": {
      "image/png": "[encoded data removed]",
      "text/plain": [
       "<Figure size 350x250 with 1 Axes>"
      ]
     },
     "metadata": {},
     "output_type": "display_data"
    }
   ],
   "source": [
    "plt.figure(figsize=(3.5,2.5))\n",
    "plt.rcParams.update({'font.size': 10})\n",
    "#plt.title('W_{exp}')\n",
    "plt.scatter(etas,ws_1,marker='s',label=r'$W$',color='white',edgecolor = '#b3cde3')\n",
    "plt.scatter(etas,wfic_1,marker='d',label=r'$W_{\\text{fic}}$',color='white',edgecolor = '#8c96c6')\n",
    "plt.scatter(etas,wexp_1,marker='+',label=r'$W_{\\text{exp}}$',color='#88419d')\n",
    "#plt.xlim(0,5000)\n",
    "plt.legend(prop={'size': 8})\n",
    "plt.ylabel('Rates (MHz)',labelpad=2)\n",
    "plt.xlabel('η',labelpad=0)\n",
    "#plt.ylim(0)\n",
    "#plt.xlim(0)\n",
    "plt.yscale(\"log\")\n",
    "#plt.savefig(\"I1_Ws_Gammas.pdf\",bbox_inches = \"tight\")\n",
    "\n",
    "\n",
    "plt.show()"
   ]
  },
  {
   "cell_type": "markdown",
   "metadata": {},
   "source": [
    "## Γ=20 (ΜΗz/2π)"
   ]
  },
  {
   "cell_type": "code",
   "execution_count": 155,
   "metadata": {},
   "outputs": [],
   "source": [
    "GammaJgJe = 20\n",
    "c_ops_ = c_ops(F,GammaJgJe)"
   ]
  },
  {
   "cell_type": "code",
   "execution_count": 156,
   "metadata": {},
   "outputs": [
    {
     "name": "stderr",
     "output_type": "stream",
     "text": [
      "  0%|                                                                                            | 0/5 [00:00<?, ?it/s]C:\\Users\\kfouka\\AppData\\Local\\Temp\\ipykernel_24076\\18842625.py:84: DeprecationWarning: Conversion of an array with ndim > 0 to a scalar is deprecated, and will error in future. Ensure you extract a single element from your array before performing this operation. (Deprecated NumPy 1.25.)\n",
      "  rhos1[j,i] = rho1[j+i*N]\n",
      "C:\\Users\\kfouka\\AppData\\Local\\Temp\\ipykernel_24076\\18842625.py:87: DeprecationWarning: Conversion of an array with ndim > 0 to a scalar is deprecated, and will error in future. Ensure you extract a single element from your array before performing this operation. (Deprecated NumPy 1.25.)\n",
      "  rhos_1[j,i] = rho_1[j+i*N]\n",
      "100%|████████████████████████████████████████████████████████████████████████████████████| 5/5 [00:00<00:00,  6.22it/s]\n"
     ]
    }
   ],
   "source": [
    "wfic_2 = []\n",
    "for ee in tqdm(etas):\n",
    "    eta = [ee,ee,-ee]\n",
    "    abs_r = steck(F=F,N=N,Delta=Delta,Omega_p=Omega_p,eta=eta,c=c_ops_,omega=omega0)\n",
    "    abs_b = steck(F=F,N=N,Delta=Delta,Omega_p=Omega_p,eta=eta,c=c_ops_,omega=-omega0)\n",
    "    wfic_2.append((abs_r-abs_b).real)"
   ]
  },
  {
   "cell_type": "code",
   "execution_count": 157,
   "metadata": {},
   "outputs": [
    {
     "name": "stderr",
     "output_type": "stream",
     "text": [
      "100%|████████████████████████████████████████████████████████████████████████████████████| 5/5 [00:00<00:00,  9.36it/s]\n"
     ]
    }
   ],
   "source": [
    "ws_2 = []\n",
    "c_ops_ = c_ops(F,2*np.pi*GammaJgJe)\n",
    "for ee in tqdm(etas):\n",
    "    eta = [ee,ee,-ee]\n",
    "    A_m = S_(F=F,Delta=Delta,Omega_p=Omega_p,omega0=omega0,c=c_ops_,eta=eta)\n",
    "    A_p = S_(F=F,Delta=Delta,Omega_p=Omega_p,omega0=-omega0,c=c_ops_,eta=eta)\n",
    "    ws_2.append((2*A_m-2*A_p).real)"
   ]
  },
  {
   "cell_type": "code",
   "execution_count": 158,
   "metadata": {},
   "outputs": [
    {
     "data": {
      "image/png": "[encoded data removed]",
      "text/plain": [
       "<Figure size 350x250 with 1 Axes>"
      ]
     },
     "metadata": {},
     "output_type": "display_data"
    }
   ],
   "source": [
    "plt.figure(figsize=(3.5,2.5))\n",
    "plt.rcParams.update({'font.size': 10})\n",
    "#plt.title('W_{exp}')\n",
    "plt.scatter(etas,ws_2,marker='s',label=r'$W$',color='white',edgecolor = '#b3cde3')\n",
    "plt.scatter(etas,wfic_2,marker='d',label=r'$W_{\\text{fic}}$',color='white',edgecolor = '#8c96c6')\n",
    "#plt.scatter(Gammas,wexp,marker='+',label=r'$W_{\\text{exp}}$',color='#88419d')\n",
    "#plt.xlim(0,5000)\n",
    "plt.legend(prop={'size': 8})\n",
    "plt.ylabel('Rates (MHz)',labelpad=2)\n",
    "plt.xlabel('η',labelpad=0)\n",
    "#plt.ylim(0)\n",
    "#plt.xlim(0)\n",
    "plt.yscale(\"log\")\n",
    "#plt.savefig(\"I1_Ws_Gammas.pdf\",bbox_inches = \"tight\")\n",
    "\n",
    "\n",
    "plt.show()"
   ]
  },
  {
   "cell_type": "code",
   "execution_count": 159,
   "metadata": {},
   "outputs": [],
   "source": [
    "t_ = []\n",
    "n_ = []\n",
    "for i in range(Nmax+1):\n",
    "    t_.append(np.loadtxt(\"\"+str(path_name)+\"data_B5.0_D10_10_D12_20_O10_O11_23.5_O11_10_\"+str(i)+\"_Gamma_20.0_ntraj_500_eta_0.01_improved.txt\")[:, 0])\n",
    "    n_.append(np.loadtxt(\"\"+str(path_name)+\"data_B5.0_D10_10_D12_20_O10_O11_23.5_O11_10_\"+str(i)+\"_Gamma_20.0_ntraj_500_eta_0.01_improved.txt\")[:, 1])"
   ]
  },
  {
   "cell_type": "code",
   "execution_count": 160,
   "metadata": {},
   "outputs": [],
   "source": [
    "nMC_ = np.zeros(len(t_[0]))\n",
    "for i in range(Nmax+1):\n",
    "    nMC_ +=np.array(n_[i])*P[i]"
   ]
  },
  {
   "cell_type": "code",
   "execution_count": 161,
   "metadata": {},
   "outputs": [],
   "source": [
    "t_1 = []\n",
    "n_1 = []\n",
    "for i in range(Nmax+1):\n",
    "    t_1.append(np.loadtxt(\"\"+str(path_name)+\"data_B5.0_D10_10_D12_20_O10_O11_23.5_O11_10_\"+str(i)+\"_Gamma_20.0_ntraj_500_eta_0.025_improved.txt\")[:, 0])\n",
    "    n_1.append(np.loadtxt(\"\"+str(path_name)+\"data_B5.0_D10_10_D12_20_O10_O11_23.5_O11_10_\"+str(i)+\"_Gamma_20.0_ntraj_500_eta_0.025_improved.txt\")[:, 1])"
   ]
  },
  {
   "cell_type": "code",
   "execution_count": 162,
   "metadata": {},
   "outputs": [],
   "source": [
    "nMC_1 = np.zeros(len(t_1[0]))\n",
    "for i in range(Nmax+1):\n",
    "    nMC_1 +=np.array(n_1[i])*P[i]"
   ]
  },
  {
   "cell_type": "code",
   "execution_count": 163,
   "metadata": {},
   "outputs": [],
   "source": [
    "t_2 = []\n",
    "n_2 = []\n",
    "for i in range(Nmax+1):\n",
    "    t_2.append(np.loadtxt(\"\"+str(path_name)+\"data_B5.0_D10_10_D12_20_O10_O11_23.5_O11_10_\"+str(i)+\"_Gamma_20.0_ntraj_500_eta_0.075_improved.txt\")[:, 0])\n",
    "    n_2.append(np.loadtxt(\"\"+str(path_name)+\"data_B5.0_D10_10_D12_20_O10_O11_23.5_O11_10_\"+str(i)+\"_Gamma_20.0_ntraj_500_eta_0.075_improved.txt\")[:, 1])"
   ]
  },
  {
   "cell_type": "code",
   "execution_count": 164,
   "metadata": {},
   "outputs": [],
   "source": [
    "nMC_2 = np.zeros(len(t_2[0]))\n",
    "for i in range(Nmax+1):\n",
    "    nMC_2 +=np.array(n_2[i])*P[i]"
   ]
  },
  {
   "cell_type": "code",
   "execution_count": 165,
   "metadata": {},
   "outputs": [],
   "source": [
    "t_3 = []\n",
    "n_3 = []\n",
    "for i in range(Nmax+1):\n",
    "    t_3.append(np.loadtxt(\"\"+str(path_name)+\"data_B5.0_D10_10_D12_20_O10_O11_23.5_O11_10_\"+str(i)+\"_Gamma_20.0_ntraj_500_eta_0.1_improved.txt\")[:, 0])\n",
    "    n_3.append(np.loadtxt(\"\"+str(path_name)+\"data_B5.0_D10_10_D12_20_O10_O11_23.5_O11_10_\"+str(i)+\"_Gamma_20.0_ntraj_500_eta_0.1_improved.txt\")[:, 1])"
   ]
  },
  {
   "cell_type": "code",
   "execution_count": 166,
   "metadata": {},
   "outputs": [],
   "source": [
    "nMC_3 = np.zeros(len(t_3[0]))\n",
    "for i in range(Nmax+1):\n",
    "    nMC_3 +=np.array(n_3[i])*P[i]"
   ]
  },
  {
   "cell_type": "code",
   "execution_count": 167,
   "metadata": {},
   "outputs": [
    {
     "data": {
      "image/png": "[encoded data removed]",
      "text/plain": [
       "<Figure size 640x480 with 1 Axes>"
      ]
     },
     "metadata": {},
     "output_type": "display_data"
    }
   ],
   "source": [
    "plt.figure()\n",
    "#plt.title(\"I=1\")\n",
    "\n",
    "#plt.plot(np.linspace(-10*GammaJgJe,20*GammaJgJe,200),pope1)\n",
    "plt.plot(t_[0]*1e-3,nMC_,label='η=0.01')\n",
    "plt.plot(t_1[0]*1e-3,nMC_1,label='η=0.025')\n",
    "plt.plot(t6[0]*1e-3,nMC6,label='η=0.044')\n",
    "plt.plot(t_2[0]*1e-3,nMC_2,label='η=0.075')\n",
    "plt.plot(t_3[0]*1e-3,nMC_3,label='η=0.1')\n",
    "\n",
    "plt.ylabel('$\\\\langle n \\\\rangle$')\n",
    "plt.xlabel('$t$ (ms)')\n",
    "plt.ylim(0)\n",
    "#plt.axvline(10.787075035802768, linestyle='--')\n",
    "#plt.axvline(65, linestyle='--' )\n",
    "#plt.xlim(0,0.1)\n",
    "\n",
    "\n",
    "plt.legend()\n",
    "#plt.savefig(\"I1_cooling_diff_in_state.png\",bbox_inches = \"tight\")\n",
    "plt.show()"
   ]
  },
  {
   "cell_type": "code",
   "execution_count": 168,
   "metadata": {},
   "outputs": [
    {
     "name": "stdout",
     "output_type": "stream",
     "text": [
      "[ 3.07230421  0.00360258 -0.01944415]\n"
     ]
    }
   ],
   "source": [
    "p0 = (3, .001,.001)\n",
    "wexp_2 = []\n",
    "popt, pcov = curve_fit(func,t_[0],nMC_,p0)\n",
    "print(popt)\n",
    "wexp_2.append(popt[1])"
   ]
  },
  {
   "cell_type": "code",
   "execution_count": 169,
   "metadata": {},
   "outputs": [
    {
     "name": "stdout",
     "output_type": "stream",
     "text": [
      "[ 3.21182398  0.01607121 -0.02014155]\n"
     ]
    }
   ],
   "source": [
    "popt, pcov = curve_fit(func,t_1[0][:400],nMC_1[:400],p0)\n",
    "print(popt)\n",
    "wexp_2.append(popt[1])"
   ]
  },
  {
   "cell_type": "code",
   "execution_count": 170,
   "metadata": {},
   "outputs": [
    {
     "data": {
      "text/plain": [
       "200.020002"
      ]
     },
     "execution_count": 170,
     "metadata": {},
     "output_type": "execute_result"
    }
   ],
   "source": [
    "t6[0][4000]"
   ]
  },
  {
   "cell_type": "code",
   "execution_count": 171,
   "metadata": {},
   "outputs": [
    {
     "name": "stdout",
     "output_type": "stream",
     "text": [
      "[ 3.2685811   0.03026497 -0.03349624]\n"
     ]
    }
   ],
   "source": [
    "popt, pcov = curve_fit(func,t6[0][:4000],nMC6[:4000],p0)\n",
    "print(popt)\n",
    "wexp_2.append(popt[1])"
   ]
  },
  {
   "cell_type": "code",
   "execution_count": 172,
   "metadata": {},
   "outputs": [
    {
     "name": "stdout",
     "output_type": "stream",
     "text": [
      "[3.14944758e+00 3.82935593e-02 1.87636685e-04]\n"
     ]
    }
   ],
   "source": [
    "popt, pcov = curve_fit(func,t_2[0][:200],nMC_2[:200],p0)\n",
    "print(popt)\n",
    "wexp_2.append(popt[1])"
   ]
  },
  {
   "cell_type": "code",
   "execution_count": 173,
   "metadata": {},
   "outputs": [
    {
     "name": "stdout",
     "output_type": "stream",
     "text": [
      "[2.99198811 0.03668915 0.03225641]\n"
     ]
    }
   ],
   "source": [
    "popt, pcov = curve_fit(func,t_3[0][:200],nMC_3[:200],p0)\n",
    "print(popt)\n",
    "wexp_2.append(popt[1])"
   ]
  },
  {
   "cell_type": "code",
   "execution_count": 174,
   "metadata": {},
   "outputs": [
    {
     "data": {
      "image/png": "[encoded data removed]",
      "text/plain": [
       "<Figure size 350x250 with 1 Axes>"
      ]
     },
     "metadata": {},
     "output_type": "display_data"
    }
   ],
   "source": [
    "plt.figure(figsize=(3.5,2.5))\n",
    "plt.rcParams.update({'font.size': 10})\n",
    "#plt.title('W_{exp}')\n",
    "plt.scatter(etas,ws_2,marker='s',label=r'$W$',color='white',edgecolor = '#b3cde3')\n",
    "plt.scatter(etas,wfic_2,marker='d',label=r'$W_{\\text{fic}}$',color='white',edgecolor = '#8c96c6')\n",
    "plt.scatter(etas,wexp_2,marker='+',label=r'$W_{\\text{exp}}$',color='#88419d')\n",
    "#plt.xlim(0,5000)\n",
    "plt.legend(prop={'size': 8})\n",
    "plt.ylabel('Rates (MHz)',labelpad=2)\n",
    "plt.xlabel('η',labelpad=0)\n",
    "#plt.ylim(0)\n",
    "#plt.xlim(0)\n",
    "plt.yscale(\"log\")\n",
    "#plt.savefig(\"I1_Ws_Gammas.pdf\",bbox_inches = \"tight\")\n",
    "\n",
    "\n",
    "plt.show()"
   ]
  },
  {
   "cell_type": "markdown",
   "metadata": {},
   "source": [
    "## Γ=80 (ΜΗz/2π)"
   ]
  },
  {
   "cell_type": "code",
   "execution_count": 176,
   "metadata": {},
   "outputs": [],
   "source": [
    "GammaJgJe = 80\n",
    "c_ops_ = c_ops(F,GammaJgJe)"
   ]
  },
  {
   "cell_type": "code",
   "execution_count": 177,
   "metadata": {},
   "outputs": [
    {
     "name": "stderr",
     "output_type": "stream",
     "text": [
      "  0%|                                                                                            | 0/5 [00:00<?, ?it/s]C:\\Users\\kfouka\\AppData\\Local\\Temp\\ipykernel_24076\\18842625.py:84: DeprecationWarning: Conversion of an array with ndim > 0 to a scalar is deprecated, and will error in future. Ensure you extract a single element from your array before performing this operation. (Deprecated NumPy 1.25.)\n",
      "  rhos1[j,i] = rho1[j+i*N]\n",
      "C:\\Users\\kfouka\\AppData\\Local\\Temp\\ipykernel_24076\\18842625.py:87: DeprecationWarning: Conversion of an array with ndim > 0 to a scalar is deprecated, and will error in future. Ensure you extract a single element from your array before performing this operation. (Deprecated NumPy 1.25.)\n",
      "  rhos_1[j,i] = rho_1[j+i*N]\n",
      "100%|████████████████████████████████████████████████████████████████████████████████████| 5/5 [00:00<00:00,  6.69it/s]\n"
     ]
    }
   ],
   "source": [
    "wfic_3 = []\n",
    "for ee in tqdm(etas):\n",
    "    eta = [ee,ee,-ee]\n",
    "    abs_r = steck(F=F,N=N,Delta=Delta,Omega_p=Omega_p,eta=eta,c=c_ops_,omega=omega0)\n",
    "    abs_b = steck(F=F,N=N,Delta=Delta,Omega_p=Omega_p,eta=eta,c=c_ops_,omega=-omega0)\n",
    "    wfic_3.append((abs_r-abs_b).real)"
   ]
  },
  {
   "cell_type": "code",
   "execution_count": 178,
   "metadata": {},
   "outputs": [
    {
     "name": "stderr",
     "output_type": "stream",
     "text": [
      "100%|████████████████████████████████████████████████████████████████████████████████████| 5/5 [00:00<00:00,  8.17it/s]\n"
     ]
    }
   ],
   "source": [
    "ws_3 = []\n",
    "c_ops_ = c_ops(F,2*np.pi*GammaJgJe)\n",
    "for ee in tqdm(etas):\n",
    "    eta = [ee,ee,-ee]\n",
    "    A_m = S_(F=F,Delta=Delta,Omega_p=Omega_p,omega0=omega0,c=c_ops_,eta=eta)\n",
    "    A_p = S_(F=F,Delta=Delta,Omega_p=Omega_p,omega0=-omega0,c=c_ops_,eta=eta)\n",
    "    ws_3.append((2*A_m-2*A_p).real)"
   ]
  },
  {
   "cell_type": "code",
   "execution_count": 179,
   "metadata": {},
   "outputs": [
    {
     "data": {
      "image/png": "[encoded data removed]",
      "text/plain": [
       "<Figure size 350x250 with 1 Axes>"
      ]
     },
     "metadata": {},
     "output_type": "display_data"
    }
   ],
   "source": [
    "plt.figure(figsize=(3.5,2.5))\n",
    "plt.rcParams.update({'font.size': 10})\n",
    "#plt.title('W_{exp}')\n",
    "plt.scatter(etas,ws_3,marker='s',label=r'$W$',color='white',edgecolor = '#b3cde3')\n",
    "plt.scatter(etas,wfic_3,marker='d',label=r'$W_{\\text{fic}}$',color='white',edgecolor = '#8c96c6')\n",
    "#plt.scatter(Gammas,wexp,marker='+',label=r'$W_{\\text{exp}}$',color='#88419d')\n",
    "#plt.xlim(0,5000)\n",
    "plt.legend(prop={'size': 8})\n",
    "plt.ylabel('Rates (MHz)',labelpad=2)\n",
    "plt.xlabel('η',labelpad=0)\n",
    "#plt.ylim(0)\n",
    "#plt.xlim(0)\n",
    "plt.yscale(\"log\")\n",
    "#plt.savefig(\"I1_Ws_Gammas.pdf\",bbox_inches = \"tight\")\n",
    "\n",
    "\n",
    "plt.show()"
   ]
  },
  {
   "cell_type": "code",
   "execution_count": 180,
   "metadata": {},
   "outputs": [],
   "source": [
    "t_ = []\n",
    "n_ = []\n",
    "for i in range(Nmax+1):\n",
    "    t_.append(np.loadtxt(\"\"+str(path_name)+\"data_B5.0_D10_10_D12_20_O10_O11_23.5_O11_10_\"+str(i)+\"_Gamma_80.0_ntraj_500_eta_0.01_improved.txt\")[:, 0])\n",
    "    n_.append(np.loadtxt(\"\"+str(path_name)+\"data_B5.0_D10_10_D12_20_O10_O11_23.5_O11_10_\"+str(i)+\"_Gamma_80.0_ntraj_500_eta_0.01_improved.txt\")[:, 1])"
   ]
  },
  {
   "cell_type": "code",
   "execution_count": 181,
   "metadata": {},
   "outputs": [],
   "source": [
    "nMC_ = np.zeros(len(t_[0]))\n",
    "for i in range(Nmax+1):\n",
    "    nMC_ +=np.array(n_[i])*P[i]"
   ]
  },
  {
   "cell_type": "code",
   "execution_count": 182,
   "metadata": {},
   "outputs": [],
   "source": [
    "t_1 = []\n",
    "n_1 = []\n",
    "for i in range(Nmax+1):\n",
    "    t_1.append(np.loadtxt(\"\"+str(path_name)+\"data_B5.0_D10_10_D12_20_O10_O11_23.5_O11_10_\"+str(i)+\"_Gamma_80.0_ntraj_500_eta_0.025_improved.txt\")[:, 0])\n",
    "    n_1.append(np.loadtxt(\"\"+str(path_name)+\"data_B5.0_D10_10_D12_20_O10_O11_23.5_O11_10_\"+str(i)+\"_Gamma_80.0_ntraj_500_eta_0.025_improved.txt\")[:, 1])"
   ]
  },
  {
   "cell_type": "code",
   "execution_count": 183,
   "metadata": {},
   "outputs": [],
   "source": [
    "nMC_1 = np.zeros(len(t_1[0]))\n",
    "for i in range(Nmax+1):\n",
    "    nMC_1 +=np.array(n_1[i])*P[i]"
   ]
  },
  {
   "cell_type": "code",
   "execution_count": 184,
   "metadata": {},
   "outputs": [],
   "source": [
    "t_2 = []\n",
    "n_2 = []\n",
    "for i in range(Nmax+1):\n",
    "    t_2.append(np.loadtxt(\"\"+str(path_name)+\"data_B5.0_D10_10_D12_20_O10_O11_23.5_O11_10_\"+str(i)+\"_Gamma_80.0_ntraj_500_eta_0.075_improved.txt\")[:, 0])\n",
    "    n_2.append(np.loadtxt(\"\"+str(path_name)+\"data_B5.0_D10_10_D12_20_O10_O11_23.5_O11_10_\"+str(i)+\"_Gamma_80.0_ntraj_500_eta_0.075_improved.txt\")[:, 1])"
   ]
  },
  {
   "cell_type": "code",
   "execution_count": 185,
   "metadata": {},
   "outputs": [],
   "source": [
    "nMC_2 = np.zeros(len(t_2[0]))\n",
    "for i in range(Nmax+1):\n",
    "    nMC_2 +=np.array(n_2[i])*P[i]"
   ]
  },
  {
   "cell_type": "code",
   "execution_count": 186,
   "metadata": {},
   "outputs": [],
   "source": [
    "t_3 = []\n",
    "n_3 = []\n",
    "for i in range(Nmax+1):\n",
    "    t_3.append(np.loadtxt(\"\"+str(path_name)+\"data_B5.0_D10_10_D12_20_O10_O11_23.5_O11_10_\"+str(i)+\"_Gamma_80.0_ntraj_500_eta_0.1_improved.txt\")[:, 0])\n",
    "    n_3.append(np.loadtxt(\"\"+str(path_name)+\"data_B5.0_D10_10_D12_20_O10_O11_23.5_O11_10_\"+str(i)+\"_Gamma_80.0_ntraj_500_eta_0.1_improved.txt\")[:, 1])"
   ]
  },
  {
   "cell_type": "code",
   "execution_count": 187,
   "metadata": {},
   "outputs": [],
   "source": [
    "nMC_3 = np.zeros(len(t_3[0]))\n",
    "for i in range(Nmax+1):\n",
    "    nMC_3 +=np.array(n_3[i])*P[i]"
   ]
  },
  {
   "cell_type": "code",
   "execution_count": 188,
   "metadata": {},
   "outputs": [
    {
     "data": {
      "image/png": "[encoded data removed]",
      "text/plain": [
       "<Figure size 640x480 with 1 Axes>"
      ]
     },
     "metadata": {},
     "output_type": "display_data"
    }
   ],
   "source": [
    "plt.figure()\n",
    "#plt.title(\"I=1\")\n",
    "\n",
    "#plt.plot(np.linspace(-10*GammaJgJe,20*GammaJgJe,200),pope1)\n",
    "plt.plot(t_[0]*1e-3,nMC_,label='η=0.01')\n",
    "plt.plot(t_1[0]*1e-3,nMC_1,label='η=0.025')\n",
    "plt.plot(t18[0]*1e-3,nMC18,label='η=0.044')\n",
    "plt.plot(t_2[0]*1e-3,nMC_2,label='η=0.075')\n",
    "plt.plot(t_3[0]*1e-3,nMC_3,label='η=0.1')\n",
    "\n",
    "plt.ylabel('$\\\\langle n \\\\rangle$')\n",
    "plt.xlabel('$t$ (ms)')\n",
    "plt.ylim(0)\n",
    "#plt.axvline(10.787075035802768, linestyle='--')\n",
    "#plt.axvline(65, linestyle='--' )\n",
    "#plt.xlim(0,0.1)\n",
    "\n",
    "\n",
    "plt.legend()\n",
    "#plt.savefig(\"I1_cooling_diff_in_state.png\",bbox_inches = \"tight\")\n",
    "plt.show()"
   ]
  },
  {
   "cell_type": "code",
   "execution_count": 189,
   "metadata": {},
   "outputs": [
    {
     "name": "stdout",
     "output_type": "stream",
     "text": [
      "[3.01548999e+00 1.11028889e-03 2.98123608e-02]\n"
     ]
    }
   ],
   "source": [
    "p0 = (3, .001,.001)\n",
    "wexp_3 = []\n",
    "popt, pcov = curve_fit(func,t_[0],nMC_,p0)\n",
    "print(popt)\n",
    "wexp_3.append(popt[1])"
   ]
  },
  {
   "cell_type": "code",
   "execution_count": 190,
   "metadata": {},
   "outputs": [
    {
     "name": "stdout",
     "output_type": "stream",
     "text": [
      "[3.05903157 0.00609379 0.05923268]\n"
     ]
    }
   ],
   "source": [
    "popt, pcov = curve_fit(func,t_1[0],nMC_1,p0)\n",
    "print(popt)\n",
    "wexp_3.append(popt[1])"
   ]
  },
  {
   "cell_type": "code",
   "execution_count": 191,
   "metadata": {},
   "outputs": [
    {
     "data": {
      "text/plain": [
       "300.030003"
      ]
     },
     "execution_count": 191,
     "metadata": {},
     "output_type": "execute_result"
    }
   ],
   "source": [
    "t18[0][6000]"
   ]
  },
  {
   "cell_type": "code",
   "execution_count": 192,
   "metadata": {},
   "outputs": [
    {
     "name": "stdout",
     "output_type": "stream",
     "text": [
      "[3.11098061 0.01644699 0.03945668]\n"
     ]
    }
   ],
   "source": [
    "popt, pcov = curve_fit(func,t18[0][:6000],nMC18[:6000],p0)\n",
    "print(popt)\n",
    "wexp_3.append(popt[1])"
   ]
  },
  {
   "cell_type": "code",
   "execution_count": 193,
   "metadata": {},
   "outputs": [
    {
     "name": "stdout",
     "output_type": "stream",
     "text": [
      "[3.18058354 0.03555683 0.02661658]\n"
     ]
    }
   ],
   "source": [
    "popt, pcov = curve_fit(func,t_2[0][:150],nMC_2[:150],p0)\n",
    "print(popt)\n",
    "wexp_3.append(popt[1])"
   ]
  },
  {
   "cell_type": "code",
   "execution_count": 194,
   "metadata": {},
   "outputs": [
    {
     "name": "stdout",
     "output_type": "stream",
     "text": [
      "[3.15927447 0.04439411 0.01399825]\n"
     ]
    }
   ],
   "source": [
    "popt, pcov = curve_fit(func,t_3[0][:100],nMC_3[:100],p0)\n",
    "print(popt)\n",
    "wexp_3.append(popt[1])"
   ]
  },
  {
   "cell_type": "code",
   "execution_count": 195,
   "metadata": {},
   "outputs": [
    {
     "data": {
      "image/png": "[encoded data removed]",
      "text/plain": [
       "<Figure size 350x250 with 1 Axes>"
      ]
     },
     "metadata": {},
     "output_type": "display_data"
    }
   ],
   "source": [
    "plt.figure(figsize=(3.5,2.5))\n",
    "plt.rcParams.update({'font.size': 10})\n",
    "#plt.title('W_{exp}')\n",
    "plt.scatter(etas,ws_3,marker='s',label=r'$W$',color='white',edgecolor = '#b3cde3')\n",
    "plt.scatter(etas,wfic_3,marker='d',label=r'$W_{\\text{fic}}$',color='white',edgecolor = '#8c96c6')\n",
    "plt.scatter(etas,wexp_3,marker='+',label=r'$W_{\\text{exp}}$',color='#88419d')\n",
    "#plt.xlim(0,5000)\n",
    "plt.legend(prop={'size': 8})\n",
    "plt.ylabel('Rates (MHz)',labelpad=2)\n",
    "plt.xlabel('η',labelpad=0)\n",
    "#plt.ylim(0)\n",
    "#plt.xlim(0)\n",
    "plt.yscale(\"log\")\n",
    "#plt.savefig(\"I1_Ws_Gammas.pdf\",bbox_inches = \"tight\")\n",
    "\n",
    "\n",
    "plt.show()"
   ]
  },
  {
   "cell_type": "code",
   "execution_count": 196,
   "metadata": {},
   "outputs": [],
   "source": [
    "plt.rcParams.update({'font.size':8 })"
   ]
  },
  {
   "cell_type": "code",
   "execution_count": 399,
   "metadata": {},
   "outputs": [
    {
     "data": {
      "image/png": "[encoded data removed]",
      "text/plain": [
       "<Figure size 350x300 with 4 Axes>"
      ]
     },
     "metadata": {},
     "output_type": "display_data"
    }
   ],
   "source": [
    "from matplotlib.gridspec import GridSpec\n",
    "from mpl_toolkits.axes_grid1.inset_locator import inset_axes\n",
    "\n",
    "def format_axes(fig):\n",
    "    for i, ax in enumerate(fig.axes):\n",
    "        ax.text(0.5, 0.5, \"ax%d\" % (i+1), va=\"center\", ha=\"center\")\n",
    "        ax.tick_params(labelbottom=False, labelleft=False)\n",
    "\n",
    "fig = plt.figure(constrained_layout=True,figsize=(3.5,3))\n",
    "\n",
    "gs = GridSpec(2, 3, figure=fig)\n",
    "gs.update(wspace=0.005, hspace=0.05)\n",
    "ax1 = fig.add_subplot(gs[0, :])\n",
    "# identical to ax1 = plt.subplot(gs.new_subplotspec((0, 0), colspan=3))\n",
    "\n",
    "ax1.set_title(r'(a)',loc='left',fontdict={'fontsize': 8})\n",
    "ax1.scatter(Gammas,ws,marker='s',label=r'$W$',color='white',edgecolor = '#a6cee3',s=plt.rcParams['lines.markersize'] ** 2)\n",
    "ax1.scatter(Gammas,wfic,marker='d',label=r'$W_{\\text{fic}}$',color='white',edgecolor = '#1f78b4',s=plt.rcParams['lines.markersize'] ** 2)\n",
    "ax1.scatter(Gammas,wexp,marker='+',label=r'$W_{\\text{exp}}$',color='#a7cf82',s=plt.rcParams['lines.markersize'] ** 2)\n",
    "#plt.xlim(0,5000)\n",
    "#plt.legend()\n",
    "ax1.set_ylabel('Rates (MHz)')\n",
    "ax1.set_xlabel('$\\Gamma_{J_gJ_e}$ (ΜΗz/2π)')\n",
    "\n",
    "ax1.set_yscale('log')\n",
    "ax1.legend(prop={'size': 8},bbox_to_anchor=(1.01, 1.2))\n",
    "#plt.xlim(0)\n",
    "#plt.savefig(\"I1_eta_Wtilde.png\",bbox_inches = \"tight\")\n",
    "\n",
    "\n",
    "ax2 = fig.add_subplot(gs[1, 0])\n",
    "ax2.set_title(r'(b)',loc='left',fontdict={'fontsize': 8})\n",
    "ax2.scatter(etas,ws_1,marker='s',label=r'$W$',color='white',edgecolor = '#a6cee3',s=plt.rcParams['lines.markersize'] ** 2)\n",
    "ax2.scatter(etas,wfic_1,marker='d',label=r'$W_{\\text{fic}}$',color='white',edgecolor = '#1f78b4',s=plt.rcParams['lines.markersize'] ** 2)\n",
    "ax2.scatter(etas,wexp_1,marker='+',label=r'$W_{\\text{exp}}$',color='#a7cf82',s=plt.rcParams['lines.markersize'] ** 2)\n",
    "#plt.xlim(0,5000)\n",
    "#plt.legend()\n",
    "ax2.set_xlim(0.005,0.105)\n",
    "ax2.set_xticks([0.01,0.05,0.1])\n",
    "ax2.set_xticklabels([\"0.01\",\"0.05\",\"0.1\"])\n",
    "ax2.set_ylabel('Rates (MHz)')\n",
    "#ax2.set_xlabel('$η$')\n",
    "\n",
    "ax2.set_yscale('log')\n",
    "#ax2.set_xscale('log')\n",
    "#ax2.legend(prop={'size': 8})\n",
    "\n",
    "ax3 = fig.add_subplot(gs[1, 1], sharey=ax2)\n",
    "ax3.set_title(r'(c)',loc='left',fontdict={'fontsize': 8})\n",
    "ax3.scatter(etas,ws_2,marker='s',label=r'$W$',color='white',edgecolor = '#a6cee3',s=plt.rcParams['lines.markersize'] ** 2)\n",
    "ax3.scatter(etas,wfic_2,marker='d',label=r'$W_{\\text{fic}}$',color='white',edgecolor = '#1f78b4',s=plt.rcParams['lines.markersize'] ** 2)\n",
    "ax3.scatter(etas,wexp_2,marker='+',label=r'$W_{\\text{exp}}$',color='#a7cf82',s=plt.rcParams['lines.markersize'] ** 2)\n",
    "ax3.tick_params(left=False, labelleft=False)\n",
    "#plt.xlim(0,5000)\n",
    "#plt.legend()\n",
    "#ax3.set_ylabel('Rates (MHz)')\n",
    "ax3.set_xlabel('$η$')\n",
    "ax3.set_xlim(0.005,0.105)\n",
    "ax3.set_xticks([0.01,0.05,0.1])\n",
    "ax3.set_xticklabels([\"0.01\",\"0.05\",\"0.1\"])\n",
    "\n",
    "ax3.set_yscale('log')\n",
    "#ax3.set_xscale('log')\n",
    "#ax3.legend(prop={'size': 8})\n",
    "\n",
    "\n",
    "\n",
    "ax4 = fig.add_subplot(gs[1, 2], sharey=ax2)\n",
    "ax4.set_title(r'(d)',loc='left',fontdict={'fontsize': 8})\n",
    "ax4.scatter(etas,ws_3,marker='s',label=r'$W$',color='white',edgecolor = '#a6cee3',s=plt.rcParams['lines.markersize'] ** 2)\n",
    "ax4.scatter(etas,wfic_3,marker='d',label=r'$W_{\\text{fic}}$',color='white',edgecolor = '#1f78b4',s=plt.rcParams['lines.markersize'] ** 2)\n",
    "ax4.scatter(etas,wexp_3,marker='+',label=r'$W_{\\text{exp}}$',color='#a7cf82',s=plt.rcParams['lines.markersize'] ** 2)\n",
    "ax4.tick_params(left=False, labelleft=False)\n",
    "#ax4.set_xlim(0.005,0.105)\n",
    "#plt.legend()\n",
    "#ax4.set_ylabel('Rates (MHz)')\n",
    "#ax4.set_xlabel('$η$')\n",
    "ax4.set_xlim(0.005,0.105)\n",
    "ax4.set_xticks([0.01,0.05,0.1])\n",
    "ax4.set_xticklabels([\"0.01\",\"0.05\",\"0.1\"])\n",
    "\n",
    "ax4.set_yscale('log')\n",
    "#ax4.set_xscale('log')\n",
    "#ax4.legend(prop={'size': 8})\n",
    "\n",
    "\n",
    "#plt.xlim(45,55)\n",
    "\n",
    "#fig.suptitle(\"GridSpec\")\n",
    "#format_axes(fig)\n",
    "\n",
    "plt.savefig(\"I1_rates_Gammas_etas.pdf\",bbox_inches = \"tight\")\n",
    "\n",
    "\n",
    "plt.show()"
   ]
  }
 ],
 "metadata": {
  "kernelspec": {
   "display_name": "Python 3 (ipykernel)",
   "language": "python",
   "name": "python3"
  },
  "language_info": {
   "codemirror_mode": {
    "name": "ipython",
    "version": 3
   },
   "file_extension": ".py",
   "mimetype": "text/x-python",
   "name": "python",
   "nbconvert_exporter": "python",
   "pygments_lexer": "ipython3",
   "version": "3.11.11"
  }
 },
 "nbformat": 4,
 "nbformat_minor": 4
}
