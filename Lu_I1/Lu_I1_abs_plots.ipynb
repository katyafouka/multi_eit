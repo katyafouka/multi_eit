{
 "cells": [
  {
   "cell_type": "code",
   "execution_count": 288,
   "metadata": {},
   "outputs": [],
   "source": [
    "import numpy as np\n",
    "from qutip import *\n",
    "from sympy.physics.quantum.cg import CG\n",
    "from sympy.physics.wigner import wigner_6j, wigner_3j\n",
    "from tqdm import tqdm\n",
    "import matplotlib.pyplot as plt\n",
    "from scipy.linalg import inv\n",
    "from numpy import linalg as LA\n",
    "from scipy.optimize import minimize_scalar\n",
    "import math\n",
    "from scipy.optimize import curve_fit\n",
    "from scipy.sparse.linalg import eigs,spsolve\n",
    "from scipy.odr import ODR, Model, Data, RealData\n",
    "import matplotlib.cm as cm"
   ]
  },
  {
   "cell_type": "code",
   "execution_count": 134,
   "metadata": {},
   "outputs": [
    {
     "data": {
      "text/plain": [
       "[1, 0, 1, 2]"
      ]
     },
     "execution_count": 134,
     "metadata": {},
     "output_type": "execute_result"
    }
   ],
   "source": [
    "#toy model's qunatum numbers\n",
    "I = 1\n",
    "S = 1\n",
    "Je = 0\n",
    "Jg = 1\n",
    "Lg = 2\n",
    "F = [i for i in range(int(I-Jg),int(I + Jg + 1),1)]\n",
    "F.insert(0,int(I+Je))\n",
    "F "
   ]
  },
  {
   "cell_type": "code",
   "execution_count": 135,
   "metadata": {},
   "outputs": [
    {
     "data": {
      "text/plain": [
       "12"
      ]
     },
     "execution_count": 135,
     "metadata": {},
     "output_type": "execute_result"
    }
   ],
   "source": [
    "#number of atomic states\n",
    "N = [2*F[i] + 1 for i in range(len(F))]\n",
    "N = sum(N)\n",
    "N"
   ]
  },
  {
   "cell_type": "code",
   "execution_count": 136,
   "metadata": {},
   "outputs": [
    {
     "name": "stdout",
     "output_type": "stream",
     "text": [
      "7.021541606995384\n",
      "[-0.0002465559058692723, -0.07142857142857142, 0.008928571428571428, 0.0625]\n"
     ]
    }
   ],
   "source": [
    "#Zeeman stuff\n",
    "\n",
    "muB = 9.3e-24 #Bohr magneton J T^-1\n",
    "hbar = 1.054e-34 # J s\n",
    "\n",
    "muB = muB/hbar #hbar = 1\n",
    "muB = muB/(2*np.pi)\n",
    "muB = muB/1e6  # so it's in 1/2π (MHz T^-1)\n",
    "#muB=1\n",
    "\n",
    "# 1Gauss is 0.0001 T\n",
    "B=5e-04\n",
    "print(muB*B) \n",
    "#gF = [1,0,1,2]\n",
    "gF = []\n",
    "FF = [7,6,7,8]\n",
    "II = 7\n",
    "\n",
    "\n",
    "#Lande g factor for real Lu with I=7\n",
    "me = 9.1093837015e-31 \n",
    "mp = 1.67262192369e-27 \n",
    "\n",
    "mI = 3.169 #nuclear magnetic moment of 176Lu in units of μN\n",
    "gI = mI/II\n",
    "gJg = 1 + (Jg*(Jg +1) + S*(S + 1) - Lg*(Lg + 1))/(2*Jg*(Jg + 1))\n",
    "\n",
    "\n",
    "gF.append(-gI*me/mp)\n",
    "\n",
    "for i in range(3):\n",
    "    gF.append(gJg*(FF[i +1]*(FF[i+1] + 1) + Jg*(Jg+1) - II*(II+1))/(2*FF[i+1]*(FF[i +1] + 1)))\n",
    "\n",
    "    \n",
    "print(gF)"
   ]
  },
  {
   "cell_type": "code",
   "execution_count": 137,
   "metadata": {},
   "outputs": [
    {
     "data": {
      "text/plain": [
       "-0.0002465559058692723"
      ]
     },
     "execution_count": 137,
     "metadata": {},
     "output_type": "execute_result"
    }
   ],
   "source": [
    "-gI*me/mp"
   ]
  },
  {
   "cell_type": "code",
   "execution_count": 138,
   "metadata": {},
   "outputs": [
    {
     "name": "stdout",
     "output_type": "stream",
     "text": [
      "-0.0017312025515115329\n",
      "-0.5015386862139559\n",
      "0.06269233577674449\n",
      "0.4388463504372115\n"
     ]
    }
   ],
   "source": [
    "for i in range(len(F)):\n",
    "    print(gF[i]*muB*B) #(1/2π MHz)"
   ]
  },
  {
   "cell_type": "code",
   "execution_count": 139,
   "metadata": {},
   "outputs": [],
   "source": [
    "def base(F,i,mF):\n",
    "    #numbering states from 0 to N-1 starting from -mF to mF\n",
    "    # 0 is |F',-mF'>\n",
    "    if i==0:\n",
    "        b = basis(N,mF+F[i])\n",
    "    elif i==1:\n",
    "        b = basis(N,mF + F[i] + 2*F[0] + 1)\n",
    "    elif i==2:\n",
    "        b = basis(N,mF + F[i] + 2*F[0] + 1 + 2*F[1] + 1)\n",
    "    else:\n",
    "        b = basis(N,mF + F[i] + 2*F[0] + 1 + 2*F[1] + 1 + 2*F[2] +1)\n",
    "    return b    "
   ]
  },
  {
   "cell_type": "markdown",
   "metadata": {},
   "source": [
    "## Dissipation"
   ]
  },
  {
   "cell_type": "code",
   "execution_count": 141,
   "metadata": {},
   "outputs": [],
   "source": [
    "GammaJgJe = 2.44745 #1/2π (MHz) 3D1 to 3P0\n",
    "#GammaJgJe = 2.5"
   ]
  },
  {
   "cell_type": "code",
   "execution_count": 142,
   "metadata": {},
   "outputs": [],
   "source": [
    "def GammaFgFe(F,ig,Je,Jg,I,GammaJgJe):\n",
    "    return float((2*Je + 1)*(2*F[ig] + 1)*wigner_6j(Je,F[0],I,F[ig],Jg,1)**2)*GammaJgJe\n",
    "    #return GammaJgJe"
   ]
  },
  {
   "cell_type": "code",
   "execution_count": 148,
   "metadata": {},
   "outputs": [
    {
     "data": {
      "text/plain": [
       "2.44745"
      ]
     },
     "execution_count": 148,
     "metadata": {},
     "output_type": "execute_result"
    }
   ],
   "source": [
    "GammaFgFe(F,1,Je,Jg,I,GammaJgJe) + GammaFgFe(F,2,Je,Jg,I,GammaJgJe) + GammaFgFe(F,3,Je,Jg,I,GammaJgJe)"
   ]
  },
  {
   "cell_type": "code",
   "execution_count": 154,
   "metadata": {},
   "outputs": [],
   "source": [
    "def cg(F,ig,mFg,ie,mFe,q):\n",
    "    return float(CG(F[ig],mFg,1,q,F[ie],mFe).doit())\n",
    "    #return 1"
   ]
  },
  {
   "cell_type": "code",
   "execution_count": 156,
   "metadata": {},
   "outputs": [
    {
     "name": "stdout",
     "output_type": "stream",
     "text": [
      "1.0\n",
      "1.0000000000000002\n",
      "1.0\n"
     ]
    }
   ],
   "source": [
    "#checking our normalization convention\n",
    "for ig in range(1,len(F)):\n",
    "    we=0\n",
    "    for mfg in range(-F[ig],F[ig] + 1):\n",
    "        for mfe in range(-F[0],F[0]+1):\n",
    "            for q in [-1,0,1]:\n",
    "                we+=1/(2*F[0] + 1)*cg(F,ig,mfg,0,mfe,q)**2\n",
    "                \n",
    "    print(we)"
   ]
  },
  {
   "cell_type": "code",
   "execution_count": 158,
   "metadata": {},
   "outputs": [
    {
     "name": "stdout",
     "output_type": "stream",
     "text": [
      "0.27193888888888884\n",
      "0.8158166666666667\n",
      "1.3596944444444443\n",
      "2.44745\n"
     ]
    }
   ],
   "source": [
    "#checking decay rates\n",
    "we_ = 0\n",
    "for ig in range(1,len(F)):\n",
    "    we=0\n",
    "    for mfg in range(-F[ig],F[ig] + 1):\n",
    "        for mfe in range(-F[0],F[0]+1):\n",
    "            for q in [-1,0,1]:\n",
    "                we+=1/(2*F[0] + 1)*cg(F,ig,mfg,0,mfe,q)**2*GammaFgFe(F,ig,Je,Jg,I,GammaJgJe)\n",
    "    print(we)\n",
    "    we_+=we\n",
    "print(we_)"
   ]
  },
  {
   "cell_type": "code",
   "execution_count": 160,
   "metadata": {},
   "outputs": [
    {
     "name": "stdout",
     "output_type": "stream",
     "text": [
      "0.8158166666666666\n",
      "0.8158166666666666\n",
      "0.8158166666666666\n"
     ]
    }
   ],
   "source": [
    "#checking decay rates\n",
    "for mfe in range(-F[0],F[0]+1):\n",
    "    we=0\n",
    "    for ig in range(1,len(F)):\n",
    "        for mfg in range(-F[ig],F[ig] + 1):\n",
    "            for q in [-1,0,1]:\n",
    "                we+=1/(2*F[0] + 1)*cg(F,ig,mfg,0,mfe,q)**2*GammaFgFe(F,ig,Je,Jg,I,GammaJgJe)\n",
    "    print(we)"
   ]
  },
  {
   "cell_type": "code",
   "execution_count": 162,
   "metadata": {},
   "outputs": [],
   "source": [
    "#for ig in range(1,len(F)):\n",
    "#    for mFe in range(-F[0],F[0]+1):\n",
    "#        for mFg in range(-F[ig],F[ig]+1):\n",
    "#            for q in qs:\n",
    "#                print((1/np.sqrt(2*F[0] + 1)*cg(F,ig,mFg,0,mFe,q))**-2)"
   ]
  },
  {
   "cell_type": "code",
   "execution_count": 164,
   "metadata": {},
   "outputs": [],
   "source": [
    "#single collapse operator for each transtion\n",
    "c_ops = []\n",
    "qs = [-1,0,1]\n",
    "\n",
    "for ig in range(1,len(F)):\n",
    "    for mfg in range(-F[ig],F[ig] + 1):\n",
    "        for mfe in range(-F[0], F[0] + 1):\n",
    "            for q in qs:\n",
    "                if cg(F,ig,mfg,0,mfe,q) != 0:\n",
    "                    cops =np.sqrt(1/(2*F[0] + 1))*cg(F,ig,mfg,0,mfe,q)*np.sqrt(GammaFgFe(F,ig,Je,Jg,I,GammaJgJe))*base(F,ig,mfg)*base(F,0,mfe).dag()\n",
    "                    c_ops.append(cops.to(\"CSR\"))\n",
    "                else:\n",
    "                    continue"
   ]
  },
  {
   "cell_type": "markdown",
   "metadata": {},
   "source": [
    "## Absorption of rest ion"
   ]
  },
  {
   "cell_type": "code",
   "execution_count": 167,
   "metadata": {},
   "outputs": [],
   "source": [
    "def H_I(F,Omega_p):\n",
    "    HI=0*basis(N,0)*basis(N,0).dag()\n",
    "    for mFe in range(-F[0],F[0] + 1):\n",
    "        for ig in range(1,len(F)):\n",
    "            for mFg in range(-F[ig],F[ig]+1):\n",
    "                for q in range(-1,2):\n",
    "                    HI += cg(F,ig,mFg,0,mFe,q)*Omega_p[ig-1,q+1]/2*base(F,0,mFe)*base(F,ig,mFg).dag()\n",
    "                \n",
    "    return -1/np.sqrt(2*F[0]+1)*(HI + HI.dag()) "
   ]
  },
  {
   "cell_type": "code",
   "execution_count": 169,
   "metadata": {},
   "outputs": [],
   "source": [
    "def H_0(F,Delta):\n",
    "    H0 = 0*basis(N,0)*basis(N,0).dag()\n",
    "    for l in range(len(F)):\n",
    "        for mF in range(-F[l],F[l]+1):\n",
    "            H0 += (Delta[l] + gF[l]*muB*mF*B)*base(F,l,mF)*base(F,l,mF).dag() \n",
    "    return H0"
   ]
  },
  {
   "cell_type": "code",
   "execution_count": 171,
   "metadata": {},
   "outputs": [],
   "source": [
    "def pop_e(F,N,Delta,Omega_p,c_ops,Deltap_min, Deltap_max,nn):   \n",
    "    \n",
    "    #number of excited states\n",
    "    Ne = 2*F[0] + 1\n",
    "\n",
    "    e = [basis(N,i) for i in range(0,Ne)]\n",
    "    g = [basis(N,i) for i in range(Ne,N)]\n",
    "\n",
    "    #Delta = [0,4*GammaJgJe,4*GammaJgJe,4*GammaJgJe + 5]\n",
    "    i=0\n",
    "    popes = np.zeros(nn)\n",
    "    popgs = np.zeros(nn)\n",
    "    rhos = []\n",
    "    \n",
    "    #HI - laser-ion interaction      \n",
    "    HI=H_I(F,Omega_p) \n",
    "\n",
    "    for Deltap in tqdm(np.linspace(Dmin,Dmax,nn)):\n",
    "    #for Deltap in [50,55,60,65,0]:\n",
    "        \n",
    "        Delta[2] = Deltap\n",
    "        \n",
    "        #H0 - ion\n",
    "        H0 = H_0(F,Delta)\n",
    "    \n",
    "        #total Hamiltonian\n",
    "        H = H0 + HI\n",
    "        #make sure Hamiltonian is sparse\n",
    "        H = H.to(\"CSR\").tidyup(atol=1e-8)\n",
    "        #print(H)\n",
    "        \n",
    "        rho = steadystate(H,c_ops)\n",
    "        rhos.append(rho)\n",
    "        \n",
    "        for j in range(len(e)):\n",
    "            popes[i] += expect(e[j]*e[j].dag(),rho)\n",
    "            \n",
    "        #for k in range(len(g)):\n",
    "            #popgs[i] += expect(g[k]*g[k].dag(),rho)\n",
    "    \n",
    "        #print(i)\n",
    "        #print(popgs[i])\n",
    "        #print(popes[i])\n",
    "        i+=1\n",
    "        \n",
    "    #return popes,popgs,rhos\n",
    "    return popes"
   ]
  },
  {
   "cell_type": "markdown",
   "metadata": {},
   "source": [
    "### σ+ and σ- for all transitions"
   ]
  },
  {
   "cell_type": "code",
   "execution_count": 174,
   "metadata": {},
   "outputs": [],
   "source": [
    "#Rabi frequencies Ω_F,F' #1/2π (MHz)\n",
    "omega = [30,5,30]\n",
    "\n",
    "#turn on/off polarization\n",
    "Omega_p= np.zeros((3,3)) # (ig-1, q + 1) transition from F[ig] state to F' with polarization q\n",
    "\n",
    "Omega_p[0,0] = Omega_p[0,2] = omega[0]       #σ+ and σ- for F=F[1] to F'= F[0]\n",
    "Omega_p[1,0] = Omega_p[1,2] = omega[1]      #σ+ and σ- for F=F[2] to F'=F[0]\n",
    "Omega_p[2,0] = Omega_p[2,2] = omega[2]     #σ+ and σ- for F=F[3] to F'=F[0]"
   ]
  },
  {
   "cell_type": "code",
   "execution_count": 176,
   "metadata": {},
   "outputs": [
    {
     "name": "stdout",
     "output_type": "stream",
     "text": [
      "7.021541606995384\n"
     ]
    },
    {
     "data": {
      "text/plain": [
       "[0, 10, 20.5, 20]"
      ]
     },
     "execution_count": 176,
     "metadata": {},
     "output_type": "execute_result"
    }
   ],
   "source": [
    "B = 5e-04\n",
    "print(muB*B) \n",
    "Delta = [0,10,20.5,20]\n",
    "\n",
    "#Delta[2] = Delta[3] -(gF[2] + gF[3])*muB*B\n",
    "\n",
    "Delta"
   ]
  },
  {
   "cell_type": "code",
   "execution_count": 178,
   "metadata": {},
   "outputs": [
    {
     "data": {
      "text/plain": [
       "0.00275"
      ]
     },
     "execution_count": 178,
     "metadata": {},
     "output_type": "execute_result"
    }
   ],
   "source": [
    "Dmin = 17.5\n",
    "Dmax = 23\n",
    "NN = 2000\n",
    "step = (Dmax-Dmin)/NN\n",
    "step"
   ]
  },
  {
   "cell_type": "code",
   "execution_count": 180,
   "metadata": {},
   "outputs": [],
   "source": [
    "#Delta[2] for each time two individual detunings driving F[ig] mFg -> F[ie] mFe match (potential dark states)\n",
    "Delta_ds = []\n",
    "\n",
    "for mFe in range(-F[0],F[0] + 1):\n",
    "    for mFg in range(-F[2],F[2] + 1):\n",
    "        for q in [-1,1]:\n",
    "            #print(mFg)\n",
    "            if cg(F,2,mFg,0,mFe,q) != 0:\n",
    "                #print(F[0],mFe)\n",
    "                #print(F[2],mFg)\n",
    "                #print('\\n')\n",
    "                for ig in [1,3]:\n",
    "                    for mFFg in range(-F[ig],F[ig] + 1):\n",
    "                        for qq in [-1,1]:\n",
    "                        #print(mFFg)\n",
    "                            if cg(F,ig,mFFg,0,mFe,qq) != 0:\n",
    "                                Delta_ds.append(Delta[ig] - gF[2]*mFg*muB*B + gF[ig]*mFFg*muB*B)"
   ]
  },
  {
   "cell_type": "code",
   "execution_count": 182,
   "metadata": {},
   "outputs": [
    {
     "data": {
      "text/plain": [
       "20.501538686213955"
      ]
     },
     "execution_count": 182,
     "metadata": {},
     "output_type": "execute_result"
    }
   ],
   "source": [
    "Delta_ds.sort()\n",
    "Delta_ds[-2] #detuning for chosen dark state"
   ]
  },
  {
   "cell_type": "code",
   "execution_count": 185,
   "metadata": {},
   "outputs": [
    {
     "name": "stderr",
     "output_type": "stream",
     "text": [
      "100%|█████████████████████████████████████████████████████████████████████████████| 2000/2000 [00:04<00:00, 473.56it/s]\n"
     ]
    }
   ],
   "source": [
    "pope = pop_e(F,N,Delta,Omega_p,c_ops,Dmin,Dmax,NN)"
   ]
  },
  {
   "cell_type": "code",
   "execution_count": 186,
   "metadata": {},
   "outputs": [
    {
     "data": {
      "image/png": "[encoded data removed]",
      "text/plain": [
       "<Figure size 640x480 with 1 Axes>"
      ]
     },
     "metadata": {},
     "output_type": "display_data"
    }
   ],
   "source": [
    "plt.figure()\n",
    "#plt.plot(np.linspace(-10*GammaJgJe,20*GammaJgJe,200),pope1)\n",
    "plt.plot(np.linspace(Dmin,Dmax,NN),pope,color='black')\n",
    "#for i in range(len(Delta_ds)):\n",
    "    #plt.axvline(Delta_ds[i], linestyle=(0, (1, 10)))\n",
    "plt.ylabel('$P_{|e>}$')\n",
    "plt.xlabel('$Δ_{p}/2π \\ (ΜHz)$')\n",
    "plt.ylim(0)\n",
    "plt.axvline(Delta_ds[-2] + 1.4, linestyle='--',color='red')\n",
    "plt.axvline(Delta_ds[-2], linestyle='--',color='black')\n",
    "plt.axvline(Delta_ds[-2] - 1.4, linestyle='--',color='blue')\n",
    "#plt.axvline(10.787075035802768, linestyle='--')\n",
    "#plt.axvline(65, linestyle='--' )\n",
    "plt.xlim(17.5,23)\n",
    "\n",
    "#plt.savefig(\"I1_abs_1_ds.png\",bbox_inches = \"tight\")\n",
    "plt.show()"
   ]
  },
  {
   "cell_type": "code",
   "execution_count": 187,
   "metadata": {},
   "outputs": [],
   "source": [
    "#Rabi frequencies Ω_F,F' #1/2π (MHz)\n",
    "omega = [23.5,10,23.5]\n",
    "\n",
    "#turn on/off polarization\n",
    "Omega_p= np.zeros((3,3)) # (ig-1, q + 1) transition from F state to F' with polarization q\n",
    "\n",
    "Omega_p[0,0] = Omega_p[0,2] = omega[0]       #σ+ and σ- for F=F[1] to F'= F[0]\n",
    "Omega_p[1,0] = Omega_p[1,2] = omega[1]      #σ+ and σ- for F=F[2] to F'=F[0]\n",
    "Omega_p[2,0] = Omega_p[2,2] = omega[2]     #σ+ and σ- for F=F[3] to F'=F[0]"
   ]
  },
  {
   "cell_type": "code",
   "execution_count": 188,
   "metadata": {},
   "outputs": [
    {
     "name": "stdout",
     "output_type": "stream",
     "text": [
      "7.021541606995384\n"
     ]
    },
    {
     "data": {
      "text/plain": [
       "[0, 10, 20.5, 20]"
      ]
     },
     "execution_count": 188,
     "metadata": {},
     "output_type": "execute_result"
    }
   ],
   "source": [
    "B = 5e-04\n",
    "print(muB*B) \n",
    "Delta = [0,10,20.5,20]\n",
    "\n",
    "#Delta[2] = Delta[3] -(gF[2] + gF[3])*muB*B\n",
    "\n",
    "Delta"
   ]
  },
  {
   "cell_type": "code",
   "execution_count": 189,
   "metadata": {},
   "outputs": [
    {
     "name": "stderr",
     "output_type": "stream",
     "text": [
      "100%|█████████████████████████████████████████████████████████████████████████████| 2000/2000 [00:04<00:00, 482.65it/s]\n"
     ]
    }
   ],
   "source": [
    "pope1 = pop_e(F,N,Delta,Omega_p,c_ops,Dmin,Dmax,NN)"
   ]
  },
  {
   "cell_type": "code",
   "execution_count": 190,
   "metadata": {},
   "outputs": [
    {
     "data": {
      "image/png": "[encoded data removed]",
      "text/plain": [
       "<Figure size 640x480 with 1 Axes>"
      ]
     },
     "metadata": {},
     "output_type": "display_data"
    }
   ],
   "source": [
    "plt.figure()\n",
    "#plt.plot(np.linspace(-10*GammaJgJe,20*GammaJgJe,200),pope1)\n",
    "plt.plot(np.linspace(Dmin,Dmax,NN),pope1)\n",
    "#for i in range(len(Delta_ds)):\n",
    "    #plt.axvline(Delta_ds[i], linestyle=(0, (1, 10)))\n",
    "plt.ylabel('$P_{|e>}$')\n",
    "plt.xlabel('$Δ_{p}/2π \\ (ΜHz)$')\n",
    "plt.ylim(0)\n",
    "plt.axvline(Delta_ds[-2] + 1.4, linestyle='--',color='red')\n",
    "plt.axvline(Delta_ds[-2], linestyle='--',color='black')\n",
    "plt.axvline(Delta_ds[-2] - 1.4, linestyle='--',color='blue')\n",
    "#plt.axvline(10.787075035802768, linestyle='--')\n",
    "#plt.axvline(65, linestyle='--' )\n",
    "plt.xlim(17.5,23)\n",
    "#plt.savefig(\"Lu_eit_e_pi.png\",bbox_inches = \"tight\")\n",
    "plt.show()"
   ]
  },
  {
   "cell_type": "code",
   "execution_count": 195,
   "metadata": {},
   "outputs": [],
   "source": [
    "#Rabi frequencies Ω_F,F' #1/2π (MHz)\n",
    "omega = [23,8,23]\n",
    "\n",
    "#turn on/off polarization\n",
    "Omega_p= np.zeros((3,3)) # (ig-1, q + 1) transition from F state to F' with polarization q\n",
    "\n",
    "Omega_p[0,0] = Omega_p[0,2] = omega[0]       #σ+ and σ- for F=F[1] to F'= F[0]\n",
    "Omega_p[1,0] = Omega_p[1,2] = omega[1]      #σ+ and σ- for F=F[2] to F'=F[0]\n",
    "Omega_p[2,0] = Omega_p[2,2] = omega[2]     #σ+ and σ- for F=F[3] to F'=F[0]"
   ]
  },
  {
   "cell_type": "code",
   "execution_count": 196,
   "metadata": {},
   "outputs": [
    {
     "name": "stderr",
     "output_type": "stream",
     "text": [
      "100%|█████████████████████████████████████████████████████████████████████████████| 2000/2000 [00:04<00:00, 480.86it/s]\n"
     ]
    }
   ],
   "source": [
    "pope2 = pop_e(F,N,Delta,Omega_p,c_ops,Dmin,Dmax,NN)"
   ]
  },
  {
   "cell_type": "code",
   "execution_count": 197,
   "metadata": {},
   "outputs": [
    {
     "data": {
      "image/png": "[encoded data removed]",
      "text/plain": [
       "<Figure size 640x480 with 1 Axes>"
      ]
     },
     "metadata": {},
     "output_type": "display_data"
    }
   ],
   "source": [
    "plt.figure()\n",
    "#plt.plot(np.linspace(-10*GammaJgJe,20*GammaJgJe,200),pope1)\n",
    "plt.plot(np.linspace(Dmin,Dmax,NN),pope2)\n",
    "#for i in range(len(Delta_ds)):\n",
    "    #plt.axvline(Delta_ds[i], linestyle=(0, (1, 10)))\n",
    "plt.ylabel('$P_{|e>}$')\n",
    "plt.xlabel('$Δ_{p}/2π \\ (ΜHz)$')\n",
    "plt.ylim(0)\n",
    "plt.axvline(Delta_ds[-2] + 1.4, linestyle='--',color='red')\n",
    "plt.axvline(Delta_ds[-2], linestyle='--',color='black')\n",
    "plt.axvline(Delta_ds[-2] - 1.4, linestyle='--',color='blue')\n",
    "#plt.axvline(10.787075035802768, linestyle='--')\n",
    "#plt.axvline(65, linestyle='--' )\n",
    "plt.xlim(17.5,23)\n",
    "#plt.savefig(\"Lu_eit_e_pi.png\",bbox_inches = \"tight\")\n",
    "plt.show()"
   ]
  },
  {
   "cell_type": "code",
   "execution_count": 198,
   "metadata": {},
   "outputs": [
    {
     "data": {
      "image/png": "[encoded data removed]",
      "text/plain": [
       "<Figure size 640x480 with 1 Axes>"
      ]
     },
     "metadata": {},
     "output_type": "display_data"
    }
   ],
   "source": [
    "plt.figure()\n",
    "#plt.plot(np.linspace(-10*GammaJgJe,20*GammaJgJe,200),pope1)\n",
    "plt.plot(np.linspace(Dmin,Dmax,NN),pope,label='1',color='black')\n",
    "plt.plot(np.linspace(Dmin,Dmax,NN),pope1,label='2',color='royalblue')\n",
    "plt.plot(np.linspace(Dmin,Dmax,NN),pope2,label='3',color='lightblue')\n",
    "plt.ylabel('$P_{|e>}$')\n",
    "plt.xlabel('$Δ_{11}/2π \\ (ΜHz)$')\n",
    "plt.ylim(0)\n",
    "plt.axvline(Delta_ds[-2]+1.4, linestyle='--',color='red')\n",
    "plt.axvline(Delta_ds[-2], linestyle='--',color='black')\n",
    "plt.axvline(Delta_ds[-2]- 1.4, linestyle='--',color='blue')\n",
    "plt.xlim(17.5,23)\n",
    "plt.legend()\n",
    "#plt.savefig(\"abs_1_compare_extra_lasers_eta_1e4.png\",bbox_inches = \"tight\")\n",
    "\n",
    "plt.show()"
   ]
  },
  {
   "cell_type": "code",
   "execution_count": 199,
   "metadata": {},
   "outputs": [
    {
     "data": {
      "text/plain": [
       "2.44745"
      ]
     },
     "execution_count": 199,
     "metadata": {},
     "output_type": "execute_result"
    }
   ],
   "source": [
    "eta = 0.044\n",
    "omega0 = 1.4\n",
    "GammaJgJe"
   ]
  },
  {
   "cell_type": "code",
   "execution_count": 200,
   "metadata": {},
   "outputs": [
    {
     "data": {
      "text/plain": [
       "0.006370607607157511"
      ]
     },
     "execution_count": 200,
     "metadata": {},
     "output_type": "execute_result"
    }
   ],
   "source": [
    "pope[int((Delta_ds[-2]+omega0-Dmin)/step)] - pope[int((Delta_ds[-2]-omega0-Dmin)/step)]"
   ]
  },
  {
   "cell_type": "code",
   "execution_count": 201,
   "metadata": {},
   "outputs": [
    {
     "data": {
      "text/plain": [
       "0.0013812379309392905"
      ]
     },
     "execution_count": 201,
     "metadata": {},
     "output_type": "execute_result"
    }
   ],
   "source": [
    "pope1[int((Delta_ds[-2]+omega0-Dmin)/step)] - pope1[int((Delta_ds[-2]-omega0-Dmin)/step)]"
   ]
  },
  {
   "cell_type": "code",
   "execution_count": 202,
   "metadata": {},
   "outputs": [
    {
     "data": {
      "text/plain": [
       "0.0026565438532405007"
      ]
     },
     "execution_count": 202,
     "metadata": {},
     "output_type": "execute_result"
    }
   ],
   "source": [
    "pope2[int((Delta_ds[-2]+omega0-Dmin)/step)] - pope2[int((Delta_ds[-2]-omega0-Dmin)/step)]"
   ]
  },
  {
   "cell_type": "code",
   "execution_count": 204,
   "metadata": {},
   "outputs": [],
   "source": [
    "wabs = np.array([pope[int((Delta_ds[-2]+omega0-Dmin)/step)] - pope[int((Delta_ds[-2]-omega0-Dmin)/step)],\n",
    "                pope2[int((Delta_ds[-2]+omega0-Dmin)/step)] - pope2[int((Delta_ds[-2]-omega0-Dmin)/step)],\n",
    "                pope1[int((Delta_ds[-2]+omega0-Dmin)/step)] - pope1[int((Delta_ds[-2]-omega0-Dmin)/step)]])\n",
    "wabs = 2*np.pi*GammaJgJe*eta**2*wabs"
   ]
  },
  {
   "cell_type": "code",
   "execution_count": 207,
   "metadata": {},
   "outputs": [
    {
     "data": {
      "text/plain": [
       "array([1.89661816e-04, 7.90889917e-05, 4.11213672e-05])"
      ]
     },
     "execution_count": 207,
     "metadata": {},
     "output_type": "execute_result"
    }
   ],
   "source": [
    "wabs"
   ]
  },
  {
   "cell_type": "markdown",
   "metadata": {},
   "source": [
    "## Fictitious lasers"
   ]
  },
  {
   "cell_type": "code",
   "execution_count": 208,
   "metadata": {},
   "outputs": [],
   "source": [
    "def find_nearest(array, value):\n",
    "    array = np.asarray(array)\n",
    "    idx = (np.abs(array - value)).argmin()\n",
    "    return idx"
   ]
  },
  {
   "cell_type": "code",
   "execution_count": 209,
   "metadata": {},
   "outputs": [],
   "source": [
    "def H1_(F,eta,Omega_p):\n",
    "    H1=0*basis(N,0)*basis(N,0).dag()\n",
    "    for mFe in range(-F[0],F[0] + 1):\n",
    "        for ig in range(1,len(F)):\n",
    "            for mFg in range(-F[ig],F[ig]+1):\n",
    "                for q in range(-1,2):\n",
    "                    H1 += eta[ig-1]*cg(F,ig,mFg,0,mFe,q)*Omega_p[ig-1,q+1]/2*base(F,0,mFe)*base(F,ig,mFg).dag()\n",
    "                \n",
    "    return -1/np.sqrt(2*F[0]+1)*H1"
   ]
  },
  {
   "cell_type": "code",
   "execution_count": 210,
   "metadata": {},
   "outputs": [],
   "source": [
    "def steck(F,N,Delta,Omega_p,eta,c,Dmin, Dmax,nn):\n",
    "    H0_ = H_0(F,Delta)\n",
    "    HI_ = H_I(F,Omega_p) \n",
    "    \n",
    "\n",
    "    H0 = H0_ + HI_ \n",
    "    #H0 = H0.to(\"CSR\").tidyup(atol=1e-8)\n",
    "\n",
    "    rho0 = steadystate(H0,c)\n",
    "\n",
    "    L0 = 0*spre(c[0])*spost(c[0].dag())\n",
    "    for i in range(len(c)):\n",
    "        L0 += spre(c[i])*spost(c[i].dag()) - 0.5*(spre(c[i].dag()*c[i]) + spost(c[i].dag()*c[i]))\n",
    "    #L0 = sum(c)\n",
    "\n",
    "    L0 += -1j*(spre(H0) - spost(H0))\n",
    "    \n",
    "    #L0 = np.array(L0)\n",
    "    L0 = L0.data_as('ndarray')\n",
    "\n",
    "    H_1 = H1_(F,eta,Omega_p)\n",
    "    L_1 = -1j*(spre(H_1) - spost(H_1))\n",
    "\n",
    "    #L_1 = np.array(L_1)\n",
    "    L_1 = L_1.data_as('ndarray')\n",
    "\n",
    "    H1 = H_1.dag()\n",
    "    L1 = -1j*(spre(H1) - spost(H1))\n",
    "\n",
    "    #L1 = np.array(L1)\n",
    "    L1 = L1.data_as('ndarray')\n",
    "   \n",
    "    #popes = np.zeros(nn,dtype='complex64')\n",
    "    #coh = np.zeros(nn,dtype='complex64')\n",
    "    abs = np.zeros(nn,dtype='complex64')\n",
    "    \n",
    "    k=0\n",
    "\n",
    "    for Deltap in tqdm(np.linspace(Dmin,Dmax,nn)):\n",
    "\n",
    "\n",
    "        #S3 = -np.matmul(inv(L0-3j*Deltap*np.eye(N**2)),L1)\n",
    "        S2 = -np.matmul(inv(L0-2j*Deltap*np.eye(N**2)),L1)\n",
    "        #S2 = -np.matmul(inv(L0-2j*Deltap*np.eye(N**2)+ np.matmul(L_1,S3)),L1)\n",
    "        S1 = -np.matmul(inv(L0-1j*Deltap*np.eye(N**2) + np.matmul(L_1,S2)),L1)\n",
    "        #S1 = -np.matmul(inv(L0-1j*Deltap*np.eye(N**2)),L1) \n",
    "\n",
    "        #T_3 = -np.matmul(inv(L0+3j*Deltap*np.eye(N**2)),L_1)\n",
    "        T_2 = -np.matmul(inv(L0+2j*Deltap*np.eye(N**2)),L_1)\n",
    "        #T_2 = -np.matmul(inv(L0+2j*Deltap*np.eye(N**2)+ np.matmul(L1,T_3)),L_1)\n",
    "        T_1 = -np.matmul(inv(L0+1j*Deltap*np.eye(N**2)+ np.matmul(L1,T_2)),L_1)\n",
    "        #T_1 = -np.matmul(inv(L0+1j*Deltap*np.eye(N**2)),L_1)\n",
    "    \n",
    "        L = np.matmul(L_1,S1) + L0 +np.matmul(L1,T_1)\n",
    "    \n",
    "        eigenvalues, eigenvectors = eigs(L,k=1,sigma = 0+0j)\n",
    "\n",
    "        rhoss = eigenvectors[:,0]\n",
    "\n",
    "        rhos = np.zeros((N,N),dtype='complex64')\n",
    "        for i in range(N):\n",
    "            for j in range(N):\n",
    "                rhos[j,i] = rhoss[j+i*N]\n",
    "\n",
    "        rho = Qobj(rhos)\n",
    "        if rho.tr() != 0:\n",
    "            rho = rho/rho.tr()\n",
    "\n",
    "        rho_ = operator_to_vector(rho)\n",
    "        #rho_ = np.array(rho_)\n",
    "        rho_ = rho_.data_as('ndarray')\n",
    "\n",
    "        rho1 = np.matmul(S1,rho_)\n",
    "        #rho2 = np.matmul(S2,rho_)\n",
    "        #rho3 = np.matmul(S3,rho_)\n",
    "\n",
    "        rho_1 = np.matmul(T_1,rho_)\n",
    "        #rho_2 = np.matmul(T_2,rho_)\n",
    "        #rho_3 = np.matmul(T_3,rho_)\n",
    "\n",
    "        rhos1 = np.zeros((N,N),dtype='complex64')\n",
    "        #rhos2 = np.zeros((N,N),dtype='complex64')\n",
    "        #rhos3 = np.zeros((N,N),dtype='complex64')\n",
    "        rhos_1 = np.zeros((N,N),dtype='complex64')\n",
    "        #rhos_2 = np.zeros((N,N),dtype='complex64')\n",
    "        #rhos_3 = np.zeros((N,N),dtype='complex64')\n",
    "        for i in range(N):\n",
    "            for j in range(N):\n",
    "                rhos1[j,i] = rho1[j+i*N]\n",
    "                #rhos2[j,i] = rho2[j+i*N]\n",
    "                #rhos3[j,i] = rho3[j+i*N]\n",
    "                rhos_1[j,i] = rho_1[j+i*N]\n",
    "                #rhos_2[j,i] = rho_2[j+i*N]\n",
    "                #rhos_3[j,i] = rho_3[j+i*N]\n",
    "            \n",
    "        Rho1 = Qobj(rhos1)\n",
    "        #Rho2 = Qobj(rhos2)\n",
    "        #Rho3 = Qobj(rhos3)\n",
    "        Rho_1 = Qobj(rhos_1)\n",
    "        #Rho_2 = Qobj(rhos_2)\n",
    "        #Rho_3 = Qobj(rhos_3)\n",
    "\n",
    "        #ree = 0+0j\n",
    "        #rcoh = 0+0j\n",
    "        rabs= 0+0j\n",
    "        for ig in range(1,len(F)):\n",
    "            for mfg in range(-F[ig],F[ig] + 1):\n",
    "                for mfe in range(-F[0],F[0]+1):\n",
    "                    for q in range(-1,2):\n",
    "                        #ree+=2*np.pi*1/(2*F[0] + 1)*cg(F,ig,mfg,0,mfe,q)**2*GammaFgFe(F,ig,Je,Jg,I,GammaJgJe)*(\n",
    "                            #expect(base(F,0,mfe)*base(F,0,mfe).dag(),rho))\n",
    "\n",
    "                        #rcoh+=-1j*2*np.pi*cg(F,ig,mfg,0,mfe,q)*Omega_p[ig-1,q+1]/2*1/np.sqrt(2*F[0]+1)*(\n",
    "                            #expect(base(F,ig,mfg)*base(F,0,mfe).dag(),rho) -(\n",
    "                                #expect(base(F,0,mfe)*base(F,ig,mfg).dag(),rho)))\n",
    "\n",
    "                        rabs+=-1j*2*np.pi*eta[ig-1]*cg(F,ig,mfg,0,mfe,q)*Omega_p[ig-1,q+1]/2*1/np.sqrt(2*F[0]+1)*(\n",
    "                            expect(base(F,ig,mfg)*base(F,0,mfe).dag(),Rho_1)-expect(base(F,0,mfe)*base(F,ig,mfg).dag(),Rho1))\n",
    "\n",
    "        #popes[k] = ree\n",
    "        #coh[k] = rcoh\n",
    "        abs[k] = rabs\n",
    "        k+=1\n",
    "        \n",
    "\n",
    "    return abs"
   ]
  },
  {
   "cell_type": "code",
   "execution_count": 211,
   "metadata": {},
   "outputs": [
    {
     "data": {
      "text/plain": [
       "[0.044048956567528934, 0.0440478934887154, -0.04404795993114125]"
      ]
     },
     "execution_count": 211,
     "metadata": {},
     "output_type": "execute_result"
    }
   ],
   "source": [
    "#system parameters\n",
    "c = 299792458\n",
    "λ = 646e-9\n",
    "f = c/λ \n",
    "f_1 = 11.2e9\n",
    "f_2 = 10.5e9\n",
    "\n",
    "#176Lu+\n",
    "amu = 1.66053886e-27\n",
    "hbar = 1.054571817e-34\n",
    "M = 176*amu\n",
    "\n",
    "omega0  = 1.4\n",
    "\n",
    "eta = []\n",
    "\n",
    "eta2 = 2*np.pi*f/c*np.sqrt(hbar/(2*M*2*np.pi*omega0*10**(6)))\n",
    "eta.append(eta2)\n",
    "\n",
    "eta3 = 2*np.pi*(f-f_1)/c*np.sqrt(hbar/(2*M*2*np.pi*omega0*10**(6)))\n",
    "eta.append(eta3)\n",
    "\n",
    "eta4 = -2*np.pi*(f-f_2)/c*np.sqrt(hbar/(2*M*2*np.pi*omega0*10**(6)))\n",
    "eta.append(eta4)\n",
    "\n",
    "#eta = [0.01,0.01,-0.01]\n",
    "#eta = [1e-4,1e-4,-1e-4]\n",
    "#eta = [1e-8,1e-8,-1e-8]\n",
    "#eta = [0.1,0.1,-0.1]\n",
    "eta"
   ]
  },
  {
   "cell_type": "code",
   "execution_count": 212,
   "metadata": {},
   "outputs": [
    {
     "name": "stdout",
     "output_type": "stream",
     "text": [
      "0.0025\n"
     ]
    }
   ],
   "source": [
    "#Rabi frequencies Ω_F,F' #1/2π (MHz)\n",
    "omega = [30,5,30]\n",
    "\n",
    "#turn on/off polarization\n",
    "Omega_p= np.zeros((3,3)) # (ig-1, q + 1) transition from F[ig] state to F' with polarization q\n",
    "\n",
    "Omega_p[0,0] = Omega_p[0,2] = omega[0]       #σ+ and σ- for F=F[1] to F'= F[0]\n",
    "Omega_p[1,0] = Omega_p[1,2] = omega[1]      #σ+ and σ- for F=F[2] to F'=F[0]\n",
    "Omega_p[2,0] = Omega_p[2,2] = omega[2]     #σ+ and σ- for F=F[3] to F'=F[0]\n",
    "\n",
    "B = 5e-04\n",
    "Delta = [0,10,Delta_ds[-2],20]\n",
    "\n",
    "Dmin_ = -2.5\n",
    "Dmax_ = 2.5\n",
    "nn_ = 2000\n",
    "step = (Dmax_-Dmin_)/nn_\n",
    "print(step)\n",
    "\n",
    "params = dict(F=F,N=N,Delta=Delta,Omega_p=Omega_p,eta=eta,c=c_ops,Dmin=Dmin_, Dmax=Dmax_,nn=nn_)"
   ]
  },
  {
   "cell_type": "code",
   "execution_count": 213,
   "metadata": {},
   "outputs": [
    {
     "data": {
      "text/plain": [
       "[0, 10, 20.501538686213955, 20]"
      ]
     },
     "execution_count": 213,
     "metadata": {},
     "output_type": "execute_result"
    }
   ],
   "source": [
    "Delta "
   ]
  },
  {
   "cell_type": "code",
   "execution_count": 216,
   "metadata": {},
   "outputs": [
    {
     "name": "stderr",
     "output_type": "stream",
     "text": [
      "  0%|                                                                                         | 0/2000 [00:00<?, ?it/s]C:\\Users\\kfouka\\AppData\\Local\\Temp\\ipykernel_10348\\3405167121.py:89: DeprecationWarning: Conversion of an array with ndim > 0 to a scalar is deprecated, and will error in future. Ensure you extract a single element from your array before performing this operation. (Deprecated NumPy 1.25.)\n",
      "  rhos1[j,i] = rho1[j+i*N]\n",
      "C:\\Users\\kfouka\\AppData\\Local\\Temp\\ipykernel_10348\\3405167121.py:92: DeprecationWarning: Conversion of an array with ndim > 0 to a scalar is deprecated, and will error in future. Ensure you extract a single element from your array before performing this operation. (Deprecated NumPy 1.25.)\n",
      "  rhos_1[j,i] = rho_1[j+i*N]\n",
      "100%|██████████████████████████████████████████████████████████████████████████████| 2000/2000 [01:17<00:00, 25.79it/s]\n"
     ]
    }
   ],
   "source": [
    "abs = steck(**params)"
   ]
  },
  {
   "cell_type": "code",
   "execution_count": 230,
   "metadata": {},
   "outputs": [
    {
     "name": "stderr",
     "output_type": "stream",
     "text": [
      "C:\\Users\\kfouka\\AppData\\Local\\anaconda3\\Lib\\site-packages\\matplotlib\\cbook.py:1699: ComplexWarning: Casting complex values to real discards the imaginary part\n",
      "  return math.isfinite(val)\n",
      "C:\\Users\\kfouka\\AppData\\Local\\anaconda3\\Lib\\site-packages\\matplotlib\\cbook.py:1345: ComplexWarning: Casting complex values to real discards the imaginary part\n",
      "  return np.asarray(x, float)\n"
     ]
    },
    {
     "data": {
      "image/png": "[encoded data removed]",
      "text/plain": [
       "<Figure size 640x480 with 1 Axes>"
      ]
     },
     "metadata": {},
     "output_type": "display_data"
    }
   ],
   "source": [
    "plt.figure()\n",
    "#plt.plot(np.linspace(-10*GammaJgJe,20*GammaJgJe,200),pope1)\n",
    "plt.plot(np.linspace(Dmin_,Dmax_,nn_),abs)\n",
    "#plt.plot(np.linspace(Dmin,Dmax,nn),np.sum(pop_es_h,axis=0),'--')\n",
    "plt.ylabel('$P_{|e>}$')\n",
    "plt.xlabel('$Δ/2π \\ (ΜHz)$')\n",
    "plt.axvline(1.4, linestyle='--',color='grey')\n",
    "plt.axvline(0, linestyle='--',color='grey')\n",
    "plt.axvline(- 1.4, linestyle='--',color='grey')\n",
    "plt.ylim(0)\n",
    "#plt.legend()\n",
    "\n",
    "plt.xlim(-2.5,2.5)\n",
    "\n",
    "#plt.savefig(\"Lu_eit_e_pi.png\",bbox_inches = \"tight\")\n",
    "plt.show()"
   ]
  },
  {
   "cell_type": "code",
   "execution_count": 231,
   "metadata": {},
   "outputs": [
    {
     "name": "stdout",
     "output_type": "stream",
     "text": [
      "0.0025\n"
     ]
    }
   ],
   "source": [
    "#Rabi frequencies Ω_F,F' #1/2π (MHz)\n",
    "omega = [23.5,10,23.5]\n",
    "\n",
    "#turn on/off polarization\n",
    "Omega_p= np.zeros((3,3)) # (ig-1, q + 1) transition from F[ig] state to F' with polarization q\n",
    "\n",
    "Omega_p[0,0] = Omega_p[0,2] = omega[0]       #σ+ and σ- for F=F[1] to F'= F[0]\n",
    "Omega_p[1,0] = Omega_p[1,2] = omega[1]      #σ+ and σ- for F=F[2] to F'=F[0]\n",
    "Omega_p[2,0] = Omega_p[2,2] = omega[2]     #σ+ and σ- for F=F[3] to F'=F[0]\n",
    "\n",
    "B = 5e-04\n",
    "Delta = [0,10,Delta_ds[-2],20]\n",
    "\n",
    "Dmin_ = -2.5\n",
    "Dmax_ = 2.5\n",
    "nn_ = 2000\n",
    "step = (Dmax_-Dmin_)/nn_\n",
    "print(step)\n",
    "\n",
    "params = dict(F=F,N=N,Delta=Delta,Omega_p=Omega_p,eta=eta,c=c_ops,Dmin=Dmin_, Dmax=Dmax_,nn=nn_)"
   ]
  },
  {
   "cell_type": "code",
   "execution_count": 232,
   "metadata": {},
   "outputs": [
    {
     "name": "stderr",
     "output_type": "stream",
     "text": [
      "  0%|                                                                                         | 0/2000 [00:00<?, ?it/s]C:\\Users\\kfouka\\AppData\\Local\\Temp\\ipykernel_10348\\3405167121.py:89: DeprecationWarning: Conversion of an array with ndim > 0 to a scalar is deprecated, and will error in future. Ensure you extract a single element from your array before performing this operation. (Deprecated NumPy 1.25.)\n",
      "  rhos1[j,i] = rho1[j+i*N]\n",
      "C:\\Users\\kfouka\\AppData\\Local\\Temp\\ipykernel_10348\\3405167121.py:92: DeprecationWarning: Conversion of an array with ndim > 0 to a scalar is deprecated, and will error in future. Ensure you extract a single element from your array before performing this operation. (Deprecated NumPy 1.25.)\n",
      "  rhos_1[j,i] = rho_1[j+i*N]\n",
      "100%|██████████████████████████████████████████████████████████████████████████████| 2000/2000 [01:17<00:00, 25.79it/s]\n"
     ]
    }
   ],
   "source": [
    "abs1 = steck(**params)"
   ]
  },
  {
   "cell_type": "code",
   "execution_count": 233,
   "metadata": {},
   "outputs": [
    {
     "data": {
      "image/png": "[encoded data removed]",
      "text/plain": [
       "<Figure size 640x480 with 1 Axes>"
      ]
     },
     "metadata": {},
     "output_type": "display_data"
    }
   ],
   "source": [
    "plt.figure()\n",
    "#plt.plot(np.linspace(-10*GammaJgJe,20*GammaJgJe,200),pope1)\n",
    "plt.plot(np.linspace(Dmin_,Dmax_,nn_),abs1)\n",
    "#plt.plot(np.linspace(Dmin,Dmax,nn),np.sum(pop_es_h,axis=0),'--')\n",
    "plt.ylabel('$P_{|e>}$')\n",
    "plt.xlabel('$Δ/2π \\ (ΜHz)$')\n",
    "plt.axvline(1.4, linestyle='--',color='grey')\n",
    "plt.axvline(0, linestyle='--',color='grey')\n",
    "plt.axvline(- 1.4, linestyle='--',color='grey')\n",
    "plt.ylim(0)\n",
    "#plt.legend()\n",
    "\n",
    "plt.xlim(-2.5,2.5)\n",
    "\n",
    "#plt.savefig(\"Lu_eit_e_pi.png\",bbox_inches = \"tight\")\n",
    "plt.show()"
   ]
  },
  {
   "cell_type": "code",
   "execution_count": 234,
   "metadata": {},
   "outputs": [
    {
     "name": "stdout",
     "output_type": "stream",
     "text": [
      "0.0025\n"
     ]
    }
   ],
   "source": [
    "#Rabi frequencies Ω_F,F' #1/2π (MHz)\n",
    "omega = [23,8,23]\n",
    "\n",
    "#turn on/off polarization\n",
    "Omega_p= np.zeros((3,3)) # (ig-1, q + 1) transition from F[ig] state to F' with polarization q\n",
    "\n",
    "Omega_p[0,0] = Omega_p[0,2] = omega[0]       #σ+ and σ- for F=F[1] to F'= F[0]\n",
    "Omega_p[1,0] = Omega_p[1,2] = omega[1]      #σ+ and σ- for F=F[2] to F'=F[0]\n",
    "Omega_p[2,0] = Omega_p[2,2] = omega[2]     #σ+ and σ- for F=F[3] to F'=F[0]\n",
    "\n",
    "B = 5e-04\n",
    "Delta = [0,10,Delta_ds[-2],20]\n",
    "\n",
    "Dmin_ = -2.5\n",
    "Dmax_ = 2.5\n",
    "nn_ = 2000\n",
    "step = (Dmax_-Dmin_)/nn_\n",
    "print(step)\n",
    "\n",
    "params = dict(F=F,N=N,Delta=Delta,Omega_p=Omega_p,eta=eta,c=c_ops,Dmin=Dmin_, Dmax=Dmax_,nn=nn_)"
   ]
  },
  {
   "cell_type": "code",
   "execution_count": 235,
   "metadata": {},
   "outputs": [
    {
     "name": "stderr",
     "output_type": "stream",
     "text": [
      "  0%|                                                                                         | 0/2000 [00:00<?, ?it/s]C:\\Users\\kfouka\\AppData\\Local\\Temp\\ipykernel_10348\\3405167121.py:89: DeprecationWarning: Conversion of an array with ndim > 0 to a scalar is deprecated, and will error in future. Ensure you extract a single element from your array before performing this operation. (Deprecated NumPy 1.25.)\n",
      "  rhos1[j,i] = rho1[j+i*N]\n",
      "C:\\Users\\kfouka\\AppData\\Local\\Temp\\ipykernel_10348\\3405167121.py:92: DeprecationWarning: Conversion of an array with ndim > 0 to a scalar is deprecated, and will error in future. Ensure you extract a single element from your array before performing this operation. (Deprecated NumPy 1.25.)\n",
      "  rhos_1[j,i] = rho_1[j+i*N]\n",
      "100%|██████████████████████████████████████████████████████████████████████████████| 2000/2000 [01:16<00:00, 26.13it/s]\n"
     ]
    }
   ],
   "source": [
    "abs2 = steck(**params)"
   ]
  },
  {
   "cell_type": "code",
   "execution_count": 236,
   "metadata": {},
   "outputs": [
    {
     "data": {
      "image/png": "[encoded data removed]",
      "text/plain": [
       "<Figure size 640x480 with 1 Axes>"
      ]
     },
     "metadata": {},
     "output_type": "display_data"
    }
   ],
   "source": [
    "plt.figure()\n",
    "#plt.plot(np.linspace(-10*GammaJgJe,20*GammaJgJe,200),pope1)\n",
    "plt.plot(np.linspace(Dmin_,Dmax_,nn_),abs2)\n",
    "#plt.plot(np.linspace(Dmin,Dmax,nn),np.sum(pop_es_h,axis=0),'--')\n",
    "plt.ylabel('$P_{|e>}$')\n",
    "plt.xlabel('$Δ/2π \\ (ΜHz)$')\n",
    "plt.axvline(1.4, linestyle='--',color='grey')\n",
    "plt.axvline(0, linestyle='--',color='grey')\n",
    "plt.axvline(- 1.4, linestyle='--',color='grey')\n",
    "plt.ylim(0)\n",
    "#plt.legend()\n",
    "\n",
    "plt.xlim(-2.5,2.5)\n",
    "\n",
    "#plt.savefig(\"Lu_eit_e_pi.png\",bbox_inches = \"tight\")\n",
    "plt.show()"
   ]
  },
  {
   "cell_type": "code",
   "execution_count": 60,
   "metadata": {},
   "outputs": [
    {
     "data": {
      "text/plain": [
       "(0.0018110832-9.7273384e-11j)"
      ]
     },
     "execution_count": 60,
     "metadata": {},
     "output_type": "execute_result"
    }
   ],
   "source": [
    "abs[int((omega0-Dmin_)/step)] - abs[int((-omega0-Dmin_)/step)]"
   ]
  },
  {
   "cell_type": "code",
   "execution_count": 61,
   "metadata": {},
   "outputs": [
    {
     "data": {
      "text/plain": [
       "(0.016925426+7.054309e-10j)"
      ]
     },
     "execution_count": 61,
     "metadata": {},
     "output_type": "execute_result"
    }
   ],
   "source": [
    "abs1[int((omega0-Dmin_)/step)] - abs1[int((-omega0-Dmin_)/step)]"
   ]
  },
  {
   "cell_type": "code",
   "execution_count": 62,
   "metadata": {},
   "outputs": [
    {
     "data": {
      "text/plain": [
       "(0.0058180713+4.028114e-11j)"
      ]
     },
     "execution_count": 62,
     "metadata": {},
     "output_type": "execute_result"
    }
   ],
   "source": [
    "abs2[int((omega0-Dmin_)/step)] - abs2[int((-omega0-Dmin_)/step)]"
   ]
  },
  {
   "cell_type": "code",
   "execution_count": 63,
   "metadata": {},
   "outputs": [],
   "source": [
    "w_tilde = np.array([(abs[int((omega0-Dmin_)/step)] - abs[int((-omega0-Dmin_)/step)]).real,\n",
    "                   (abs2[int((omega0-Dmin_)/step)] - abs2[int((-omega0-Dmin_)/step)]).real,\n",
    "                   (abs1[int((omega0-Dmin_)/step)] - abs1[int((-omega0-Dmin_)/step)]).real])"
   ]
  },
  {
   "cell_type": "code",
   "execution_count": 64,
   "metadata": {},
   "outputs": [
    {
     "data": {
      "text/plain": [
       "array([0.00181108, 0.00581807, 0.01692543], dtype=float32)"
      ]
     },
     "execution_count": 64,
     "metadata": {},
     "output_type": "execute_result"
    }
   ],
   "source": [
    "w_tilde"
   ]
  },
  {
   "cell_type": "markdown",
   "metadata": {},
   "source": [
    "## Fluctuation Spectrum"
   ]
  },
  {
   "cell_type": "code",
   "execution_count": 247,
   "metadata": {},
   "outputs": [],
   "source": [
    "def H_I_(F,Omega_p):\n",
    "    HI=0*basis(N,0)*basis(N,0).dag()\n",
    "    for mFe in range(-F[0],F[0] + 1):\n",
    "        for ig in range(1,len(F)):\n",
    "            for mFg in range(-F[ig],F[ig]+1):\n",
    "                for q in range(-1,2):\n",
    "                    HI += 2*np.pi*cg(F,ig,mFg,0,mFe,q)*Omega_p[ig-1,q+1]/2*base(F,0,mFe)*base(F,ig,mFg).dag()\n",
    "                \n",
    "    return -1/np.sqrt(2*F[0]+1)*(HI + HI.dag()) "
   ]
  },
  {
   "cell_type": "code",
   "execution_count": 249,
   "metadata": {},
   "outputs": [],
   "source": [
    "def H_0_(F,Delta):\n",
    "    H0 = 0*basis(N,0)*basis(N,0).dag()\n",
    "    for l in range(len(F)):\n",
    "        for mF in range(-F[l],F[l]+1):\n",
    "            H0 += 2*np.pi*(Delta[l] + gF[l]*muB*mF*B)*base(F,l,mF)*base(F,l,mF).dag() \n",
    "    return H0"
   ]
  },
  {
   "cell_type": "code",
   "execution_count": 251,
   "metadata": {},
   "outputs": [],
   "source": [
    "def H_1(F,Omega_p):\n",
    "    HI=0*basis(N,0)*basis(N,0).dag()\n",
    "    for mFe in range(-F[0],F[0] + 1):\n",
    "        for ig in range(1,len(F)):\n",
    "            for mFg in range(-F[ig],F[ig]+1):\n",
    "                for q in range(-1,2):\n",
    "                    HI += -eta[ig-1]*2*np.pi*cg(F,ig,mFg,0,mFe,q)*Omega_p[ig-1,q+1]/2*base(F,0,mFe)*base(F,ig,mFg).dag()\n",
    "                \n",
    "    return 1/np.sqrt(2*F[0]+1)*(HI + HI.dag()) "
   ]
  },
  {
   "cell_type": "code",
   "execution_count": 253,
   "metadata": {},
   "outputs": [],
   "source": [
    "#single collapse operator for each transtion\n",
    "#GammaJgJe=GammaJgJe\n",
    "c_ops_ = []\n",
    "qs = [-1,0,1]\n",
    "\n",
    "for ig in range(1,len(F)):\n",
    "    for mfg in range(-F[ig],F[ig] + 1):\n",
    "        for mfe in range(-F[0], F[0] + 1):\n",
    "            for q in qs:\n",
    "                if cg(F,ig,mfg,0,mfe,q) != 0:\n",
    "                    cops =np.sqrt(1/(2*F[0] + 1))*cg(F,ig,mfg,0,mfe,q)*np.sqrt(GammaFgFe(F,ig,Je,Jg,I,2*np.pi*GammaJgJe))*base(F,ig,mfg)*base(F,0,mfe).dag()\n",
    "                    c_ops_.append(cops)\n",
    "                else:\n",
    "                    continue"
   ]
  },
  {
   "cell_type": "code",
   "execution_count": 296,
   "metadata": {},
   "outputs": [],
   "source": [
    "def S_(F,Delta,Omega_p,omega0,c):\n",
    "    H0_ = H_0_(F,Delta)\n",
    "    HI_ = H_I_(F,Omega_p) \n",
    "    \n",
    "\n",
    "    H0 = H0_ + HI_ \n",
    "    \n",
    "\n",
    "    L0 = 0*spre(c[0])*spost(c[0].dag())\n",
    "    for i in range(len(c)):\n",
    "        L0 += spre(c[i])*spost(c[i].dag()) - 0.5*(spre(c[i].dag()*c[i]) + spost(c[i].dag()*c[i]))\n",
    "\n",
    "    L0 += -1j*(spre(H0) - spost(H0))\n",
    "    \n",
    "    #L0 = np.array(L0)\n",
    "    L0 = L0.data_as('ndarray')\n",
    "\n",
    "    #H0 = H0.to(\"CSR\").tidyup(atol=1e-8)\n",
    "\n",
    "    rho = steadystate(H0,c) #!\n",
    "\n",
    "    V1 = H_1(F,Omega_p)\n",
    "    V1rho = V1*rho \n",
    "    \n",
    "    V1rho = operator_to_vector(V1rho)\n",
    "    #V1rho = np.array(V1rho)\n",
    "    V1rho = V1rho.data_as('ndarray')\n",
    "\n",
    "    #eye = np.array(operator_to_vector(tensor(qeye(N),qeye(Nmotion))))\n",
    "    eye = np.eye(N**2,dtype=np.complex_)\n",
    "    #inve = -inv((L0+1j*2*np.pi*omega0*eye))\n",
    "\n",
    "    #s = inve@V1rho\n",
    "    s = -spsolve(L0+1j*2*np.pi*omega0*eye,V1rho)\n",
    "\n",
    "    S = np.zeros((N,N),dtype=np.complex_)\n",
    "    for i in range(N):\n",
    "        for j in range(N):\n",
    "            #S[j,i] = s[N*i+j][0]\n",
    "            S[j,i] = s[N*i+j]\n",
    "            \n",
    "    #V1 = np.array(V1)\n",
    "    V1 =V1.data_as('ndarray')\n",
    "    S = np.matmul(V1,S)\n",
    "\n",
    "    return np.matrix.trace(S)"
   ]
  },
  {
   "cell_type": "code",
   "execution_count": 298,
   "metadata": {},
   "outputs": [],
   "source": [
    "#Rabi frequencies Ω_F,F' #1/2π (MHz)\n",
    "omega = [30,5,30]\n",
    "\n",
    "#turn on/off polarization\n",
    "Omega_p= np.zeros((3,3)) # (ig-1, q + 1) transition from F[ig] state to F' with polarization q\n",
    "\n",
    "Omega_p[0,0] = Omega_p[0,2] = omega[0]       #σ+ and σ- for F=F[1] to F'= F[0]\n",
    "Omega_p[1,0] = Omega_p[1,2] = omega[1]      #σ+ and σ- for F=F[2] to F'=F[0]\n",
    "Omega_p[2,0] = Omega_p[2,2] = omega[2]     #σ+ and σ- for F=F[3] to F'=F[0]\n",
    "\n",
    "B = 5e-04\n",
    "Delta = [0,10,Delta_ds[-2],20]\n",
    "\n",
    "omega0=1.4\n",
    "\n",
    "params = dict(F=F,Delta=Delta,Omega_p=Omega_p,omega0=omega0,c=c_ops_)"
   ]
  },
  {
   "cell_type": "code",
   "execution_count": 270,
   "metadata": {},
   "outputs": [
    {
     "name": "stderr",
     "output_type": "stream",
     "text": [
      "100%|██████████████████████████████████████████████████████████████████████████████| 1000/1000 [01:38<00:00, 10.15it/s]\n"
     ]
    }
   ],
   "source": [
    "Ss = []\n",
    "for v in tqdm(np.linspace(-2,2,1000)):\n",
    "    Ss.append(S_(F=F,Delta=Delta,Omega_p=Omega_p,omega0=v,c=c_ops_))"
   ]
  },
  {
   "cell_type": "code",
   "execution_count": 74,
   "metadata": {},
   "outputs": [
    {
     "data": {
      "image/png": "[encoded data removed]",
      "text/plain": [
       "<Figure size 640x480 with 1 Axes>"
      ]
     },
     "metadata": {},
     "output_type": "display_data"
    }
   ],
   "source": [
    "plt.figure()\n",
    "#plt.plot(np.linspace(-10*GammaJgJe,20*GammaJgJe,200),pope1)\n",
    "plt.plot(np.linspace(-2,2,1000),Ss,label='W',color='black')\n",
    "plt.xlabel('$v /2π \\ (ΜHz)$')\n",
    "plt.ylim(0)\n",
    "plt.axvline(1.4, linestyle='--',color='red')\n",
    "plt.axvline(0, linestyle='--',color='black')\n",
    "plt.axvline(- 1.4, linestyle='--',color='blue')\n",
    "\n",
    "#plt.xlim(18,28)\n",
    "plt.legend()\n",
    "\n",
    "\n",
    "plt.show()"
   ]
  },
  {
   "cell_type": "code",
   "execution_count": 75,
   "metadata": {},
   "outputs": [
    {
     "data": {
      "text/plain": [
       "0.0012183703996212782"
      ]
     },
     "execution_count": 75,
     "metadata": {},
     "output_type": "execute_result"
    }
   ],
   "source": [
    "A_m = S_(F=F,Delta=Delta,Omega_p=Omega_p,omega0=omega0,c=c_ops_)\n",
    "A_p = S_(F=F,Delta=Delta,Omega_p=Omega_p,omega0=-omega0,c=c_ops_)\n",
    "(2*A_m-2*A_p).real"
   ]
  },
  {
   "cell_type": "code",
   "execution_count": 76,
   "metadata": {},
   "outputs": [],
   "source": [
    "#Rabi frequencies Ω_F,F' #1/2π (MHz)\n",
    "omega = [23.5,10,23.5]\n",
    "\n",
    "#turn on/off polarization\n",
    "Omega_p= np.zeros((3,3)) # (ig-1, q + 1) transition from F state to F' with polarization q\n",
    "\n",
    "Omega_p[0,0] = Omega_p[0,2] = omega[0]       #σ+ and σ- for F=F[1] to F'= F[0]\n",
    "Omega_p[1,0] = Omega_p[1,2] = omega[1]      #σ+ and σ- for F=F[2] to F'=F[0]\n",
    "Omega_p[2,0] = Omega_p[2,2] = omega[2]     #σ+ and σ- for F=F[3] to F'=F[0]\n",
    "\n",
    "B = 5e-04\n",
    "Delta = [0,10,Delta_ds[-2],20]\n",
    "\n",
    "omega0=1.4"
   ]
  },
  {
   "cell_type": "code",
   "execution_count": 77,
   "metadata": {},
   "outputs": [
    {
     "name": "stderr",
     "output_type": "stream",
     "text": [
      "100%|██████████████████████████████████████████████████████████████████████████████| 1000/1000 [02:55<00:00,  5.71it/s]\n"
     ]
    }
   ],
   "source": [
    "Ss1 = []\n",
    "for v in tqdm(np.linspace(-2,2,1000)):\n",
    "    Ss1.append(S_(F=F,Delta=Delta,Omega_p=Omega_p,omega0=v,c=c_ops_))"
   ]
  },
  {
   "cell_type": "code",
   "execution_count": 78,
   "metadata": {},
   "outputs": [
    {
     "data": {
      "image/png": "[encoded data removed]",
      "text/plain": [
       "<Figure size 640x480 with 1 Axes>"
      ]
     },
     "metadata": {},
     "output_type": "display_data"
    }
   ],
   "source": [
    "plt.figure()\n",
    "#plt.plot(np.linspace(-10*GammaJgJe,20*GammaJgJe,200),pope1)\n",
    "plt.plot(np.linspace(-2,2,1000),Ss1,label='W',color='black')\n",
    "plt.xlabel('$Δ/2π \\ (ΜHz)$')\n",
    "plt.ylim(0)\n",
    "plt.axvline(1.4, linestyle='--',color='red')\n",
    "plt.axvline(0, linestyle='--',color='black')\n",
    "plt.axvline(- 1.4, linestyle='--',color='blue')\n",
    "\n",
    "#plt.xlim(18,28)\n",
    "plt.legend()\n",
    "\n",
    "plt.show()"
   ]
  },
  {
   "cell_type": "code",
   "execution_count": 79,
   "metadata": {},
   "outputs": [],
   "source": [
    "A_m1 = S_(F=F,Delta=Delta,Omega_p=Omega_p,omega0=omega0,c=c_ops_)\n",
    "A_p1 = S_(F=F,Delta=Delta,Omega_p=Omega_p,omega0=-omega0,c=c_ops_)"
   ]
  },
  {
   "cell_type": "code",
   "execution_count": 80,
   "metadata": {},
   "outputs": [
    {
     "data": {
      "text/plain": [
       "0.4631414700398819"
      ]
     },
     "execution_count": 80,
     "metadata": {},
     "output_type": "execute_result"
    }
   ],
   "source": [
    "(2*A_m1-2*A_p1).real"
   ]
  },
  {
   "cell_type": "code",
   "execution_count": 81,
   "metadata": {},
   "outputs": [],
   "source": [
    "#Rabi frequencies Ω_F,F' #1/2π (MHz)\n",
    "omega = [23,8,23]\n",
    "\n",
    "#turn on/off polarization\n",
    "Omega_p= np.zeros((3,3)) # (ig-1, q + 1) transition from F state to F' with polarization q\n",
    "\n",
    "Omega_p[0,0] = Omega_p[0,2] = omega[0]       #σ+ and σ- for F=F[1] to F'= F[0]\n",
    "Omega_p[1,0] = Omega_p[1,2] = omega[1]      #σ+ and σ- for F=F[2] to F'=F[0]\n",
    "Omega_p[2,0] = Omega_p[2,2] = omega[2]     #σ+ and σ- for F=F[3] to F'=F[0]\n",
    "\n",
    "B = 5e-04\n",
    "Delta = [0,10,Delta_ds[-2],20]\n",
    "\n",
    "omega0=1.4"
   ]
  },
  {
   "cell_type": "code",
   "execution_count": 82,
   "metadata": {},
   "outputs": [
    {
     "name": "stderr",
     "output_type": "stream",
     "text": [
      "100%|██████████████████████████████████████████████████████████████████████████████| 1000/1000 [02:53<00:00,  5.76it/s]\n"
     ]
    }
   ],
   "source": [
    "Ss2 = []\n",
    "for v in tqdm(np.linspace(-2,2,1000)):\n",
    "    Ss2.append(S_(F=F,Delta=Delta,Omega_p=Omega_p,omega0=v,c=c_ops_))"
   ]
  },
  {
   "cell_type": "code",
   "execution_count": 83,
   "metadata": {},
   "outputs": [
    {
     "data": {
      "image/png": "[encoded data removed]",
      "text/plain": [
       "<Figure size 640x480 with 1 Axes>"
      ]
     },
     "metadata": {},
     "output_type": "display_data"
    }
   ],
   "source": [
    "plt.figure()\n",
    "#plt.plot(np.linspace(-10*GammaJgJe,20*GammaJgJe,200),pope1)\n",
    "plt.plot(np.linspace(-2,2,1000),Ss2,label='W',color='black')\n",
    "#plt.plot(np.linspace(Dmin_,Dmax_,nn_),pop_es2,label='extra lasers')\n",
    "#plt.plot(np.linspace(Dmin,Dmax,nn),np.sum(pop_es,axis=0),label='extra lasers')\n",
    "plt.xlabel('$v/2π \\ (ΜHz)$')\n",
    "plt.ylim(0)\n",
    "plt.axvline(1.4, linestyle='--',color='red')\n",
    "plt.axvline(0, linestyle='--',color='black')\n",
    "plt.axvline(- 1.4, linestyle='--',color='blue')\n",
    "\n",
    "#plt.xlim(18,28)\n",
    "plt.legend()\n",
    "\n",
    "\n",
    "plt.show()"
   ]
  },
  {
   "cell_type": "code",
   "execution_count": 84,
   "metadata": {},
   "outputs": [
    {
     "data": {
      "image/png": "[encoded data removed]",
      "text/plain": [
       "<Figure size 640x480 with 1 Axes>"
      ]
     },
     "metadata": {},
     "output_type": "display_data"
    }
   ],
   "source": [
    "plt.figure()\n",
    "#plt.plot(np.linspace(-10*GammaJgJe,20*GammaJgJe,200),pope1)\n",
    "plt.plot(np.linspace(-2,2,1000),Ss,label='1',color='black')\n",
    "plt.plot(np.linspace(-2,2,1000),Ss1,label='2',color='royalblue')\n",
    "plt.plot(np.linspace(-2,2,1000),Ss2,label='3',color='lightblue')\n",
    "plt.xlabel('$v/2π \\ (ΜHz)$')\n",
    "plt.ylim(0)\n",
    "plt.axvline(1.4, linestyle='--',color='red')\n",
    "plt.axvline(0, linestyle='--',color='black')\n",
    "plt.axvline(- 1.4, linestyle='--',color='blue')\n",
    "\n",
    "#plt.xlim(18,28)\n",
    "plt.legend()\n",
    "#plt.savefig(\"abs_1_compare_extra_lasers_eta_1e4.png\",bbox_inches = \"tight\")\n",
    "\n",
    "plt.show()"
   ]
  },
  {
   "cell_type": "code",
   "execution_count": 85,
   "metadata": {},
   "outputs": [],
   "source": [
    "A_m2 = S_(F=F,Delta=Delta,Omega_p=Omega_p,omega0=omega0,c=c_ops_)\n",
    "A_p2 = S_(F=F,Delta=Delta,Omega_p=Omega_p,omega0=-omega0,c=c_ops_)"
   ]
  },
  {
   "cell_type": "code",
   "execution_count": 86,
   "metadata": {},
   "outputs": [
    {
     "data": {
      "text/plain": [
       "0.012823093217504272"
      ]
     },
     "execution_count": 86,
     "metadata": {},
     "output_type": "execute_result"
    }
   ],
   "source": [
    "(2*A_m2-2*A_p2).real"
   ]
  },
  {
   "cell_type": "code",
   "execution_count": 87,
   "metadata": {},
   "outputs": [],
   "source": [
    "w = np.array([(2*A_m-2*A_p).real,(2*A_m2-2*A_p2).real,(2*A_m1-2*A_p1).real])"
   ]
  },
  {
   "cell_type": "code",
   "execution_count": 88,
   "metadata": {},
   "outputs": [
    {
     "data": {
      "text/plain": [
       "array([0.00121837, 0.01282309, 0.46314147])"
      ]
     },
     "execution_count": 88,
     "metadata": {},
     "output_type": "execute_result"
    }
   ],
   "source": [
    "w"
   ]
  },
  {
   "cell_type": "markdown",
   "metadata": {},
   "source": [
    "## Cooling"
   ]
  },
  {
   "cell_type": "code",
   "execution_count": 90,
   "metadata": {},
   "outputs": [],
   "source": [
    "from scipy.optimize import minimize_scalar"
   ]
  },
  {
   "cell_type": "code",
   "execution_count": 91,
   "metadata": {},
   "outputs": [],
   "source": [
    "def func(x,Nmax,nbar):\n",
    "    \n",
    "    Z = (1-np.exp(-(Nmax+1)*x))/(1-np.exp(-x))\n",
    "    n = np.exp(-Nmax*x)*(np.exp((Nmax + 1)*x) -(Nmax+1)*np.exp(x) + Nmax)/(np.exp(x) -1)**2\n",
    "    \n",
    "    \n",
    "    return np.abs(nbar - n/Z)"
   ]
  },
  {
   "cell_type": "code",
   "execution_count": 92,
   "metadata": {},
   "outputs": [],
   "source": [
    "Nmax=14\n",
    "nbar=3\n",
    "res = minimize_scalar(func,args=(Nmax,nbar),bounds=(0, 1), method='bounded')"
   ]
  },
  {
   "cell_type": "code",
   "execution_count": 93,
   "metadata": {},
   "outputs": [],
   "source": [
    "x = res.x"
   ]
  },
  {
   "cell_type": "code",
   "execution_count": 94,
   "metadata": {},
   "outputs": [
    {
     "data": {
      "text/plain": [
       "0.002527075613606284"
      ]
     },
     "execution_count": 94,
     "metadata": {},
     "output_type": "execute_result"
    }
   ],
   "source": [
    "hbar = 1.054571817e-34\n",
    "kB = 1.380649e-23\n",
    "omega = 2*np.pi*1.4*10e6\n",
    "#x = 0.184132\n",
    "Z = (1-np.exp(-(Nmax+1)*x))/(1-np.exp(-x))\n",
    "\n",
    "T = hbar*omega/(kB*x)\n",
    "T"
   ]
  },
  {
   "cell_type": "code",
   "execution_count": 95,
   "metadata": {},
   "outputs": [],
   "source": [
    "P = []\n",
    "for i in range(Nmax+1): #Nmotion=15 but for <n> =3 keep up to i=10\n",
    "    P.append(np.exp(-i*x)/Z)"
   ]
  },
  {
   "cell_type": "code",
   "execution_count": 96,
   "metadata": {},
   "outputs": [],
   "source": [
    "Pn = []\n",
    "for i in range(Nmax+1):\n",
    "    Pn.append(np.exp(-i*x)/Z*i)"
   ]
  },
  {
   "cell_type": "code",
   "execution_count": 97,
   "metadata": {},
   "outputs": [
    {
     "data": {
      "image/png": "[encoded data removed]",
      "text/plain": [
       "<Figure size 640x480 with 1 Axes>"
      ]
     },
     "metadata": {},
     "output_type": "display_data"
    }
   ],
   "source": [
    "plt.figure()\n",
    "plt.bar(np.arange(0,Nmax+1),P)\n",
    "plt.ylabel('$P$')\n",
    "plt.xlabel('$n$')\n",
    "plt.xlim(-0.5,Nmax+0.5)\n",
    "plt.show()"
   ]
  },
  {
   "cell_type": "code",
   "execution_count": 98,
   "metadata": {},
   "outputs": [],
   "source": [
    "t = []\n",
    "n = []\n",
    "n_div = []\n",
    "for i in range(Nmax+1):\n",
    "    t.append(np.loadtxt(\"\"+str(path_name)+\"data_B5.0_D10_10_D12_20_O10_O11_30_O11_5_\"+str(i)+\"_Gamma_2.44745_ntraj_500_improved_step.txt\")[:, 0])\n",
    "    n.append(np.loadtxt(\"\"+str(path_name)+\"data_B5.0_D10_10_D12_20_O10_O11_30_O11_5_\"+str(i)+\"_Gamma_2.44745_ntraj_500_improved_step.txt\")[:, 1])\n",
    "    n_div.append(np.loadtxt(\"\"+str(path_name)+\"data_B5.0_D10_10_D12_20_O10_O11_30_O11_5_\"+str(i)+\"_Gamma_2.44745_ntraj_500_improved_step.txt\")[:, 2])          "
   ]
  },
  {
   "cell_type": "code",
   "execution_count": 99,
   "metadata": {},
   "outputs": [],
   "source": [
    "nMC = np.zeros(len(t[0]))\n",
    "for i in range(Nmax+1):\n",
    "    nMC +=np.array(n[i])*P[i]"
   ]
  },
  {
   "cell_type": "code",
   "execution_count": 100,
   "metadata": {},
   "outputs": [],
   "source": [
    "nMC_dev = np.zeros(len(t[0]))\n",
    "for i in range(Nmax+1):\n",
    "    nMC_dev += np.array(n_div[i])*P[i]\n",
    "nMC_dev = nMC_dev/np.sqrt(500-1)"
   ]
  },
  {
   "cell_type": "code",
   "execution_count": 101,
   "metadata": {},
   "outputs": [],
   "source": [
    "t1 = []\n",
    "n1 = []\n",
    "n_div1 = []\n",
    "for i in range(Nmax+1):\n",
    "    t1.append(np.loadtxt(\"\"+str(path_name)+\"data_B5.0_D10_10_D12_20_O10_O11_23.5_O11_10_\"+str(i)+\"_Gamma_2.44745_ntraj_500_improved_step.txt\")[:, 0])\n",
    "    n1.append(np.loadtxt(\"\"+str(path_name)+\"data_B5.0_D10_10_D12_20_O10_O11_23.5_O11_10_\"+str(i)+\"_Gamma_2.44745_ntraj_500_improved_step.txt\")[:, 1])\n",
    "    n_div1.append(np.loadtxt(\"\"+str(path_name)+\"data_B5.0_D10_10_D12_20_O10_O11_23.5_O11_10_\"+str(i)+\"_Gamma_2.44745_ntraj_500_improved_step.txt\")[:, 2])"
   ]
  },
  {
   "cell_type": "code",
   "execution_count": 102,
   "metadata": {},
   "outputs": [],
   "source": [
    "nMC1 = np.zeros(len(t[0]))\n",
    "for i in range(Nmax+1):\n",
    "    nMC1 +=np.array(n1[i])*P[i]"
   ]
  },
  {
   "cell_type": "code",
   "execution_count": 103,
   "metadata": {},
   "outputs": [],
   "source": [
    "nMC_dev1 = np.zeros(len(t[0]))\n",
    "for i in range(Nmax+1):\n",
    "    nMC_dev1 += np.array(n_div1[i])*P[i]\n",
    "nMC_dev1 = nMC_dev1/np.sqrt(500-1)"
   ]
  },
  {
   "cell_type": "code",
   "execution_count": 104,
   "metadata": {},
   "outputs": [],
   "source": [
    "t2 = []\n",
    "n2 = []\n",
    "n_div2 = []\n",
    "for i in range(Nmax+1):\n",
    "    t2.append(np.loadtxt(\"\"+str(path_name)+\"data_B5.0_D10_10_D12_20_O10_O11_23_O11_8_\"+str(i)+\"_Gamma_2.44745_ntraj_500_improved_step.txt\")[:, 0])\n",
    "    n2.append(np.loadtxt(\"\"+str(path_name)+\"data_B5.0_D10_10_D12_20_O10_O11_23_O11_8_\"+str(i)+\"_Gamma_2.44745_ntraj_500_improved_step.txt\")[:, 1])\n",
    "    n_div2.append(np.loadtxt(\"\"+str(path_name)+\"data_B5.0_D10_10_D12_20_O10_O11_23_O11_8_\"+str(i)+\"_Gamma_2.44745_ntraj_500_improved_step.txt\")[:, 2])         "
   ]
  },
  {
   "cell_type": "code",
   "execution_count": 105,
   "metadata": {},
   "outputs": [],
   "source": [
    "nMC2 = np.zeros(len(t[0]))\n",
    "for i in range(Nmax+1):\n",
    "    nMC2 +=np.array(n2[i])*P[i]"
   ]
  },
  {
   "cell_type": "code",
   "execution_count": 106,
   "metadata": {},
   "outputs": [],
   "source": [
    "nMC_dev2 = np.zeros(len(t[0]))\n",
    "for i in range(Nmax+1):\n",
    "    nMC_dev2 += np.array(n_div2[i])*P[i]\n",
    "nMC_dev2 = nMC_dev2/np.sqrt(500-1)"
   ]
  },
  {
   "cell_type": "code",
   "execution_count": 107,
   "metadata": {},
   "outputs": [],
   "source": [
    "def func(t,a,b,c):\n",
    "    return a*np.exp(-b*t) + c*(1-np.exp(-b*t))"
   ]
  },
  {
   "cell_type": "code",
   "execution_count": 108,
   "metadata": {},
   "outputs": [
    {
     "data": {
      "text/plain": [
       "array([2.98918957e+00, 1.80101154e-03, 1.83097616e-02])"
      ]
     },
     "execution_count": 108,
     "metadata": {},
     "output_type": "execute_result"
    }
   ],
   "source": [
    "p0 = (3, .001,.001)\n",
    "popt, pcov = curve_fit(func,t[0],nMC,p0)\n",
    "popt"
   ]
  },
  {
   "cell_type": "code",
   "execution_count": 109,
   "metadata": {},
   "outputs": [
    {
     "data": {
      "text/plain": [
       "array([3.10112465, 0.00635911, 0.00371839])"
      ]
     },
     "execution_count": 109,
     "metadata": {},
     "output_type": "execute_result"
    }
   ],
   "source": [
    "popt1, pcov1 = curve_fit(func,t1[0],nMC1,p0)\n",
    "popt1"
   ]
  },
  {
   "cell_type": "code",
   "execution_count": 110,
   "metadata": {},
   "outputs": [],
   "source": [
    "#t2[0]"
   ]
  },
  {
   "cell_type": "code",
   "execution_count": 111,
   "metadata": {},
   "outputs": [
    {
     "data": {
      "text/plain": [
       "array([3.17600684, 0.00383474, 0.00322145])"
      ]
     },
     "execution_count": 111,
     "metadata": {},
     "output_type": "execute_result"
    }
   ],
   "source": [
    "popt2, pcov2 = curve_fit(func,t2[0],nMC2,p0)\n",
    "popt2"
   ]
  },
  {
   "cell_type": "code",
   "execution_count": 112,
   "metadata": {},
   "outputs": [],
   "source": [
    "w_exp = np.array([popt[1],popt2[1],popt1[1]])"
   ]
  },
  {
   "cell_type": "code",
   "execution_count": 113,
   "metadata": {},
   "outputs": [
    {
     "data": {
      "text/plain": [
       "0.10339808267049777"
      ]
     },
     "execution_count": 113,
     "metadata": {},
     "output_type": "execute_result"
    }
   ],
   "source": [
    "nMC[-1]"
   ]
  },
  {
   "cell_type": "code",
   "execution_count": 114,
   "metadata": {},
   "outputs": [
    {
     "data": {
      "text/plain": [
       "0.009717606793210373"
      ]
     },
     "execution_count": 114,
     "metadata": {},
     "output_type": "execute_result"
    }
   ],
   "source": [
    "nMC1[-1]"
   ]
  },
  {
   "cell_type": "code",
   "execution_count": 115,
   "metadata": {},
   "outputs": [
    {
     "data": {
      "text/plain": [
       "0.03051986894599676"
      ]
     },
     "execution_count": 115,
     "metadata": {},
     "output_type": "execute_result"
    }
   ],
   "source": [
    "nMC2[-1]"
   ]
  },
  {
   "cell_type": "code",
   "execution_count": 116,
   "metadata": {},
   "outputs": [
    {
     "data": {
      "text/plain": [
       "array([0.00121837, 0.01282309, 0.46314147])"
      ]
     },
     "execution_count": 116,
     "metadata": {},
     "output_type": "execute_result"
    }
   ],
   "source": [
    "w"
   ]
  },
  {
   "cell_type": "code",
   "execution_count": 117,
   "metadata": {},
   "outputs": [
    {
     "data": {
      "text/plain": [
       "array([0.00181108, 0.00581807, 0.01692543], dtype=float32)"
      ]
     },
     "execution_count": 117,
     "metadata": {},
     "output_type": "execute_result"
    }
   ],
   "source": [
    "w_tilde"
   ]
  },
  {
   "cell_type": "code",
   "execution_count": 118,
   "metadata": {},
   "outputs": [
    {
     "data": {
      "text/plain": [
       "array([0.00180101, 0.00383474, 0.00635911])"
      ]
     },
     "execution_count": 118,
     "metadata": {},
     "output_type": "execute_result"
    }
   ],
   "source": [
    "w_exp"
   ]
  },
  {
   "cell_type": "code",
   "execution_count": 119,
   "metadata": {},
   "outputs": [
    {
     "data": {
      "text/plain": [
       "array([1.89661816e-04, 7.90889917e-05, 4.11213672e-05])"
      ]
     },
     "execution_count": 119,
     "metadata": {},
     "output_type": "execute_result"
    }
   ],
   "source": [
    "wabs"
   ]
  },
  {
   "cell_type": "code",
   "execution_count": 120,
   "metadata": {},
   "outputs": [
    {
     "data": {
      "text/plain": [
       "2000"
      ]
     },
     "execution_count": 120,
     "metadata": {},
     "output_type": "execute_result"
    }
   ],
   "source": [
    "len(nMC_dev)"
   ]
  },
  {
   "cell_type": "code",
   "execution_count": 123,
   "metadata": {},
   "outputs": [
    {
     "name": "stderr",
     "output_type": "stream",
     "text": [
      "C:\\Users\\kfouka\\AppData\\Local\\anaconda3\\Lib\\site-packages\\matplotlib\\cbook.py:1699: ComplexWarning: Casting complex values to real discards the imaginary part\n",
      "  return math.isfinite(val)\n",
      "C:\\Users\\kfouka\\AppData\\Local\\anaconda3\\Lib\\site-packages\\matplotlib\\cbook.py:1345: ComplexWarning: Casting complex values to real discards the imaginary part\n",
      "  return np.asarray(x, float)\n"
     ]
    },
    {
     "data": {
      "image/png": "[encoded data removed]",
      "text/plain": [
       "<Figure size 580x280 with 5 Axes>"
      ]
     },
     "metadata": {},
     "output_type": "display_data"
    }
   ],
   "source": [
    "from matplotlib.gridspec import GridSpec\n",
    "from mpl_toolkits.axes_grid1.inset_locator import inset_axes\n",
    "\n",
    "plt.rcParams.update({'font.size': 8})\n",
    "def format_axes(fig):\n",
    "    for i, ax in enumerate(fig.axes):\n",
    "        ax.text(0.5, 0.5, \"ax4%d\" % (i+1), va=\"center\", ha=\"center\")\n",
    "        ax.tick_params(labelbottom=False, labelleft=False)\n",
    "\n",
    "fig = plt.figure(constrained_layout=True,figsize=(5.8,2.8))\n",
    "\n",
    "gs = GridSpec(2, 3, figure=fig)\n",
    "#gs.update(wspace=0.005, hspace=0.005)\n",
    "\n",
    "# identical to ax1 = plt.subplot(gs.new_subplotspec((0, 0), colspan=3))\n",
    "\n",
    "\n",
    "ax1 = fig.add_subplot(gs[0, 0])\n",
    "ax1.set_title(r'(a)',loc='left',fontdict={'fontsize': 8})\n",
    "ax1.plot(np.linspace(Dmin,Dmax,NN),pope,color='#cccccc',linewidth=1)\n",
    "ax1.plot(np.linspace(Dmin,Dmax,NN),pope2,color='#252525',linewidth=1)\n",
    "ax1.plot(np.linspace(Dmin,Dmax,NN),pope1,color='#969696',linewidth=1)\n",
    "ax1.axvline(Delta_ds[-2]+1.4, linestyle='--',color='red',linewidth=0.6)\n",
    "ax1.axvline(Delta_ds[-2], linestyle='--',color='black',linewidth=0.6)\n",
    "ax1.axvline(Delta_ds[-2]- 1.4, linestyle='--',color='blue',linewidth=0.6)\n",
    "ax1.scatter([3],2*wabs[-1],marker='x',label='$\\,$',color='black')\n",
    "ax1.set_xlim(17.5,23)\n",
    "ax1.set_ylim(0)\n",
    "ax1.set_ylabel(r'$\\rho_{ee}^{(0)}$',labelpad=0)\n",
    "ax1.set_xlabel('$Δ_{11}/2π \\ (ΜHz)$')\n",
    "ax1.legend(loc='upper left',alignment='left',handletextpad=0.05,borderpad=0.3)\n",
    "#ax1.ticklabel_format(axis='y', scilimits=[-3, -2])\n",
    "#plt.ylim(0)\n",
    "\n",
    "\n",
    "ax3 = fig.add_subplot(gs[0, 1])\n",
    "ax3.set_title(r'(b)',loc='left',fontdict={'fontsize': 8})\n",
    "ax3.plot(np.linspace(-2,2,1000),Ss,color='#cccccc',linewidth=1)\n",
    "ax3.plot(np.linspace(-2,2,1000),Ss2,color='#969696',linewidth=1)\n",
    "ax3.plot(np.linspace(-2,2,1000),Ss1,color='#252525',linewidth=1)\n",
    "ax3.scatter([1],w.real[-1] +10,marker='s',label=r'$\\,$',color='white',edgecolor = '#a6cee3')\n",
    "ax3.set_ylabel('$S$ (MHz)',labelpad=0)\n",
    "ax3.set_xlabel('$v/2π$ (ΜHz)')\n",
    "ax3.set_ylim(0,0.4)\n",
    "ax3.axvline(1.4, linestyle='--',color='red',linewidth=0.6)\n",
    "ax3.axvline(0, linestyle='--',color='black',linewidth=0.6)\n",
    "ax3.axvline(- 1.4, linestyle='--',color='blue',linewidth=0.6)\n",
    "ax3.legend(loc='upper left',alignment='left',handletextpad=0.05,borderpad=0.3)\n",
    "#ax3.legend(loc='center left',prop={'size': 8},bbox_to_anchor=(1, 0.5))\n",
    "\n",
    "ax2 = fig.add_subplot(gs[0, 2])\n",
    "ax2.set_title(r'(c)',loc='left',fontdict={'fontsize': 8})\n",
    "line1,=ax2.plot(np.linspace(Dmin_,Dmax_,nn_),abs,color='#cccccc',label='1',linewidth=1)\n",
    "line2,=ax2.plot(np.linspace(Dmin_,Dmax_,nn_),abs2,color='#969696',label='2',linewidth=1)\n",
    "line3,=ax2.plot(np.linspace(Dmin_,Dmax_,nn_),abs1,color='#252525',label='3',linewidth=1)\n",
    "line4=ax2.scatter([1,2,3],w_tilde.real+10,marker='d',label=r'$\\,$',color='white',edgecolor = '#1f78b4')\n",
    "ax2.axvline(1.4, linestyle='--',color='red',linewidth=0.6)\n",
    "ax2.axvline(0, linestyle='--',color='black',linewidth=0.6)\n",
    "ax2.axvline( - 1.4, linestyle='--',color='blue',linewidth=0.6)\n",
    "ax2.set_ylabel('$R$ (MHz)',labelpad=0)\n",
    "ax2.set_xlabel('$Δ/2π \\ (ΜHz)$')\n",
    "ax2.set_ylim(0,0.02)\n",
    "ax2.set_xlim(-2.5,2.5)\n",
    "#ax2.ticklabel_format(axis='y', scilimits=[-4, -3])\n",
    "ax2.legend(loc='center left',prop={'size': 8},bbox_to_anchor=(1, 0.5))\n",
    "first_legend =plt.legend(handles=[line1,line2,line3],loc='center left',prop={'size': 8},bbox_to_anchor=(1, 0.5))\n",
    "ax2.add_artist(first_legend)\n",
    "second_legend = plt.legend(handles=[line4],loc='upper left',alignment='left',handletextpad=0.05,borderpad=0.3)\n",
    "\n",
    "ax4 = fig.add_subplot(gs[1, :])\n",
    "ax4.set_title(r'(d)',loc='left',fontdict={'fontsize': 8})\n",
    "ax4.errorbar(t[0]*1e-3,nMC,yerr = nMC_dev,color='#cccccc',ecolor='#cccccc')\n",
    "ax4.errorbar(t2[0]*1e-3,nMC2,yerr = nMC_dev2,color='#969696',ecolor='#969696')\n",
    "ax4.errorbar(t1[0]*1e-3,nMC1,yerr = nMC_dev1,color='#252525',ecolor='#252525')\n",
    "ax4.scatter([1,2,3],np.array(w_exp)+10,marker='+',label=r'$\\,$',color='#a7cf82')\n",
    "ax4.set_ylabel(r'$ \\langle n \\rangle $')\n",
    "ax4.set_xlabel(r'$t \\ (ms)$')\n",
    "ax4.set_ylim(0,3.2)\n",
    "ax4.set_xlim(0,2)\n",
    "#plt.xlim(0,100)\n",
    "#ax4.legend(prop={'size': 10})\n",
    "ax4.legend(loc='lower left',alignment='left',handletextpad=0.05,borderpad=0.3,columnspacing=0.05)\n",
    "\n",
    "\n",
    "inset_ax = inset_axes(ax4, width=\"13%\", height=0.5, loc=\"upper right\")\n",
    "#inset_ax.set_title(r'(e)',loc='left',fontdict={'fontsize': 8},pad=5)\n",
    "#inset_ax.fill_between(np.linspace(2.75,3.25,1000),y1=1e-4,y2=1, color='grey', alpha=0.2)\n",
    "inset_ax.scatter([1,2,3],w,marker='s',label=r'$W$',color='white',edgecolor = '#a6cee3')\n",
    "inset_ax.scatter([1,2,3],w_tilde,marker='d',label=r'$W_{\\text{fic}}$',color='white',edgecolor = '#1f78b4')\n",
    "inset_ax.scatter([1,2,3],w_exp,marker='+',label=r'$W_{\\text{exp}}$',color='#a7cf82')\n",
    "#inset_ax.scatter([1,2,3],2*wabs,marker='x',label=r'$W_{\\text{abs}}$',color='black')\n",
    "inset_ax.set_xticks([1,2,3])\n",
    "inset_ax.set_xticklabels([\"1\",\"2\",\"3\"])\n",
    "inset_ax.set_ylim(8e-4,3e-2)\n",
    "inset_ax.set_xlim(0.75,3.25)\n",
    "inset_ax.tick_params(labelsize=7)\n",
    "inset_ax.fill_between(np.linspace(2.75,3.25,1000),y1=8e-4,y2=3e-2, color='grey', alpha=0.2)\n",
    "inset_ax.set_yscale('log')\n",
    "inset_ax.set_ylabel('Rates (MHz)',fontsize=7)\n",
    "inset_ax.legend(loc='center left',prop={'size': 8},bbox_to_anchor=(0.95, 0.5))\n",
    "#ax4.set_xlabel('Cases')\n",
    "#plt.xticks([]); plt.yticks([])  # strip ticks, which collide w/ main ax\n",
    "\n",
    "\n",
    "#ax4 = fig.add_subplot(gs[2:, :2])\n",
    "#ax4.set_title(r'(d)',loc='left',fontdict={'fontsize': 10}, pad=10)\n",
    "#ax4.scatter([1,2,3],w,marker='o',label='$W$',color=['black','royalblue','lightblue'])\n",
    "#ax4.scatter([1,2,3],w_tilde,marker='*',label='$\\widetilde{W}$',color=['black','royalblue','lightblue'])\n",
    "#ax4.scatter([1,2,3],w_exp,marker='p',label='$W_{exp}$',color=['black','royalblue','lightblue'])\n",
    "#ax4.set_xticks([1,2,3])\n",
    "#ax4.set_xticklabels([\"1\",\"2\",\"3\"])\n",
    "#ax4.set_yscale('log')\n",
    "\n",
    "\n",
    "#ax4.set_ylabel('Cooling Rates (MHz)')\n",
    "#ax4.set_xlabel('Cases')\n",
    "\n",
    "#ax4.legend(loc='center left',prop={'size': 8},bbox_to_anchor=(1, 0.5))\n",
    "#plt.xlim(45,55)\n",
    "\n",
    "#fig.suptitle(\"GridSpec\")\n",
    "#format_axes(fig)\n",
    "\n",
    "\n",
    "plt.savefig(\"I1_all.pdf\",bbox_inches = \"tight\")\n",
    "\n",
    "plt.show()"
   ]
  }
 ],
 "metadata": {
  "kernelspec": {
   "display_name": "Python 3 (ipykernel)",
   "language": "python",
   "name": "python3"
  },
  "language_info": {
   "codemirror_mode": {
    "name": "ipython",
    "version": 3
   },
   "file_extension": ".py",
   "mimetype": "text/x-python",
   "name": "python",
   "nbconvert_exporter": "python",
   "pygments_lexer": "ipython3",
   "version": "3.11.11"
  }
 },
 "nbformat": 4,
 "nbformat_minor": 4
}
