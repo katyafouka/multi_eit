{
 "cells": [
  {
   "cell_type": "code",
   "execution_count": 1,
   "metadata": {},
   "outputs": [],
   "source": [
    "import matplotlib.pyplot as plt\n",
    "import numpy as np\n",
    "from qutip import *\n",
    "from sympy.physics.quantum.cg import CG\n",
    "from sympy.physics.wigner import wigner_6j, wigner_3j"
   ]
  },
  {
   "cell_type": "code",
   "execution_count": 2,
   "metadata": {},
   "outputs": [],
   "source": [
    "from sympy import symbols, Eq, solve, summation\n",
    "from sympy.functions import exp"
   ]
  },
  {
   "cell_type": "code",
   "execution_count": 3,
   "metadata": {},
   "outputs": [],
   "source": [
    "from scipy.optimize import minimize_scalar\n",
    "import math"
   ]
  },
  {
   "cell_type": "code",
   "execution_count": 4,
   "metadata": {},
   "outputs": [],
   "source": [
    "from scipy.optimize import curve_fit\n",
    "import matplotlib.cm as cm\n",
    "import matplotlib.colors as mcolors"
   ]
  },
  {
   "cell_type": "code",
   "execution_count": 5,
   "metadata": {},
   "outputs": [],
   "source": [
    "def func(x,Nmax,nbar):\n",
    "    \n",
    "    Z = (1-np.exp(-(Nmax+1)*x))/(1-np.exp(-x))\n",
    "    n = np.exp(-Nmax*x)*(np.exp((Nmax + 1)*x) -(Nmax+1)*np.exp(x) + Nmax)/(np.exp(x) -1)**2\n",
    "    \n",
    "    \n",
    "    return np.abs(nbar - n/Z)"
   ]
  },
  {
   "cell_type": "code",
   "execution_count": 6,
   "metadata": {},
   "outputs": [],
   "source": [
    "Nmax=14\n",
    "nbar=3\n",
    "res = minimize_scalar(func,args=(Nmax,nbar),bounds=(0, 1), method='bounded')"
   ]
  },
  {
   "cell_type": "code",
   "execution_count": 7,
   "metadata": {},
   "outputs": [],
   "source": [
    "x = res.x"
   ]
  },
  {
   "cell_type": "code",
   "execution_count": 8,
   "metadata": {},
   "outputs": [
    {
     "data": {
      "text/plain": [
       "0.002527075613606284"
      ]
     },
     "execution_count": 8,
     "metadata": {},
     "output_type": "execute_result"
    }
   ],
   "source": [
    "hbar = 1.054571817e-34\n",
    "kB = 1.380649e-23\n",
    "omega = 2*np.pi*1.4*10e6\n",
    "#x = 0.184132\n",
    "Z = (1-np.exp(-(Nmax+1)*x))/(1-np.exp(-x))\n",
    "\n",
    "T = hbar*omega/(kB*x)\n",
    "T"
   ]
  },
  {
   "cell_type": "code",
   "execution_count": 9,
   "metadata": {},
   "outputs": [],
   "source": [
    "P = []\n",
    "for i in range(Nmax+1): #Nmotion=15 but for <n> =3 keep up to i=10\n",
    "    P.append(np.exp(-i*x)/Z)"
   ]
  },
  {
   "cell_type": "code",
   "execution_count": 10,
   "metadata": {},
   "outputs": [
    {
     "data": {
      "text/plain": [
       "1.0"
      ]
     },
     "execution_count": 10,
     "metadata": {},
     "output_type": "execute_result"
    }
   ],
   "source": [
    "sum(P)"
   ]
  },
  {
   "cell_type": "code",
   "execution_count": 11,
   "metadata": {},
   "outputs": [],
   "source": [
    "Pn = []\n",
    "for i in range(Nmax+1):\n",
    "    Pn.append(np.exp(-i*x)/Z*i)"
   ]
  },
  {
   "cell_type": "code",
   "execution_count": 12,
   "metadata": {},
   "outputs": [
    {
     "data": {
      "text/plain": [
       "2.9999994106949863"
      ]
     },
     "execution_count": 12,
     "metadata": {},
     "output_type": "execute_result"
    }
   ],
   "source": [
    "sum(Pn) #<n>"
   ]
  },
  {
   "cell_type": "code",
   "execution_count": 13,
   "metadata": {},
   "outputs": [
    {
     "data": {
      "image/png": "[encoded data removed]",
      "text/plain": [
       "<Figure size 640x480 with 1 Axes>"
      ]
     },
     "metadata": {},
     "output_type": "display_data"
    }
   ],
   "source": [
    "plt.figure()\n",
    "plt.bar(np.arange(0,Nmax+1),P)\n",
    "plt.ylabel('$P$')\n",
    "plt.xlabel('$n$')\n",
    "plt.xlim(-0.5,Nmax+0.5)\n",
    "plt.show()"
   ]
  },
  {
   "cell_type": "code",
   "execution_count": 14,
   "metadata": {},
   "outputs": [
    {
     "data": {
      "text/plain": [
       "0.005751477788089598"
      ]
     },
     "execution_count": 14,
     "metadata": {},
     "output_type": "execute_result"
    }
   ],
   "source": [
    "P[-1]"
   ]
  },
  {
   "cell_type": "markdown",
   "metadata": {},
   "source": [
    "## B = 5G, Δ$_{1,0}$ = 10 ΜHz, Δ$_{1,1}$ = 20.5 ΜHz, Δ$_{1,2}$ = 20 ΜΗz, ω = 1.4 ΜΗz,\n",
    "## Ω$_{1,0}$ = Ω$_{1,2}$ = 23.5 ΜHz, Ω$_{1,1}$ = 10 ΜΗz, state 7"
   ]
  },
  {
   "cell_type": "code",
   "execution_count": null,
   "metadata": {},
   "outputs": [],
   "source": [
    "t = []\n",
    "n = []\n",
    "n_div = []\n",
    "for i in range(Nmax+1):\n",
    "    t.append(np.loadtxt(\"\"+str(path_name)+\"data_B5.0_D10_10_D12_20_O10_O11_23.5_O11_10_\"+str(i)+\"_Gamma_2.44745_ntraj_500_improved_step.txt\")[:, 0])\n",
    "    n.append(np.loadtxt(\"\"+str(path_name)+\"data_B5.0_D10_10_D12_20_O10_O11_23.5_O11_10_\"+str(i)+\"_Gamma_2.44745_ntraj_500_improved_step.txt\")[:, 1])\n",
    "    n_div.append(np.loadtxt(\"\"+str(path_name)+\"data_paper/data_B5.0_D10_10_D12_20_O10_O11_23.5_O11_10_\"+str(i)+\"_Gamma_2.44745_ntraj_500_stds_improved_step.txt\")[:, 0])          "
   ]
  },
  {
   "cell_type": "code",
   "execution_count": 16,
   "metadata": {},
   "outputs": [],
   "source": [
    "nMC = np.zeros(len(t[0]))\n",
    "for i in range(Nmax+1):\n",
    "    nMC +=np.array(n[i])*P[i]"
   ]
  },
  {
   "cell_type": "code",
   "execution_count": 17,
   "metadata": {},
   "outputs": [],
   "source": [
    "nMC_dev = np.zeros(len(t[0]))\n",
    "for i in range(Nmax+1):\n",
    "    nMC_dev += np.array(n_div[i])*P[i]\n",
    "nMC_dev = nMC_dev/np.sqrt(500-1)"
   ]
  },
  {
   "cell_type": "code",
   "execution_count": null,
   "metadata": {},
   "outputs": [],
   "source": [
    "pops = []\n",
    "pops_divs = []\n",
    "for j in range(12):\n",
    "    pop = []\n",
    "    pop_div = []\n",
    "    for i in range(Nmax+1):\n",
    "        pop.append(P[i]*np.loadtxt(\"\"+str(path_name)+\"data_B5.0_D10_10_D12_20_O10_O11_23.5_O11_10_\"+str(i)+\"_Gamma_2.44745_ntraj_500_improved_step.txt\")[:,j+2])\n",
    "        pop_div.append(P[i]*np.loadtxt(\"\"+str(path_name)+\"ata_B5.0_D10_10_D12_20_O10_O11_23.5_O11_10_\"+str(i)+\"_Gamma_2.44745_ntraj_500_stds_improved_step.txt\")[:,j+1])\n",
    "    pop_=np.sum(pop,axis=0)\n",
    "    pop_div_=np.sum(pop_div,axis=0)\n",
    "    \n",
    "    pops.append(pop_)\n",
    "    pops_divs.append(pop_div_)\n",
    "\n",
    "pops_divs = pops_divs/np.sqrt(500-1)"
   ]
  },
  {
   "cell_type": "code",
   "execution_count": 19,
   "metadata": {},
   "outputs": [],
   "source": [
    "plt.rcParams.update({'font.size': 8})"
   ]
  },
  {
   "cell_type": "code",
   "execution_count": 20,
   "metadata": {},
   "outputs": [],
   "source": [
    "colors = cm.Paired(np.linspace(0,1,12))"
   ]
  },
  {
   "cell_type": "code",
   "execution_count": 22,
   "metadata": {},
   "outputs": [
    {
     "data": {
      "image/png": "[encoded data removed]",
      "text/plain": [
       "<Figure size 350x180 with 2 Axes>"
      ]
     },
     "metadata": {},
     "output_type": "display_data"
    }
   ],
   "source": [
    "from matplotlib.gridspec import GridSpec\n",
    "from mpl_toolkits.axes_grid1.inset_locator import inset_axes\n",
    "\n",
    "def format_axes(fig):\n",
    "    for i, ax in enumerate(fig.axes):\n",
    "        ax.text(0.5, 0.5, \"ax%d\" % (i+1), va=\"center\", ha=\"center\")\n",
    "        ax.tick_params(labelbottom=False, labelleft=False)\n",
    "\n",
    "fig = plt.figure(constrained_layout=True,figsize=(3.5,1.8))\n",
    "\n",
    "gs = GridSpec(1, 2, figure=fig)\n",
    "#gs.update(wspace=0.005, hspace=0.05)\n",
    "ax1 = fig.add_subplot(gs[0, 0])\n",
    "# identical to ax1 = plt.subplot(gs.new_subplotspec((0, 0), colspan=3))\n",
    "\n",
    "\n",
    "ax1.set_title(r'(a)',loc='left',fontdict={'fontsize': 8})\n",
    "ax1.errorbar(t[0]*1e-3,nMC,yerr = nMC_dev,color='black',ecolor='black')\n",
    "ax1.set_ylim(0)\n",
    "ax1.set_xlim(0,1)\n",
    "ax1.set_ylabel('$\\\\langle n \\\\rangle$')\n",
    "ax1.set_xlabel('$t$ (ms)')\n",
    "\n",
    "\n",
    "\n",
    "ax3 = fig.add_subplot(gs[0, 1])\n",
    "ax3.set_title(r'(b)',loc='left',fontdict={'fontsize': 8})\n",
    "for i in range(12):\n",
    "    ax3.errorbar(t[0]*1e-3,pops[i],yerr = pops_divs[i],color=colors[i])\n",
    "i=4\n",
    "ax3.errorbar(t[0]*1e-3,pops[i],yerr = pops_divs[i],label=str(i),color=colors[i])\n",
    "i=6\n",
    "ax3.errorbar(t[0]*1e-3,pops[i],yerr = pops_divs[i],label=str(i),color=colors[i])\n",
    "i=10\n",
    "ax3.errorbar(t[0]*1e-3,pops[i],yerr = pops_divs[i],label=str(i),color=colors[i])\n",
    "ax3.set_ylabel('Populations')\n",
    "ax3.set_xlabel('$t$ (ms)')\n",
    "ax3.set_ylim(0)\n",
    "ax3.set_xlim(0,1)\n",
    "ax3.legend(loc='upper left',prop={'size': 7})\n",
    "\n",
    "\n",
    "#plt.savefig(\"I1_populations.pdf\",bbox_inches = \"tight\")\n",
    "\n",
    "\n",
    "plt.show()"
   ]
  },
  {
   "cell_type": "code",
   "execution_count": 23,
   "metadata": {},
   "outputs": [],
   "source": [
    "pop_cool = []\n",
    "for i in range(12):\n",
    "    pop_cool.append(np.average(pops[i][:2500]))"
   ]
  },
  {
   "cell_type": "code",
   "execution_count": 24,
   "metadata": {},
   "outputs": [
    {
     "data": {
      "text/plain": [
       "[0.002983774128898129,\n",
       " 0.0018428780072905723,\n",
       " 0.001609984028225494,\n",
       " 0.008705012896029585,\n",
       " 0.32105183613329435,\n",
       " 0.0519088240468077,\n",
       " 0.23135013538489693,\n",
       " 0.047149134383492206,\n",
       " 0.09826226229560282,\n",
       " 0.06341279001139988,\n",
       " 0.15409133077419063,\n",
       " 0.017632037926755058]"
      ]
     },
     "execution_count": 24,
     "metadata": {},
     "output_type": "execute_result"
    }
   ],
   "source": [
    "pop_cool"
   ]
  },
  {
   "cell_type": "code",
   "execution_count": 25,
   "metadata": {},
   "outputs": [],
   "source": [
    "steady_pops =[2.5219545337697136e-05, 3.5433437140971124e-05, 1.0213891803224638e-05, 4.4020500073060234e-05, 0.7353137395982505, 0.0007520912399441204, 0.03519372248798341, 0.0006316809651755381, 0.0024810290754624363, 0.0009114473078347735, 0.22435672364281736, 0.0002446783081765801]"
   ]
  },
  {
   "cell_type": "code",
   "execution_count": 26,
   "metadata": {},
   "outputs": [
    {
     "data": {
      "text/plain": [
       "0.7353137395982505"
      ]
     },
     "execution_count": 26,
     "metadata": {},
     "output_type": "execute_result"
    }
   ],
   "source": [
    "steady_pops[4]"
   ]
  },
  {
   "cell_type": "code",
   "execution_count": 27,
   "metadata": {},
   "outputs": [
    {
     "data": {
      "text/plain": [
       "0.03519372248798341"
      ]
     },
     "execution_count": 27,
     "metadata": {},
     "output_type": "execute_result"
    }
   ],
   "source": [
    "steady_pops[6]"
   ]
  },
  {
   "cell_type": "code",
   "execution_count": 28,
   "metadata": {},
   "outputs": [
    {
     "data": {
      "text/plain": [
       "0.22435672364281736"
      ]
     },
     "execution_count": 28,
     "metadata": {},
     "output_type": "execute_result"
    }
   ],
   "source": [
    "steady_pops[10]"
   ]
  },
  {
   "cell_type": "markdown",
   "metadata": {},
   "source": [
    "## No motion"
   ]
  },
  {
   "cell_type": "code",
   "execution_count": 29,
   "metadata": {},
   "outputs": [],
   "source": [
    "I = 1\n",
    "S = 1\n",
    "Je = 0\n",
    "Jg = 1\n",
    "Lg = 2\n",
    "F = [i for i in range(int(I-Jg),int(I + Jg + 1),1)]\n",
    "F.insert(0,int(I+Je))\n",
    "\n",
    "N = [2*F[i] + 1 for i in range(len(F))]\n",
    "N = sum(N)\n",
    "\n",
    "#Zeeman stuff\n",
    "\n",
    "muB = 9.3e-24 #Bohr magneton J T^-1\n",
    "hbar = 1.054e-34 # J s\n",
    "\n",
    "muB = muB/hbar #hbar = 1\n",
    "muB = muB/(2*np.pi)\n",
    "muB = muB/1e6  # so it's in 1/2π (MHz T^-1)\n",
    "#muB=1\n",
    "\n",
    "# 1Gauss is 0.0001 T\n",
    "B=5e-04\n",
    "#print(muB*B) \n",
    "#gF = [1,0,1,2]\n",
    "gF = []\n",
    "FF = [7,6,7,8]\n",
    "II = 7\n",
    "\n",
    "\n",
    "#Lande g factor for F\n",
    "me = 9.1093837015e-31 \n",
    "mp = 1.67262192369e-27 \n",
    "\n",
    "mI = 3.169 #nuclear magnetic moment of 176Lu in units of μN\n",
    "gI = mI/II\n",
    "gJg = 1 + (Jg*(Jg +1) + S*(S + 1) - Lg*(Lg + 1))/(2*Jg*(Jg + 1))\n",
    "\n",
    "\n",
    "gF.append(-gI*me/mp)\n",
    "\n",
    "for i in range(3):\n",
    "    gF.append(gJg*(FF[i +1]*(FF[i+1] + 1) + Jg*(Jg+1) - II*(II+1))/(2*FF[i+1]*(FF[i +1] + 1)))\n",
    "\n",
    "def base(F,i,mF):\n",
    "    #numbering states from 0 to N-1 starting from -mF to mF\n",
    "    # 0 is |F',-mF'>\n",
    "    if i==0:\n",
    "        b = basis(N,mF+F[i])\n",
    "    elif i==1:\n",
    "        b = basis(N,mF + F[i] + 2*F[0] + 1)\n",
    "    elif i==2:\n",
    "        b = basis(N,mF + F[i] + 2*F[0] + 1 + 2*F[1] + 1)\n",
    "    else:\n",
    "        b = basis(N,mF + F[i] + 2*F[0] + 1 + 2*F[1] + 1 + 2*F[2] +1)\n",
    "    return b    \n",
    "\n",
    "def H_I(F,Omega_p):\n",
    "    HI=0*basis(N,0)*basis(N,0).dag()\n",
    "    for mFe in range(-F[0],F[0] + 1):\n",
    "        for ig in range(1,len(F)):\n",
    "            for mFg in range(-F[ig],F[ig]+1):\n",
    "                for q in range(-1,2):\n",
    "                    HI += 2*np.pi*cg(F,ig,mFg,0,mFe,q)*Omega_p[ig-1,q+1]/2*base(F,0,mFe)*base(F,ig,mFg).dag()\n",
    "                \n",
    "    return -1/np.sqrt(2*F[0]+1)*(HI + HI.dag()) \n",
    "\n",
    "def H_0(F,Delta):\n",
    "    H0 = 0*basis(N,0)*basis(N,0).dag()\n",
    "    for l in range(len(F)):\n",
    "        for mF in range(-F[l],F[l]+1):\n",
    "            H0 += 2*np.pi*(Delta[l] + gF[l]*muB*mF*B)*base(F,l,mF)*base(F,l,mF).dag() \n",
    "    return H0\n",
    "\n",
    "def cg(F,ig,mFg,ie,mFe,q):\n",
    "    return float(CG(F[ig],mFg,1,q,F[ie],mFe).doit())\n",
    "    #return 1\n",
    "\n",
    "def GammaFgFe(F,ig,Je,Jg,I,GammaJgJe):\n",
    "    return float((2*Je + 1)*(2*F[ig] + 1)*wigner_6j(Je,F[0],I,F[ig],Jg,1)**2)*GammaJgJe\n",
    "    #return GammaJgJe\n",
    "\n",
    "#single collapse operator for each transtion\n",
    "GammaJgJe = 2.44745 #1/2π (MHz) 3D1 to 3P0\n",
    "c_ops = []\n",
    "qs = [-1,0,1]\n",
    "\n",
    "for ig in range(1,len(F)):\n",
    "    for mfg in range(-F[ig],F[ig] + 1):\n",
    "        for mfe in range(-F[0], F[0] + 1):\n",
    "            for q in qs:\n",
    "                if cg(F,ig,mfg,0,mfe,q) != 0:\n",
    "                    cops =np.sqrt(1/(2*F[0] + 1))*cg(F,ig,mfg,0,mfe,q)*np.sqrt(GammaFgFe(F,ig,Je,Jg,I,2*np.pi*GammaJgJe))*base(F,ig,mfg)*base(F,0,mfe).dag()\n",
    "                    c_ops.append(cops.to(\"CSR\"))\n",
    "                else:\n",
    "                    continue"
   ]
  },
  {
   "cell_type": "code",
   "execution_count": 30,
   "metadata": {},
   "outputs": [],
   "source": [
    "#Rabi frequencies Ω_F,F' #1/2π (MHz)\n",
    "omega = [23.5,10,23.5]\n",
    "\n",
    "#turn on/off polarization\n",
    "Omega_p= np.zeros((3,3)) # (ig-1, q + 1) transition from F state to F' with polarization q\n",
    "\n",
    "Omega_p[0,0] = Omega_p[0,2] = omega[0]       #σ+ and σ- for F=F[1] to F'= F[0]\n",
    "Omega_p[1,0] = Omega_p[1,2] = omega[1]      #σ+ and σ- for F=F[2] to F'=F[0]\n",
    "Omega_p[2,0] = Omega_p[2,2] = omega[2]     #σ+ and σ- for F=F[3] to F'=F[0]\n",
    "\n",
    "Delta = [0,10,20.5,20]"
   ]
  },
  {
   "cell_type": "code",
   "execution_count": 31,
   "metadata": {},
   "outputs": [],
   "source": [
    "HI=H_I(F,Omega_p) \n",
    "H0 = H_0(F,Delta)\n",
    "\n",
    "#total Hamiltonian\n",
    "H = H0 + HI\n",
    "#make sure Hamiltonian is sparse\n",
    "H = H.to(\"CSR\").tidyup(atol=1e-8)"
   ]
  },
  {
   "cell_type": "code",
   "execution_count": 32,
   "metadata": {},
   "outputs": [],
   "source": [
    "rho0 = basis(N,2*F[0] + 1 + 2*F[1] + 1 + 2*F[2]+1)*basis(N,2*F[0] + 1 + 2*F[1] + 1 + 2*F[2]+1).dag()\n",
    "\n",
    "tlist = np.linspace(0,1000,10000)\n",
    "\n",
    "e_ops = []\n",
    "for ig in range(0,len(F)):\n",
    "    for mf in range(-F[ig],F[ig] + 1):\n",
    "        e_ops.append(base(F,ig,mf)*base(F,ig,mf).dag())"
   ]
  },
  {
   "cell_type": "code",
   "execution_count": 33,
   "metadata": {},
   "outputs": [
    {
     "name": "stdout",
     "output_type": "stream",
     "text": [
      "10.0%. Run time:   0.18s. Est. time left: 00:00:00:01\n"
     ]
    },
    {
     "name": "stderr",
     "output_type": "stream",
     "text": [
      "c:\\Users\\kfouka\\AppData\\Local\\anaconda3\\Lib\\site-packages\\qutip\\solver\\solver_base.py:576: FutureWarning: e_ops will be keyword only from qutip 5.3 for all solver\n",
      "  warnings.warn(\n"
     ]
    },
    {
     "name": "stdout",
     "output_type": "stream",
     "text": [
      "20.0%. Run time:   0.32s. Est. time left: 00:00:00:01\n",
      "30.0%. Run time:   0.46s. Est. time left: 00:00:00:01\n",
      "40.0%. Run time:   0.60s. Est. time left: 00:00:00:00\n",
      "50.0%. Run time:   0.74s. Est. time left: 00:00:00:00\n",
      "60.0%. Run time:   0.88s. Est. time left: 00:00:00:00\n",
      "70.0%. Run time:   1.02s. Est. time left: 00:00:00:00\n",
      "80.0%. Run time:   1.15s. Est. time left: 00:00:00:00\n",
      "90.0%. Run time:   1.34s. Est. time left: 00:00:00:00\n",
      "100.0%. Run time:   1.49s. Est. time left: 00:00:00:00\n",
      "Total run time:   1.49s\n"
     ]
    }
   ],
   "source": [
    "rho = mesolve(H,rho0,tlist,c_ops,e_ops,options={'progress_bar': 'text'})"
   ]
  },
  {
   "cell_type": "code",
   "execution_count": 34,
   "metadata": {},
   "outputs": [
    {
     "data": {
      "image/png": "[encoded data removed]",
      "text/plain": [
       "<Figure size 640x480 with 1 Axes>"
      ]
     },
     "metadata": {},
     "output_type": "display_data"
    }
   ],
   "source": [
    "plt.figure()\n",
    "plt.title('initial state 7, no motion')\n",
    "for i in range(N):\n",
    "    plt.plot(tlist*1e-3,rho.expect[i],label=i,color=colors[i])\n",
    "plt.ylabel('Populations excited')\n",
    "plt.xlabel('$t (ms)$')\n",
    "plt.xlim(0,1)\n",
    "plt.legend()\n",
    "plt.ylim(0)\n",
    "#plt.savefig(\"I1_state_7_populations_e_no_motion.png\",bbox_inches = \"tight\")\n",
    "plt.show()"
   ]
  },
  {
   "cell_type": "code",
   "execution_count": 35,
   "metadata": {},
   "outputs": [
    {
     "data": {
      "image/png": "[encoded data removed]",
      "text/plain": [
       "<Figure size 500x180 with 3 Axes>"
      ]
     },
     "metadata": {},
     "output_type": "display_data"
    }
   ],
   "source": [
    "from matplotlib.gridspec import GridSpec\n",
    "from mpl_toolkits.axes_grid1.inset_locator import inset_axes\n",
    "\n",
    "def format_axes(fig):\n",
    "    for i, ax in enumerate(fig.axes):\n",
    "        ax.text(0.5, 0.5, \"ax%d\" % (i+1), va=\"center\", ha=\"center\")\n",
    "        ax.tick_params(labelbottom=False, labelleft=False)\n",
    "\n",
    "fig = plt.figure(constrained_layout=True,figsize=(5,1.8))\n",
    "\n",
    "gs = GridSpec(1, 3, figure=fig)\n",
    "#gs.update(wspace=0.005, hspace=0.05)\n",
    "ax1 = fig.add_subplot(gs[0, 0])\n",
    "# identical to ax1 = plt.subplot(gs.new_subplotspec((0, 0), colspan=3))\n",
    "\n",
    "\n",
    "ax1.set_title(r'(a)',loc='left',fontdict={'fontsize': 8})\n",
    "ax1.errorbar(t[0]*1e-3,nMC,yerr = nMC_dev,color='black',ecolor='black')\n",
    "ax1.set_ylim(0)\n",
    "ax1.set_xlim(0,1)\n",
    "ax1.set_ylabel('$\\\\langle n \\\\rangle$')\n",
    "ax1.set_xlabel('$t$ (ms)')\n",
    "\n",
    "\n",
    "\n",
    "ax3 = fig.add_subplot(gs[0, 1])\n",
    "ax3.set_title(r'(b)',loc='left',fontdict={'fontsize': 8})\n",
    "for i in range(12):\n",
    "    ax3.errorbar(t[0]*1e-3,pops[i],yerr = pops_divs[i],color=colors[i])\n",
    "i=4\n",
    "ax3.errorbar(t[0]*1e-3,pops[i],yerr = pops_divs[i],label=str(i),color=colors[i])\n",
    "i=6\n",
    "ax3.errorbar(t[0]*1e-3,pops[i],yerr = pops_divs[i],label=str(i),color=colors[i])\n",
    "i=10\n",
    "ax3.errorbar(t[0]*1e-3,pops[i],yerr = pops_divs[i],label=str(i),color=colors[i])\n",
    "ax3.set_ylabel('Populations')\n",
    "ax3.set_xlabel('$t$ (ms)')\n",
    "ax3.set_ylim(0)\n",
    "ax3.set_xlim(0,1)\n",
    "ax3.tick_params(axis='y', which='both', left=True, right=True, \n",
    "               labelleft=True, labelright=False)\n",
    "ax3.legend(loc='upper left',prop={'size': 7})\n",
    "\n",
    "ax4 = fig.add_subplot(gs[0, 2])\n",
    "ax4.set_title(r'(c)',loc='left',fontdict={'fontsize': 8})\n",
    "for i in range(12):\n",
    "    ax4.plot(tlist*1e-3,rho.expect[i],color=colors[i])\n",
    "i=4\n",
    "ax4.plot(tlist*1e-3,rho.expect[i],label=i,color=colors[i])\n",
    "i=6\n",
    "ax4.plot(tlist*1e-3,rho.expect[i],label=i,color=colors[i])\n",
    "i=10\n",
    "ax4.plot(tlist*1e-3,rho.expect[i],label=i,color=colors[i])\n",
    "ax4.set_xlabel('$t$ (ms)')\n",
    "ax4.set_ylim(0)\n",
    "ax4.set_xlim(0,1)\n",
    "#ax4.legend(loc='upper left',prop={'size': 7})\n",
    "ax4.tick_params(axis='y', which='both', left=True, right=True, \n",
    "               labelleft=False, labelright=False)\n",
    "#ax4.tick_params(left=False, labelleft=False)\n",
    "\n",
    "plt.savefig(\"I1_populations_.pdf\",bbox_inches = \"tight\")\n",
    "\n",
    "\n",
    "plt.show()"
   ]
  },
  {
   "cell_type": "code",
   "execution_count": 36,
   "metadata": {},
   "outputs": [],
   "source": [
    "pops_full = [3.290178839497939e-05,\n",
    "3.086011214837406e-05,\n",
    "2.110340786808547e-05,\n",
    "0.00011184363909925108,\n",
    "0.7334826933659693,\n",
    "0.0008150037725522413,\n",
    "0.03794120996956218,\n",
    "0.0005088787329077626,\n",
    "0.0017964804509398888,\n",
    "0.0007824112810246174,\n",
    "0.22419224638638086,\n",
    "0.0002843670931522736]"
   ]
  },
  {
   "cell_type": "code",
   "execution_count": 37,
   "metadata": {},
   "outputs": [],
   "source": [
    "pops_fic = [(0.006477954440987359-1.3331647417957893e-10j),\n",
    " (0.005953905992789455+1.9816320893234485e-11j),\n",
    " (0.0039413811943130135+1.6530830523886486e-11j),\n",
    " (0.021361259795704912-1.474934722967003e-10j),\n",
    " (0.07969239500419552-2.453143743696984e-09j),\n",
    " (0.11156213362034977+2.3632381260241253e-09j),\n",
    " (0.12349667309864493-1.029018537046511e-10j),\n",
    " (0.09299284523365421-4.802251790669843e-10j),\n",
    " (0.27435367412617184+1.803475840889135e-10j),\n",
    " (0.12723830614243792+2.472845470058438e-10j),\n",
    " (0.11396410557619661+2.2948572903080944e-10j),\n",
    " (0.038965365774554506+2.6037763264930014e-10j)]"
   ]
  },
  {
   "cell_type": "code",
   "execution_count": 38,
   "metadata": {},
   "outputs": [],
   "source": [
    "pops_rest = [8.16375799890918e-08,\n",
    " 7.7158600148982e-08,\n",
    " 5.338997048373485e-08,\n",
    " 2.8072359329188776e-07,\n",
    " 0.7691777221433598,\n",
    " 2.2492195488269402e-06,\n",
    " 0.00015463468676652972,\n",
    " 1.2907697923273218e-06,\n",
    " 4.178034751774213e-06,\n",
    " 2.0587452637879946e-06,\n",
    " 0.23065658657092486,\n",
    " 7.869198486312759e-07]"
   ]
  },
  {
   "cell_type": "code",
   "execution_count": 39,
   "metadata": {},
   "outputs": [
    {
     "data": {
      "image/png": "[encoded data removed]",
      "text/plain": [
       "<Figure size 500x180 with 3 Axes>"
      ]
     },
     "metadata": {},
     "output_type": "display_data"
    }
   ],
   "source": [
    "def format_axes(fig):\n",
    "    for i, ax in enumerate(fig.axes):\n",
    "        ax.text(0.5, 0.5, \"ax%d\" % (i+1), va=\"center\", ha=\"center\")\n",
    "        ax.tick_params(labelbottom=False, labelleft=False)\n",
    "\n",
    "fig = plt.figure(constrained_layout=True,figsize=(5,1.8))\n",
    "\n",
    "gs = GridSpec(1, 3, figure=fig)\n",
    "#gs.update(wspace=0.005, hspace=0.05)\n",
    "ax1 = fig.add_subplot(gs[0, 0])\n",
    "# identical to ax1 = plt.subplot(gs.new_subplotspec((0, 0), colspan=3))\n",
    "\n",
    "\n",
    "ax1.set_title(r'(a)',loc='left',fontdict={'fontsize': 8})\n",
    "ax1.errorbar(t[0]*1e-3,nMC,yerr = nMC_dev,color='black',ecolor='black')\n",
    "ax1.set_ylim(0)\n",
    "ax1.set_xlim(0,1)\n",
    "ax1.set_ylabel('$\\\\langle n \\\\rangle$')\n",
    "ax1.set_xlabel('$t$ (ms)')\n",
    "\n",
    "\n",
    "\n",
    "ax3 = fig.add_subplot(gs[0, 1])\n",
    "ax3.set_title(r'(b)',loc='left',fontdict={'fontsize': 8})\n",
    "for i in range(12):\n",
    "    ax3.errorbar(t[0]*1e-3,pops[i],yerr = pops_divs[i],color=colors[i])\n",
    "    ax3.scatter(t[0][-1]*1e-3,pops_full[i],color=colors[i],marker='+',s=60)\n",
    "i=4\n",
    "ax3.errorbar(t[0]*1e-3,pops[i],yerr = pops_divs[i],label=str(i),color=colors[i])\n",
    "i=6\n",
    "ax3.errorbar(t[0]*1e-3,pops[i],yerr = pops_divs[i],label=str(i),color=colors[i])\n",
    "i=10\n",
    "ax3.errorbar(t[0]*1e-3,pops[i],yerr = pops_divs[i],label=str(i),color=colors[i])\n",
    "ax3.set_ylabel('Populations')\n",
    "ax3.set_xlabel('$t$ (ms)')\n",
    "ax3.set_ylim(0)\n",
    "ax3.set_xlim(0,1)\n",
    "ax3.tick_params(axis='y', which='both', left=True, right=True, \n",
    "               labelleft=True, labelright=False)\n",
    "ax3.legend(loc='upper left',prop={'size': 7})\n",
    "\n",
    "ax4 = fig.add_subplot(gs[0, 2])\n",
    "ax4.set_title(r'(c)',loc='left',fontdict={'fontsize': 8})\n",
    "for i in range(12):\n",
    "    ax4.plot(tlist*1e-3,rho.expect[i],color=colors[i])\n",
    "    ax4.scatter(t[0][-1]*1e-3,pops_rest[i],color=colors[i],marker='+',s=60)\n",
    "    #ax4.scatter(t[0][-1]*1e-3,pops_fic[i],color='white',edgecolor=colors[i],marker='d')\n",
    "i=4\n",
    "ax4.plot(tlist*1e-3,rho.expect[i],label=i,color=colors[i])\n",
    "i=6\n",
    "ax4.plot(tlist*1e-3,rho.expect[i],label=i,color=colors[i])\n",
    "i=10\n",
    "ax4.plot(tlist*1e-3,rho.expect[i],label=i,color=colors[i])\n",
    "ax4.set_xlabel('$t$ (ms)')\n",
    "ax4.set_ylim(0)\n",
    "ax4.set_xlim(0,1)\n",
    "#ax4.legend(loc='upper left',prop={'size': 7})\n",
    "ax4.tick_params(axis='y', which='both', left=True, right=True, \n",
    "               labelleft=False, labelright=False)\n",
    "#ax4.tick_params(left=False, labelleft=False)\n",
    "\n",
    "plt.savefig(\"I1_populations_.pdf\",bbox_inches = \"tight\")\n",
    "\n",
    "\n",
    "plt.show()"
   ]
  }
 ],
 "metadata": {
  "kernelspec": {
   "display_name": "base",
   "language": "python",
   "name": "python3"
  },
  "language_info": {
   "codemirror_mode": {
    "name": "ipython",
    "version": 3
   },
   "file_extension": ".py",
   "mimetype": "text/x-python",
   "name": "python",
   "nbconvert_exporter": "python",
   "pygments_lexer": "ipython3",
   "version": "3.11.11"
  }
 },
 "nbformat": 4,
 "nbformat_minor": 4
}
