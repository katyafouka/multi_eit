{
 "cells": [
  {
   "cell_type": "code",
   "execution_count": 3,
   "metadata": {},
   "outputs": [],
   "source": [
    "import matplotlib.pyplot as plt\n",
    "import numpy as np"
   ]
  },
  {
   "cell_type": "code",
   "execution_count": 4,
   "metadata": {},
   "outputs": [],
   "source": [
    "from sympy import symbols, Eq, solve, summation\n",
    "from sympy.functions import exp"
   ]
  },
  {
   "cell_type": "code",
   "execution_count": 5,
   "metadata": {},
   "outputs": [],
   "source": [
    "from scipy.optimize import minimize_scalar\n",
    "import math"
   ]
  },
  {
   "cell_type": "code",
   "execution_count": 7,
   "metadata": {},
   "outputs": [],
   "source": [
    "from scipy.optimize import curve_fit\n",
    "import matplotlib.cm as cm\n",
    "import matplotlib.colors as mcolors"
   ]
  },
  {
   "cell_type": "code",
   "execution_count": 9,
   "metadata": {},
   "outputs": [],
   "source": [
    "def func(x,Nmax,nbar):\n",
    "    \n",
    "    Z = (1-np.exp(-(Nmax+1)*x))/(1-np.exp(-x))\n",
    "    n = np.exp(-Nmax*x)*(np.exp((Nmax + 1)*x) -(Nmax+1)*np.exp(x) + Nmax)/(np.exp(x) -1)**2\n",
    "    \n",
    "    \n",
    "    return np.abs(nbar - n/Z)"
   ]
  },
  {
   "cell_type": "code",
   "execution_count": 10,
   "metadata": {},
   "outputs": [],
   "source": [
    "Nmax=14\n",
    "nbar=3\n",
    "res = minimize_scalar(func,args=(Nmax,nbar),bounds=(0, 1), method='bounded')"
   ]
  },
  {
   "cell_type": "code",
   "execution_count": 11,
   "metadata": {},
   "outputs": [],
   "source": [
    "x = res.x"
   ]
  },
  {
   "cell_type": "code",
   "execution_count": 12,
   "metadata": {},
   "outputs": [
    {
     "data": {
      "text/plain": [
       "0.002527075613606284"
      ]
     },
     "execution_count": 12,
     "metadata": {},
     "output_type": "execute_result"
    }
   ],
   "source": [
    "hbar = 1.054571817e-34\n",
    "kB = 1.380649e-23\n",
    "omega = 2*np.pi*1.4*10e6\n",
    "#x = 0.184132\n",
    "Z = (1-np.exp(-(Nmax+1)*x))/(1-np.exp(-x))\n",
    "\n",
    "T = hbar*omega/(kB*x)\n",
    "T"
   ]
  },
  {
   "cell_type": "code",
   "execution_count": 13,
   "metadata": {},
   "outputs": [],
   "source": [
    "P = []\n",
    "for i in range(Nmax+1): #Nmotion=15 but for <n> =3 keep up to i=10\n",
    "    P.append(np.exp(-i*x)/Z)"
   ]
  },
  {
   "cell_type": "code",
   "execution_count": 14,
   "metadata": {},
   "outputs": [
    {
     "data": {
      "text/plain": [
       "1.0"
      ]
     },
     "execution_count": 14,
     "metadata": {},
     "output_type": "execute_result"
    }
   ],
   "source": [
    "sum(P)"
   ]
  },
  {
   "cell_type": "code",
   "execution_count": 23,
   "metadata": {},
   "outputs": [],
   "source": [
    "Pn = []\n",
    "for i in range(Nmax+1):\n",
    "    Pn.append(np.exp(-i*x)/Z*i)"
   ]
  },
  {
   "cell_type": "code",
   "execution_count": 25,
   "metadata": {},
   "outputs": [
    {
     "data": {
      "text/plain": [
       "2.9999994106949863"
      ]
     },
     "execution_count": 25,
     "metadata": {},
     "output_type": "execute_result"
    }
   ],
   "source": [
    "sum(Pn) #<n>"
   ]
  },
  {
   "cell_type": "code",
   "execution_count": 27,
   "metadata": {},
   "outputs": [
    {
     "data": {
      "image/png": "[encoded data removed]",
      "text/plain": [
       "<Figure size 640x480 with 1 Axes>"
      ]
     },
     "metadata": {},
     "output_type": "display_data"
    }
   ],
   "source": [
    "plt.figure()\n",
    "plt.bar(np.arange(0,Nmax+1),P)\n",
    "plt.ylabel('$P$')\n",
    "plt.xlabel('$n$')\n",
    "plt.xlim(-0.5,Nmax+0.5)\n",
    "plt.show()"
   ]
  },
  {
   "cell_type": "code",
   "execution_count": 29,
   "metadata": {},
   "outputs": [
    {
     "data": {
      "text/plain": [
       "0.005751477788089598"
      ]
     },
     "execution_count": 29,
     "metadata": {},
     "output_type": "execute_result"
    }
   ],
   "source": [
    "P[-1]"
   ]
  },
  {
   "cell_type": "markdown",
   "metadata": {},
   "source": [
    "## B = 5G, Δ$_{1,0}$ = 10 ΜHz, Δ$_{1,1}$ = 20.5 ΜHz, Δ$_{1,2}$ = 20 ΜΗz, ω = 1.4 ΜΗz,\n",
    "## Ω$_{1,0}$ = Ω$_{1,2}$ = 23.5 ΜHz, Ω$_{1,1}$ = 10 ΜΗz, state 7"
   ]
  },
  {
   "cell_type": "code",
   "execution_count": 39,
   "metadata": {},
   "outputs": [],
   "source": [
    "t = []\n",
    "n = []\n",
    "n_div = []\n",
    "for i in range(Nmax+1):\n",
    "    t.append(np.loadtxt(\"\"+str(path_name)+\"data_B5.0_D10_10_D12_20_O10_O11_23.5_O11_10_\"+str(i)+\"_Gamma_2.44745_ntraj_500_improved_step.txt\")[:, 0])\n",
    "    n.append(np.loadtxt(\"\"+str(path_name)+\"data_B5.0_D10_10_D12_20_O10_O11_23.5_O11_10_\"+str(i)+\"_Gamma_2.44745_ntraj_500_improved_step.txt\")[:, 1])\n",
    "    n_div.append(np.loadtxt(\"\"+str(path_name)+\"data_B5.0_D10_10_D12_20_O10_O11_23.5_O11_10_\"+str(i)+\"_Gamma_2.44745_ntraj_500_stds_improved_step.txt\")[:, 0])          "
   ]
  },
  {
   "cell_type": "code",
   "execution_count": 41,
   "metadata": {},
   "outputs": [],
   "source": [
    "nMC = np.zeros(len(t[0]))\n",
    "for i in range(Nmax+1):\n",
    "    nMC +=np.array(n[i])*P[i]"
   ]
  },
  {
   "cell_type": "code",
   "execution_count": 43,
   "metadata": {},
   "outputs": [],
   "source": [
    "nMC_dev = np.zeros(len(t[0]))\n",
    "for i in range(Nmax+1):\n",
    "    nMC_dev += np.array(n_div[i])*P[i]\n",
    "nMC_dev = nMC_dev/np.sqrt(500-1)"
   ]
  },
  {
   "cell_type": "code",
   "execution_count": 55,
   "metadata": {},
   "outputs": [],
   "source": [
    "pops = []\n",
    "pops_divs = []\n",
    "for j in range(12):\n",
    "    pop = []\n",
    "    pop_div = []\n",
    "    for i in range(Nmax+1):\n",
    "        pop.append(P[i]*np.loadtxt(\"\"+str(path_name)+\"data_B5.0_D10_10_D12_20_O10_O11_23.5_O11_10_\"+str(i)+\"_Gamma_2.44745_ntraj_500_improved_step.txt\")[:,j+2])\n",
    "        pop_div.append(P[i]*np.loadtxt(\"\"+str(path_name)+\"data_B5.0_D10_10_D12_20_O10_O11_23.5_O11_10_\"+str(i)+\"_Gamma_2.44745_ntraj_500_stds_improved_step.txt\")[:,j+1])\n",
    "    pop_=np.sum(pop,axis=0)\n",
    "    pop_div_=np.sum(pop_div,axis=0)\n",
    "    \n",
    "    pops.append(pop_)\n",
    "    pops_divs.append(pop_div_)\n",
    "\n",
    "pops_divs = pops_divs/np.sqrt(500-1)"
   ]
  },
  {
   "cell_type": "code",
   "execution_count": 56,
   "metadata": {},
   "outputs": [],
   "source": [
    "plt.rcParams.update({'font.size': 8})"
   ]
  },
  {
   "cell_type": "code",
   "execution_count": 57,
   "metadata": {},
   "outputs": [],
   "source": [
    "colors = cm.Paired(np.linspace(0,1,12))"
   ]
  },
  {
   "cell_type": "code",
   "execution_count": 91,
   "metadata": {},
   "outputs": [
    {
     "data": {
      "image/png": "[encoded data removed]",
      "text/plain": [
       "<Figure size 350x180 with 2 Axes>"
      ]
     },
     "metadata": {},
     "output_type": "display_data"
    }
   ],
   "source": [
    "from matplotlib.gridspec import GridSpec\n",
    "from mpl_toolkits.axes_grid1.inset_locator import inset_axes\n",
    "\n",
    "def format_axes(fig):\n",
    "    for i, ax in enumerate(fig.axes):\n",
    "        ax.text(0.5, 0.5, \"ax%d\" % (i+1), va=\"center\", ha=\"center\")\n",
    "        ax.tick_params(labelbottom=False, labelleft=False)\n",
    "\n",
    "fig = plt.figure(constrained_layout=True,figsize=(3.5,1.8))\n",
    "\n",
    "gs = GridSpec(1, 2, figure=fig)\n",
    "#gs.update(wspace=0.005, hspace=0.05)\n",
    "ax1 = fig.add_subplot(gs[0, 0])\n",
    "# identical to ax1 = plt.subplot(gs.new_subplotspec((0, 0), colspan=3))\n",
    "\n",
    "\n",
    "ax1.set_title(r'(a)',loc='left',fontdict={'fontsize': 8})\n",
    "ax1.errorbar(t[0]*1e-3,nMC,yerr = nMC_dev,color='black',ecolor='black')\n",
    "ax1.set_ylim(0)\n",
    "ax1.set_xlim(0,1)\n",
    "ax1.set_ylabel('$\\\\langle n \\\\rangle$')\n",
    "ax1.set_xlabel('$t$ (ms)')\n",
    "\n",
    "\n",
    "\n",
    "ax3 = fig.add_subplot(gs[0, 1])\n",
    "ax3.set_title(r'(b)',loc='left',fontdict={'fontsize': 8})\n",
    "for i in range(12):\n",
    "    ax3.errorbar(t[0]*1e-3,pops[i],yerr = pops_divs[i],color=colors[i])\n",
    "i=4\n",
    "ax3.errorbar(t[0]*1e-3,pops[i],yerr = pops_divs[i],label=str(i),color=colors[i])\n",
    "i=6\n",
    "ax3.errorbar(t[0]*1e-3,pops[i],yerr = pops_divs[i],label=str(i),color=colors[i])\n",
    "i=10\n",
    "ax3.errorbar(t[0]*1e-3,pops[i],yerr = pops_divs[i],label=str(i),color=colors[i])\n",
    "ax3.set_ylabel('Populations')\n",
    "ax3.set_xlabel('$t$ (ms)')\n",
    "ax3.set_ylim(0)\n",
    "ax3.set_xlim(0,1)\n",
    "ax3.legend(loc='upper left',prop={'size': 7})\n",
    "\n",
    "\n",
    "plt.savefig(\"I1_populations.pdf\",bbox_inches = \"tight\")\n",
    "\n",
    "\n",
    "plt.show()"
   ]
  },
  {
   "cell_type": "code",
   "execution_count": 93,
   "metadata": {},
   "outputs": [],
   "source": [
    "steady_pops =[2.5219545337697136e-05, 3.5433437140971124e-05, 1.0213891803224638e-05, 4.4020500073060234e-05, 0.7353137395982505, 0.0007520912399441204, 0.03519372248798341, 0.0006316809651755381, 0.0024810290754624363, 0.0009114473078347735, 0.22435672364281736, 0.0002446783081765801]"
   ]
  },
  {
   "cell_type": "code",
   "execution_count": 95,
   "metadata": {},
   "outputs": [
    {
     "data": {
      "text/plain": [
       "0.7353137395982505"
      ]
     },
     "execution_count": 95,
     "metadata": {},
     "output_type": "execute_result"
    }
   ],
   "source": [
    "steady_pops[4]"
   ]
  },
  {
   "cell_type": "code",
   "execution_count": 97,
   "metadata": {},
   "outputs": [
    {
     "data": {
      "text/plain": [
       "0.03519372248798341"
      ]
     },
     "execution_count": 97,
     "metadata": {},
     "output_type": "execute_result"
    }
   ],
   "source": [
    "steady_pops[6]"
   ]
  },
  {
   "cell_type": "code",
   "execution_count": 99,
   "metadata": {},
   "outputs": [
    {
     "data": {
      "text/plain": [
       "0.22435672364281736"
      ]
     },
     "execution_count": 99,
     "metadata": {},
     "output_type": "execute_result"
    }
   ],
   "source": [
    "steady_pops[10]"
   ]
  }
 ],
 "metadata": {
  "kernelspec": {
   "display_name": "Python 3 (ipykernel)",
   "language": "python",
   "name": "python3"
  },
  "language_info": {
   "codemirror_mode": {
    "name": "ipython",
    "version": 3
   },
   "file_extension": ".py",
   "mimetype": "text/x-python",
   "name": "python",
   "nbconvert_exporter": "python",
   "pygments_lexer": "ipython3",
   "version": "3.11.11"
  }
 },
 "nbformat": 4,
 "nbformat_minor": 4
}
