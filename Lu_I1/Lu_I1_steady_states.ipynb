{
 "cells": [
  {
   "cell_type": "code",
   "execution_count": 1,
   "metadata": {},
   "outputs": [],
   "source": [
    "import numpy as np\n",
    "from qutip import *\n",
    "from sympy.physics.quantum.cg import CG\n",
    "from sympy.physics.wigner import wigner_6j, wigner_3j\n",
    "from tqdm import tqdm\n",
    "import matplotlib.pyplot as plt\n",
    "from scipy.linalg import inv\n",
    "from numpy import linalg as LA\n",
    "from scipy.optimize import minimize_scalar\n",
    "import math\n",
    "from scipy.optimize import curve_fit\n",
    "from scipy.sparse.linalg import eigs\n",
    "from scipy.odr import ODR, Model, Data, RealData\n",
    "import matplotlib.cm as cm"
   ]
  },
  {
   "cell_type": "code",
   "execution_count": 2,
   "metadata": {},
   "outputs": [],
   "source": [
    "I = 1\n",
    "S = 1\n",
    "Je = 0\n",
    "Jg = 1\n",
    "Lg = 2\n",
    "F = [i for i in range(int(I-Jg),int(I + Jg + 1),1)]\n",
    "F.insert(0,int(I+Je))\n",
    "\n",
    "Natomic = [2*F[i] + 1 for i in range(len(F))]\n",
    "Natomic = sum(Natomic)\n",
    "\n",
    "Nmotion = 15\n",
    "a = tensor(qeye(Natomic),destroy(Nmotion))\n",
    "y = a+a.dag()\n",
    "     \n",
    "#system parameters\n",
    "c = 299792458\n",
    "λ = 646e-9\n",
    "f = c/λ \n",
    "f_1 = 11.2e9\n",
    "f_2 = 10.5e9\n",
    "\n",
    "#176Lu+\n",
    "amu = 1.66053886e-27\n",
    "hbar = 1.054571817e-34\n",
    "M = 176*amu\n",
    "\n",
    "omega0  = 1.4\n",
    "\n",
    "eta = []\n",
    "\n",
    "eta2 = 2*np.pi*f/c*np.sqrt(hbar/(2*M*2*np.pi*omega0*10**(6)))\n",
    "eta.append(eta2)\n",
    "\n",
    "eta3 = 2*np.pi*(f-f_1)/c*np.sqrt(hbar/(2*M*2*np.pi*omega0*10**(6)))\n",
    "eta.append(eta3)\n",
    "\n",
    "eta4 = -2*np.pi*(f-f_2)/c*np.sqrt(hbar/(2*M*2*np.pi*omega0*10**(6)))\n",
    "eta.append(eta4)\n",
    "\n",
    "\n",
    "II = 7\n",
    "S = 1\n",
    "Je = 0\n",
    "Jg = 1\n",
    "Lg = 2\n",
    "FF = [i for i in range(int(II-Jg),int(II + Jg + 1),1)]\n",
    "FF.insert(0,int(II+Je))\n",
    "\n",
    "#Zeeman stuff\n",
    "\n",
    "\n",
    "muB = 9.3e-24 #Bohr magneton J T^-1\n",
    "hbar = 1.054e-34 # J s\n",
    "\n",
    "muB = muB/hbar #hbar = 1\n",
    "muB = muB/(2*np.pi)\n",
    "muB = muB/1e6  # so it's in 1/2π (MHz T^-1)\n",
    "\n",
    "# 1Gauss is 0.0001 T\n",
    "B = 5e-4\n",
    "\n",
    "#Lande g factor for F\n",
    "me = 9.1093837015e-31 \n",
    "mp = 1.67262192369e-27 \n",
    "\n",
    "mI = 3.169 #nuclear magnetic moment of 176Lu in units of μN\n",
    "gI = mI/II\n",
    "\n",
    "gJg = 1 + (Jg*(Jg +1) + S*(S + 1) - Lg*(Lg + 1))/(2*Jg*(Jg + 1))\n",
    "#print(gJg)\n",
    "\n",
    "#gF = [1,0,1,2]\n",
    "gF=[]\n",
    "gF.append(-gI*me/mp)\n",
    "\n",
    "for i in range(3):\n",
    "    gF.append(gJg*(FF[i +1]*(FF[i+1] + 1) + Jg*(Jg+1) - II*(II+1))/(2*FF[i+1]*(FF[i +1] + 1)))\n",
    "\n",
    "def base(F,i,mF):\n",
    "    #numbering states from 0 to N-1 starting from -mF to mF\n",
    "    # 0 is |F',-mF'>\n",
    "    if i==0:\n",
    "        b = tensor(basis(Natomic,mF+F[i], dtype=\"csr\"),qeye(Nmotion))\n",
    "    elif i==1:\n",
    "        b = tensor(basis(Natomic,mF + F[i] + 2*F[0] + 1, dtype=\"csr\"),qeye(Nmotion))\n",
    "    elif i==2:\n",
    "        b = tensor(basis(Natomic,mF + F[i] + 2*F[0] + 1 + 2*F[1] + 1, dtype=\"csr\"),qeye(Nmotion))\n",
    "    else:\n",
    "        b = tensor(basis(Natomic,mF + F[i] + 2*F[0] + 1 + 2*F[1] + 1 + 2*F[2] +1, dtype=\"csr\"),qeye(Nmotion))\n",
    "    return b   \n",
    "\n",
    "\n",
    "def GammaFgFe(F,ig,Je,Jg,I,GammaJgJe):\n",
    "    return float((2*Je + 1)*(2*F[0] + 1)*wigner_6j(Je,F[0],I,F[ig],Jg,1)**2)*2*np.pi*GammaJgJe\n",
    "    #return GammaJgJe\n",
    "\n",
    "def cg(F,ig,mFg,ie,mFe,q):\n",
    "    return float(CG(F[ig],mFg,1,q,F[ie],mFe).doit())\n",
    "    #return 1\n",
    "\n",
    "\n",
    "\n",
    "#Hamiltonian\n",
    "def H_I(F,Omega_p):\n",
    "    HI=0*tensor(basis(Natomic,0, dtype=\"csr\"),qeye(Nmotion))*tensor(basis(Natomic,0, dtype=\"csr\"),qeye(Nmotion)).dag()\n",
    "    for mFe in range(-F[0],F[0] + 1):\n",
    "        for ig in range(1,len(F)):\n",
    "            for mFg in range(-F[ig],F[ig]+1):\n",
    "                for q in range(-1,2):\n",
    "                    #HI += 2*np.pi*cg(F,ig,mFg,0,mFe,q)*Omega_p[ig-1,q+1]/2*(-1j*eta[ig-1]*y).expm(dtype=\"csr\")*base(F,0,mFe)*base(F,ig,mFg).dag()\n",
    "                    HI += 2*np.pi*cg(F,ig,mFg,0,mFe,q)*Omega_p[ig-1,q+1]/2*base(F,0,mFe)*base(F,ig,mFg).dag()*(tensor(qeye(Natomic),qeye(Nmotion)) +1j*eta[ig-1]*y)\n",
    "                \n",
    "    return -1/np.sqrt(2*F[0]+1)*(HI + HI.dag()) \n",
    "\n",
    "def H_0(F,Delta):\n",
    "    H0 = 0*tensor(basis(Natomic,0, dtype=\"csr\"),qeye(Nmotion))*tensor(basis(Natomic,0, dtype=\"csr\"),qeye(Nmotion)).dag()\n",
    "    for l in range(len(F)):\n",
    "        for mF in range(-F[l],F[l]+1):\n",
    "            H0 += 2*np.pi*(Delta[l] + gF[l]*muB*mF*B)*base(F,l,mF)*base(F,l,mF).dag() \n",
    "    return H0"
   ]
  },
  {
   "cell_type": "code",
   "execution_count": 3,
   "metadata": {},
   "outputs": [],
   "source": [
    "#Setting up\n",
    "\n",
    "\n",
    "#Rabi frequencies Ω_F,F' #1/2π (MHz)\n",
    "omega = [23.5,10,23.5]\n",
    "\n",
    "#turn on/off polarization\n",
    "Omega_p= np.zeros((3,3)) # (ig-1, q + 1) transition from F state to F' with polarization q\n",
    "\n",
    "Omega_p[0,0] = Omega_p[0,2] = omega[0]       #σ+ and σ- for F=F[1] to F'= F[0]\n",
    "Omega_p[1,0] = Omega_p[1,2] = omega[1]      #σ+ and σ- for F=F[2] to F'=F[0]\n",
    "Omega_p[2,0] = Omega_p[2,2] = omega[2]     #σ+ and σ- for F=F[3] to F'=F[0]\n",
    "\n",
    "Delta = [0,10,20.5,20]\n",
    "\n",
    "H0 = H_0(F,Delta)\n",
    "HI = H_I(F,Omega_p)\n",
    "H = 2*np.pi*omega0*a.dag()*a + H0 + HI\n",
    "\n",
    "#make sure Hamiltonian is sparse\n",
    "H = H.to(\"CSR\").tidyup(atol=1e-8)\n",
    "\n",
    "#GammaJgJe = 2.5\n",
    "GammaJgJe = 2.44745 #1/2π (MHz) 3D1 to 3P0\n",
    "#GammaJgJe = 20\n",
    "\n",
    "#single collapse operator for each transtion\n",
    "c_ops = []\n",
    "qs = [-1,0,1]\n",
    "\n",
    "for ig in range(1,len(F)):\n",
    "    for mfg in range(-F[ig],F[ig] + 1):\n",
    "        for mfe in range(-F[0], F[0] + 1):\n",
    "            for q in qs:\n",
    "                if cg(F,ig,mfg,0,mfe,q) != 0:\n",
    "                    cops =np.sqrt(1/(2*F[0] + 1))*cg(F,ig,mfg,0,mfe,q)*np.sqrt(GammaFgFe(F,ig,Je,Jg,I,GammaJgJe))*base(F,ig,mfg)*base(F,0,mfe).dag()\n",
    "                    c_ops.append(cops.to(\"CSR\"))\n",
    "                else:\n",
    "                    continue"
   ]
  },
  {
   "cell_type": "code",
   "execution_count": 4,
   "metadata": {},
   "outputs": [],
   "source": [
    "rho = steadystate(H,c_ops,method='power',solver='spsolve')"
   ]
  },
  {
   "cell_type": "code",
   "execution_count": null,
   "metadata": {},
   "outputs": [],
   "source": [
    "pops = [expect(tensor(basis(Natomic,i),qeye(Nmotion))*tensor(basis(Natomic,i),qeye(Nmotion)).dag(),rho) for i in range(Natomic)] #full steady state"
   ]
  },
  {
   "cell_type": "code",
   "execution_count": 6,
   "metadata": {},
   "outputs": [
    {
     "name": "stdout",
     "output_type": "stream",
     "text": [
      "3.267473100341447e-05\n",
      "3.065199071766561e-05\n",
      "2.096625275160227e-05\n",
      "0.0001110723232853451\n",
      "0.7336239291629619\n",
      "0.0008130521685430363\n",
      "0.037799174753872164\n",
      "0.000506097838219085\n",
      "0.001788534927362654\n",
      "0.000779628558618151\n",
      "0.22421078266214234\n",
      "0.0002834346305230154\n"
     ]
    }
   ],
   "source": [
    "for i in range(len(pops)):\n",
    "    print(pops[i])"
   ]
  },
  {
   "cell_type": "code",
   "execution_count": 7,
   "metadata": {},
   "outputs": [],
   "source": [
    "rho_int = rho.ptrace(0)"
   ]
  },
  {
   "cell_type": "code",
   "execution_count": 8,
   "metadata": {},
   "outputs": [],
   "source": [
    "def base(F,i,mF):\n",
    "    #numbering states from 0 to N-1 starting from -mF to mF\n",
    "    # 0 is |F',-mF'>\n",
    "    if i==0:\n",
    "        b = basis(Natomic,mF+F[i])\n",
    "    elif i==1:\n",
    "        b = basis(Natomic,mF + F[i] + 2*F[0] + 1)\n",
    "    elif i==2:\n",
    "        b = basis(Natomic,mF + F[i] + 2*F[0] + 1 + 2*F[1] + 1)\n",
    "    else:\n",
    "        b = basis(Natomic,mF + F[i] + 2*F[0] + 1 + 2*F[1] + 1 + 2*F[2] +1)\n",
    "    return b \n",
    "\n",
    "def H1_(F,eta,Omega_p):\n",
    "    H1=0*basis(Natomic,0)*basis(Natomic,0).dag()\n",
    "    for mFe in range(-F[0],F[0] + 1):\n",
    "        for ig in range(1,len(F)):\n",
    "            for mFg in range(-F[ig],F[ig]+1):\n",
    "                for q in range(-1,2):\n",
    "                    H1 += 2*np.pi*1j*eta[ig-1]*cg(F,ig,mFg,0,mFe,q)*Omega_p[ig-1,q+1]/2*base(F,0,mFe)*base(F,ig,mFg).dag()\n",
    "                \n",
    "    return -1/np.sqrt(2*F[0]+1)*H1\n",
    "\n",
    "def H_I(F,Omega_p):\n",
    "    HI=0*basis(Natomic,0)*basis(Natomic,0).dag()\n",
    "    for mFe in range(-F[0],F[0] + 1):\n",
    "        for ig in range(1,len(F)):\n",
    "            for mFg in range(-F[ig],F[ig]+1):\n",
    "                for q in range(-1,2):\n",
    "                    HI += 2*np.pi*cg(F,ig,mFg,0,mFe,q)*Omega_p[ig-1,q+1]/2*base(F,0,mFe)*base(F,ig,mFg).dag()\n",
    "                \n",
    "    return -1/np.sqrt(2*F[0]+1)*(HI + HI.dag()) \n",
    "\n",
    "def H_0(F,Delta):\n",
    "    H0 = 0*basis(Natomic,0)*basis(Natomic,0).dag()\n",
    "    for l in range(len(F)):\n",
    "        for mF in range(-F[l],F[l]+1):\n",
    "            H0 += 2*np.pi*(Delta[l] + gF[l]*muB*mF*B)*base(F,l,mF)*base(F,l,mF).dag() \n",
    "    return H0\n",
    "\n",
    "#single collapse operator for each transtion\n",
    "c_ops = []\n",
    "qs = [-1,0,1]\n",
    "\n",
    "for ig in range(1,len(F)):\n",
    "    for mfg in range(-F[ig],F[ig] + 1):\n",
    "        for mfe in range(-F[0], F[0] + 1):\n",
    "            for q in qs:\n",
    "                if cg(F,ig,mfg,0,mfe,q) != 0:\n",
    "                    cops =np.sqrt(1/(2*F[0] + 1))*cg(F,ig,mfg,0,mfe,q)*np.sqrt(GammaFgFe(F,ig,Je,Jg,I,GammaJgJe))*base(F,ig,mfg)*base(F,0,mfe).dag()\n",
    "                    c_ops.append(cops.to(\"CSR\"))\n",
    "                else:\n",
    "                    continue"
   ]
  },
  {
   "cell_type": "code",
   "execution_count": 9,
   "metadata": {},
   "outputs": [],
   "source": [
    "H0_ = H_0(F,Delta)\n",
    "HI_ = H_I(F,Omega_p) \n",
    "    \n",
    "\n",
    "H0 = H0_ + HI_ \n",
    "#H0 = H0.to(\"CSR\").tidyup(atol=1e-8)\n",
    "\n",
    "c=c_ops\n",
    "\n",
    "rho0 = steadystate(H0,c)\n",
    "\n",
    "L0 = 0*spre(c[0])*spost(c[0].dag())\n",
    "for i in range(len(c)):\n",
    "    L0 += spre(c[i])*spost(c[i].dag()) - 0.5*(spre(c[i].dag()*c[i]) + spost(c[i].dag()*c[i]))\n",
    "    #L0 = sum(c)\n",
    "\n",
    "L0 += -1j*(spre(H0) - spost(H0))\n",
    "    \n",
    "#L0 = np.array(L0)\n",
    "L0 = L0.data_as('ndarray')\n",
    "\n",
    "H_1 = H1_(F,eta,Omega_p)\n",
    "L_1 = -1j*(spre(H_1) - spost(H_1))\n",
    "\n",
    "#L_1 = np.array(L_1)\n",
    "L_1 = L_1.data_as('ndarray')\n",
    "\n",
    "H1 = H_1.dag()\n",
    "L1 = -1j*(spre(H1) - spost(H1))\n",
    "\n",
    "#L1 = np.array(L1)\n",
    "L1 = L1.data_as('ndarray')\n",
    "\n",
    "Deltap=2*np.pi*omega0\n",
    "\n",
    "N= Natomic\n",
    "#S3 = -np.matmul(inv(L0-3j*Deltap*np.eye(N**2)),L1)\n",
    "#S2 = -np.matmul(inv(L0-2j*Deltap*np.eye(N**2)),L1)\n",
    "#S2 = -np.matmul(inv(L0-2j*Deltap*np.eye(N**2)+ np.matmul(L_1,S3)),L1)\n",
    "#S1 = -np.matmul(inv(L0-1j*Deltap*np.eye(N**2) + np.matmul(L_1,S2)),L1)\n",
    "S1 = -np.matmul(inv(L0-1j*Deltap*np.eye(N**2)),L1) \n",
    "\n",
    "#T_3 = -np.matmul(inv(L0+3j*Deltap*np.eye(N**2)),L_1)\n",
    "#T_2 = -np.matmul(inv(L0+2j*Deltap*np.eye(N**2)),L_1)\n",
    "#T_2 = -np.matmul(inv(L0+2j*Deltap*np.eye(N**2)+ np.matmul(L1,T_3)),L_1)\n",
    "#T_1 = -np.matmul(inv(L0+1j*Deltap*np.eye(N**2)+ np.matmul(L1,T_2)),L_1)\n",
    "T_1 = -np.matmul(inv(L0+1j*Deltap*np.eye(N**2)),L_1)\n",
    "    \n",
    "L = np.matmul(L_1,S1) + L0 +np.matmul(L1,T_1)\n",
    "\n",
    "\n",
    "eigenvalues, eigenvectors = eigs(L,k=2,sigma = 0+0j)\n",
    "\n",
    "rhoss = eigenvectors[:,0]\n",
    "\n",
    "N=int(np.sqrt(len(rhoss)))\n",
    "\n",
    "rhos = np.zeros((N,N),dtype='complex64')\n",
    "for i in range(N):\n",
    "    for j in range(N):\n",
    "        rhos[j,i] = rhoss[j+i*N]"
   ]
  },
  {
   "cell_type": "code",
   "execution_count": 10,
   "metadata": {},
   "outputs": [
    {
     "data": {
      "text/plain": [
       "array([ 1.03824590e-16-1.03419025e-16j, -2.17578247e-02-3.98971084e-04j])"
      ]
     },
     "execution_count": 10,
     "metadata": {},
     "output_type": "execute_result"
    }
   ],
   "source": [
    "eigenvalues"
   ]
  },
  {
   "cell_type": "code",
   "execution_count": 11,
   "metadata": {},
   "outputs": [],
   "source": [
    "rho1 = Qobj(rhos)"
   ]
  },
  {
   "cell_type": "code",
   "execution_count": 12,
   "metadata": {},
   "outputs": [],
   "source": [
    "rho1=rho1/rho1.tr()"
   ]
  },
  {
   "cell_type": "code",
   "execution_count": 13,
   "metadata": {},
   "outputs": [],
   "source": [
    "pops = [expect(basis(Natomic,i)*basis(Natomic,i).dag(),rho_int) for i in range(Natomic)]"
   ]
  },
  {
   "cell_type": "code",
   "execution_count": 17,
   "metadata": {},
   "outputs": [
    {
     "data": {
      "text/plain": [
       "[3.267473100341447e-05,\n",
       " 3.065199071766561e-05,\n",
       " 2.096625275160227e-05,\n",
       " 0.0001110723232853451,\n",
       " 0.7336239291629619,\n",
       " 0.0008130521685430363,\n",
       " 0.037799174753872164,\n",
       " 0.000506097838219085,\n",
       " 0.001788534927362654,\n",
       " 0.000779628558618151,\n",
       " 0.22421078266214234,\n",
       " 0.0002834346305230154]"
      ]
     },
     "execution_count": 17,
     "metadata": {},
     "output_type": "execute_result"
    }
   ],
   "source": [
    "pops"
   ]
  },
  {
   "cell_type": "code",
   "execution_count": null,
   "metadata": {},
   "outputs": [],
   "source": [
    "pops1 = [expect(basis(Natomic,i)*basis(Natomic,i).dag(),rho1) for i in range(Natomic)] #steady state fictitious lasers"
   ]
  },
  {
   "cell_type": "code",
   "execution_count": null,
   "metadata": {},
   "outputs": [],
   "source": [
    "pops0 = [expect(basis(Natomic,i)*basis(Natomic,i).dag(),rho0) for i in range(Natomic)] #steady state of rest ion"
   ]
  },
  {
   "cell_type": "code",
   "execution_count": 20,
   "metadata": {},
   "outputs": [
    {
     "data": {
      "text/plain": [
       "[(0.006477954524754552+9.276988812562115e-11j),\n",
       " (0.005953906040503687+4.9900209398573425e-11j),\n",
       " (0.00394138116056771+3.832434803535678e-12j),\n",
       " (0.021361258681691288-6.97693708362479e-11j),\n",
       " (0.0796923968480801+1.6281435505360875e-09j),\n",
       " (0.11156213400399088-2.1859306309490734e-09j),\n",
       " (0.12349667391161845+2.990897113308577e-09j),\n",
       " (0.09299284782983085-4.168865044840153e-10j),\n",
       " (0.2743536688168855+9.530303352045522e-10j),\n",
       " (0.1272383085477397-3.3391627587975314e-09j),\n",
       " (0.11396410445480987+1.836978416602797e-10j),\n",
       " (0.03896536517952753+1.0947788856019436e-10j)]"
      ]
     },
     "execution_count": 20,
     "metadata": {},
     "output_type": "execute_result"
    }
   ],
   "source": [
    "pops1"
   ]
  },
  {
   "cell_type": "code",
   "execution_count": 21,
   "metadata": {},
   "outputs": [
    {
     "data": {
      "text/plain": [
       "[8.16375799890918e-08,\n",
       " 7.7158600148982e-08,\n",
       " 5.338997048373485e-08,\n",
       " 2.8072359329188776e-07,\n",
       " 0.7691777221433598,\n",
       " 2.2492195488269402e-06,\n",
       " 0.00015463468676652972,\n",
       " 1.2907697923273218e-06,\n",
       " 4.178034751774213e-06,\n",
       " 2.0587452637879946e-06,\n",
       " 0.23065658657092486,\n",
       " 7.869198486312759e-07]"
      ]
     },
     "execution_count": 21,
     "metadata": {},
     "output_type": "execute_result"
    }
   ],
   "source": [
    "pops0"
   ]
  },
  {
   "cell_type": "code",
   "execution_count": 22,
   "metadata": {},
   "outputs": [
    {
     "data": {
      "text/plain": [
       "0.39866546423553395"
      ]
     },
     "execution_count": 22,
     "metadata": {},
     "output_type": "execute_result"
    }
   ],
   "source": [
    "fidelity(rho1,rho_int)"
   ]
  },
  {
   "cell_type": "code",
   "execution_count": 23,
   "metadata": {},
   "outputs": [
    {
     "data": {
      "text/plain": [
       "0.9767601736282865"
      ]
     },
     "execution_count": 23,
     "metadata": {},
     "output_type": "execute_result"
    }
   ],
   "source": [
    "fidelity(rho0,rho_int)"
   ]
  },
  {
   "cell_type": "code",
   "execution_count": 24,
   "metadata": {},
   "outputs": [
    {
     "data": {
      "text/plain": [
       "0.2753989428715705"
      ]
     },
     "execution_count": 24,
     "metadata": {},
     "output_type": "execute_result"
    }
   ],
   "source": [
    "fidelity(rho0,rho1)"
   ]
  },
  {
   "cell_type": "code",
   "execution_count": 25,
   "metadata": {},
   "outputs": [
    {
     "data": {
      "text/plain": [
       "(1-3.469446951953614e-18j)"
      ]
     },
     "execution_count": 25,
     "metadata": {},
     "output_type": "execute_result"
    }
   ],
   "source": [
    "sum(pops1)"
   ]
  },
  {
   "cell_type": "code",
   "execution_count": null,
   "metadata": {},
   "outputs": [],
   "source": [
    "pop_average = np.array([0.002983774128898129, #average populations during cooling\n",
    " 0.0018428780072905723,\n",
    " 0.001609984028225494,\n",
    " 0.008705012896029585,\n",
    " 0.32105183613329435,\n",
    " 0.0519088240468077,\n",
    " 0.23135013538489693,\n",
    " 0.047149134383492206,\n",
    " 0.09826226229560282,\n",
    " 0.06341279001139988,\n",
    " 0.15409133077419063,\n",
    " 0.017632037926755058])"
   ]
  },
  {
   "cell_type": "code",
   "execution_count": 27,
   "metadata": {},
   "outputs": [],
   "source": [
    "pops=np.array(pops)"
   ]
  },
  {
   "cell_type": "code",
   "execution_count": 28,
   "metadata": {},
   "outputs": [],
   "source": [
    "pops1 = np.array(pops1).real"
   ]
  },
  {
   "cell_type": "code",
   "execution_count": 29,
   "metadata": {},
   "outputs": [],
   "source": [
    "pops0 = np.array(pops0).real"
   ]
  },
  {
   "cell_type": "code",
   "execution_count": 30,
   "metadata": {},
   "outputs": [],
   "source": [
    "from numpy import linalg as LA"
   ]
  },
  {
   "cell_type": "code",
   "execution_count": 31,
   "metadata": {},
   "outputs": [
    {
     "data": {
      "text/plain": [
       "0.7485101246984004"
      ]
     },
     "execution_count": 31,
     "metadata": {},
     "output_type": "execute_result"
    }
   ],
   "source": [
    "LA.norm(pops-pops1)"
   ]
  },
  {
   "cell_type": "code",
   "execution_count": 32,
   "metadata": {},
   "outputs": [
    {
     "data": {
      "text/plain": [
       "0.05222573460570472"
      ]
     },
     "execution_count": 32,
     "metadata": {},
     "output_type": "execute_result"
    }
   ],
   "source": [
    "LA.norm(pops-pops0)"
   ]
  },
  {
   "cell_type": "code",
   "execution_count": 33,
   "metadata": {},
   "outputs": [
    {
     "data": {
      "text/plain": [
       "0.0"
      ]
     },
     "execution_count": 33,
     "metadata": {},
     "output_type": "execute_result"
    }
   ],
   "source": [
    "LA.norm(pops-pops)"
   ]
  },
  {
   "cell_type": "code",
   "execution_count": 34,
   "metadata": {},
   "outputs": [
    {
     "data": {
      "text/plain": [
       "0.48062483869252026"
      ]
     },
     "execution_count": 34,
     "metadata": {},
     "output_type": "execute_result"
    }
   ],
   "source": [
    "LA.norm(pop_average-pops)"
   ]
  },
  {
   "cell_type": "code",
   "execution_count": 35,
   "metadata": {},
   "outputs": [
    {
     "data": {
      "text/plain": [
       "0.3359893194197997"
      ]
     },
     "execution_count": 35,
     "metadata": {},
     "output_type": "execute_result"
    }
   ],
   "source": [
    "LA.norm(pop_average-pops1)"
   ]
  },
  {
   "cell_type": "code",
   "execution_count": 36,
   "metadata": {},
   "outputs": [
    {
     "data": {
      "text/plain": [
       "0.5283225481345616"
      ]
     },
     "execution_count": 36,
     "metadata": {},
     "output_type": "execute_result"
    }
   ],
   "source": [
    "LA.norm(pop_average-pops0)"
   ]
  }
 ],
 "metadata": {
  "kernelspec": {
   "display_name": "base",
   "language": "python",
   "name": "python3"
  },
  "language_info": {
   "codemirror_mode": {
    "name": "ipython",
    "version": 3
   },
   "file_extension": ".py",
   "mimetype": "text/x-python",
   "name": "python",
   "nbconvert_exporter": "python",
   "pygments_lexer": "ipython3",
   "version": "3.11.11"
  }
 },
 "nbformat": 4,
 "nbformat_minor": 4
}
