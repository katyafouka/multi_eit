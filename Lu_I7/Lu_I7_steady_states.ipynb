{
 "cells": [
  {
   "cell_type": "code",
   "execution_count": 1,
   "metadata": {},
   "outputs": [],
   "source": [
    "import numpy as np\n",
    "from qutip import *\n",
    "from sympy.physics.quantum.cg import CG\n",
    "from sympy.physics.wigner import wigner_6j, wigner_3j\n",
    "from tqdm import tqdm\n",
    "import matplotlib.pyplot as plt\n",
    "from numpy.linalg import inv\n",
    "from numpy import linalg as LA\n",
    "from scipy.optimize import minimize_scalar\n",
    "from scipy.sparse.linalg import eigs"
   ]
  },
  {
   "cell_type": "code",
   "execution_count": 2,
   "metadata": {},
   "outputs": [
    {
     "data": {
      "text/plain": [
       "[7, 6, 7, 8]"
      ]
     },
     "execution_count": 2,
     "metadata": {},
     "output_type": "execute_result"
    }
   ],
   "source": [
    "I = 7\n",
    "S = 1\n",
    "Je = 0\n",
    "Jg = 1\n",
    "Lg = 2\n",
    "F = [i for i in range(int(I-Jg),int(I + Jg + 1),1)]\n",
    "F.insert(0,int(I+Je))\n",
    "F "
   ]
  },
  {
   "cell_type": "code",
   "execution_count": 3,
   "metadata": {},
   "outputs": [
    {
     "data": {
      "text/plain": [
       "60"
      ]
     },
     "execution_count": 3,
     "metadata": {},
     "output_type": "execute_result"
    }
   ],
   "source": [
    "N = [2*F[i] + 1 for i in range(len(F))]\n",
    "N = sum(N)\n",
    "N"
   ]
  },
  {
   "cell_type": "code",
   "execution_count": 4,
   "metadata": {},
   "outputs": [
    {
     "name": "stdout",
     "output_type": "stream",
     "text": [
      "5.617233285596307\n",
      "0.5\n",
      "[-0.0002465559058692723, -0.07142857142857142, 0.008928571428571428, 0.0625]\n"
     ]
    }
   ],
   "source": [
    "#Zeeman stuff\n",
    "\n",
    "\n",
    "muB = 9.3e-24 #Bohr magneton J T^-1\n",
    "hbar = 1.054e-34 # J s\n",
    "\n",
    "muB = muB/hbar #hbar = 1\n",
    "muB = muB/(2*np.pi)\n",
    "muB = muB/1e6  # so it's in 1/2π (MHz T^-1)\n",
    "\n",
    "# 1Gauss is 0.0001 T\n",
    "B = 4e-4\n",
    "print(muB*B) \n",
    "\n",
    "\n",
    "\n",
    "#Lande g factor for F\n",
    "me = 9.1093837015e-31 \n",
    "mp = 1.67262192369e-27 \n",
    "\n",
    "mI = 3.169 #nuclear magnetic moment of 176Lu in units of μN\n",
    "gI = mI/I\n",
    "\n",
    "gJg = 1 + (Jg*(Jg +1) + S*(S + 1) - Lg*(Lg + 1))/(2*Jg*(Jg + 1))\n",
    "print(gJg)\n",
    "\n",
    "#gF = [1,0,1,2]\n",
    "gF=[]\n",
    "gF.append(-gI*me/mp)\n",
    "\n",
    "for i in range(3):\n",
    "    gF.append(gJg*(F[i +1]*(F[i+1] + 1) + Jg*(Jg+1) - I*(I+1))/(2*F[i+1]*(F[i +1] + 1)))\n",
    "    \n",
    "print(gF)"
   ]
  },
  {
   "cell_type": "code",
   "execution_count": 5,
   "metadata": {},
   "outputs": [
    {
     "name": "stdout",
     "output_type": "stream",
     "text": [
      "-0.0013849620412092264\n",
      "-0.4012309489711648\n",
      "0.0501538686213956\n",
      "0.3510770803497692\n"
     ]
    }
   ],
   "source": [
    "for i in range(len(F)):\n",
    "    print(gF[i]*muB*B) #(1/2π MHz)"
   ]
  },
  {
   "cell_type": "code",
   "execution_count": 6,
   "metadata": {},
   "outputs": [],
   "source": [
    "def base(F,i,mF):\n",
    "    #numbering states from 0 to N-1 starting from -mF to mF\n",
    "    # 0 is |F',-mF'>\n",
    "    if i==0:\n",
    "        b = basis(N,mF+F[i])\n",
    "    elif i==1:\n",
    "        b = basis(N,mF + F[i] + 2*F[0] + 1)\n",
    "    elif i==2:\n",
    "        b = basis(N,mF + F[i] + 2*F[0] + 1 + 2*F[1] + 1)\n",
    "    else:\n",
    "        b = basis(N,mF + F[i] + 2*F[0] + 1 + 2*F[1] + 1 + 2*F[2] +1)\n",
    "    return b    "
   ]
  },
  {
   "cell_type": "markdown",
   "metadata": {},
   "source": [
    "## Dissipation"
   ]
  },
  {
   "cell_type": "code",
   "execution_count": 7,
   "metadata": {},
   "outputs": [],
   "source": [
    "GammaJgJe = 2.44745 #1/2π (MHz) 3D1 to 3P0\n",
    "#GammaJgJe = 2.5"
   ]
  },
  {
   "cell_type": "code",
   "execution_count": 8,
   "metadata": {},
   "outputs": [],
   "source": [
    "def GammaFgFe(F,ig,Je,Jg,I,GammaJgJe):\n",
    "    return float((2*Je + 1)*(2*F[0] + 1)*wigner_6j(Je,F[0],I,F[ig],Jg,1)**2)*GammaJgJe\n",
    "    #return GammaJgJe"
   ]
  },
  {
   "cell_type": "code",
   "execution_count": 9,
   "metadata": {},
   "outputs": [
    {
     "data": {
      "text/plain": [
       "2.44745"
      ]
     },
     "execution_count": 9,
     "metadata": {},
     "output_type": "execute_result"
    }
   ],
   "source": [
    "GammaFgFe(F,1,Je,Jg,I,GammaJgJe) + GammaFgFe(F,2,Je,Jg,I,GammaJgJe) + GammaFgFe(F,3,Je,Jg,I,GammaJgJe)"
   ]
  },
  {
   "cell_type": "code",
   "execution_count": 10,
   "metadata": {},
   "outputs": [],
   "source": [
    "def cg(F,ig,mFg,ie,mFe,q):\n",
    "    return float(CG(F[ig],mFg,1,q,F[ie],mFe).doit())\n",
    "    #return 1"
   ]
  },
  {
   "cell_type": "code",
   "execution_count": 13,
   "metadata": {},
   "outputs": [
    {
     "name": "stdout",
     "output_type": "stream",
     "text": [
      "1.0\n",
      "1.0\n",
      "0.9999999999999999\n"
     ]
    }
   ],
   "source": [
    "#checking our normalization convention\n",
    "for ig in range(1,len(F)):\n",
    "    we=0\n",
    "    for mfg in range(-F[ig],F[ig] + 1):\n",
    "        for mfe in range(-F[0],F[0]+1):\n",
    "            for q in [-1,0,1]:\n",
    "                we+=1/(2*F[0] + 1)*cg(F,ig,mfg,0,mfe,q)**2\n",
    "                \n",
    "    print(we)"
   ]
  },
  {
   "cell_type": "code",
   "execution_count": 14,
   "metadata": {},
   "outputs": [],
   "source": [
    "#for ig in range(1,len(F)):\n",
    "#    for mFe in range(-F[0],F[0]+1):\n",
    "#        for mFg in range(-F[ig],F[ig]+1):\n",
    "#            for q in qs:\n",
    "#                print((1/np.sqrt(2*F[0] + 1)*cg(F,ig,mFg,0,mFe,q))**-2)"
   ]
  },
  {
   "cell_type": "code",
   "execution_count": 15,
   "metadata": {},
   "outputs": [],
   "source": [
    "#qs = [-1,0,1]\n",
    "#c_ops = []\n",
    "\n",
    "#for ig in range(1,len(F)):\n",
    "#    for q in qs:\n",
    "#        cops = GammaFgFe(F,ig,Je,Jg,I,GammaJgJe)*( spre(Ddagger(F,ig,q).dag())*spost(Ddagger(F,ig,q)) \n",
    "#           - 0.5*(spre(Ddagger(F,ig,q)*Ddagger(F,ig,q).dag()) \n",
    "#           + spost(Ddagger(F,ig,q)*Ddagger(F,ig,q).dag())) ) \n",
    "        \n",
    "#        #for each decay with polarization q from F' to F we write a different superoperator\n",
    "#        c_ops.append(cops)   "
   ]
  },
  {
   "cell_type": "code",
   "execution_count": 16,
   "metadata": {},
   "outputs": [],
   "source": [
    "#single collapse operator for each transtion\n",
    "c_ops = []\n",
    "qs = [-1,0,1]\n",
    "\n",
    "for ig in range(1,len(F)):\n",
    "    for mfg in range(-F[ig],F[ig] + 1):\n",
    "        for mfe in range(-F[0], F[0] + 1):\n",
    "            for q in qs:\n",
    "                if cg(F,ig,mfg,0,mfe,q) != 0:\n",
    "                    cops =np.sqrt(1/(2*F[0] + 1))*cg(F,ig,mfg,0,mfe,q)*np.sqrt(GammaFgFe(F,ig,Je,Jg,I,GammaJgJe))*base(F,ig,mfg)*base(F,0,mfe).dag()\n",
    "                    c_ops.append(cops.to(\"CSR\"))\n",
    "                else:\n",
    "                    continue"
   ]
  },
  {
   "cell_type": "code",
   "execution_count": 17,
   "metadata": {},
   "outputs": [],
   "source": [
    "#check\n",
    "#sum=0\n",
    "#qs = [-1,0,1]\n",
    "\n",
    "#for ig in range(1,len(F)):\n",
    "#    for mfg in range(-F[ig],F[ig] + 1):\n",
    "#        for mfe in range(-F[0], F[0] + 1):\n",
    "#            for q in qs:\n",
    "#                sum+= (np.sqrt(1/(2*F[0] + 1))*cg(F,ig,mfg,0,mfe,q)*np.sqrt(GammaFgFe(F,ig,Je,Jg,I,GammaJgJe)))**2\n",
    "#sum"
   ]
  },
  {
   "cell_type": "markdown",
   "metadata": {},
   "source": [
    "## Steady state "
   ]
  },
  {
   "cell_type": "code",
   "execution_count": 18,
   "metadata": {},
   "outputs": [],
   "source": [
    "def H_I(F,Omega_p):\n",
    "    HI=0*basis(N,0)*basis(N,0).dag()\n",
    "    for mFe in range(-F[0],F[0] + 1):\n",
    "        for ig in range(1,len(F)):\n",
    "            for mFg in range(-F[ig],F[ig]+1):\n",
    "                for q in range(-1,2):\n",
    "                    HI += cg(F,ig,mFg,0,mFe,q)*Omega_p[ig-1,q+1]/2*base(F,0,mFe)*base(F,ig,mFg).dag()\n",
    "                \n",
    "    return 1/np.sqrt(2*F[0]+1)*(HI + HI.dag()) "
   ]
  },
  {
   "cell_type": "code",
   "execution_count": 19,
   "metadata": {},
   "outputs": [],
   "source": [
    "def H_0(F,Delta):\n",
    "    H0 = 0*basis(N,0)*basis(N,0).dag()\n",
    "    for l in range(len(F)):\n",
    "        for mF in range(-F[l],F[l]+1):\n",
    "            H0 += (Delta[l] + gF[l]*muB*mF*B)*base(F,l,mF)*base(F,l,mF).dag() \n",
    "    return H0"
   ]
  },
  {
   "cell_type": "markdown",
   "metadata": {},
   "source": [
    "### σ+ and σ- for all transitions"
   ]
  },
  {
   "cell_type": "code",
   "execution_count": 20,
   "metadata": {},
   "outputs": [],
   "source": [
    "#Rabi frequencies Ω_F,F' #1/2π (MHz)\n",
    "omega = [73,19,73]\n",
    "\n",
    "#turn on/off polarization\n",
    "Omega_p= np.zeros((3,3)) # (ig-1, q + 1) transition from F state to F' with polarization q\n",
    "\n",
    "Omega_p[0,0] = Omega_p[0,2] = omega[0]       #σ+ and σ- for F=F[1] to F'= F[0]\n",
    "Omega_p[1,0] = Omega_p[1,2] = omega[1]      #σ+ and σ- for F=F[2] to F'=F[0]\n",
    "Omega_p[2,0] = Omega_p[2,2] = omega[2]     #σ+ and σ- for F=F[3] to F'=F[0]"
   ]
  },
  {
   "cell_type": "code",
   "execution_count": 21,
   "metadata": {},
   "outputs": [
    {
     "name": "stdout",
     "output_type": "stream",
     "text": [
      "5.617233285596307\n"
     ]
    }
   ],
   "source": [
    "B = 4e-4\n",
    "print(muB*B) \n",
    "Delta = [0,10,22.1,20]\n",
    "\n",
    "#Delta[2] = Delta[3] -(gF[2] + gF[3])*muB*B\n",
    "\n",
    "#Delta"
   ]
  },
  {
   "cell_type": "code",
   "execution_count": 22,
   "metadata": {},
   "outputs": [],
   "source": [
    "Delta_ds = []\n",
    "for mFe in range(-F[0],F[0] + 1):\n",
    "    for mFg in range(-F[2],F[2] + 1):\n",
    "        for q in [-1,1]:\n",
    "            #print(mFg)\n",
    "            if cg(F,2,mFg,0,mFe,q) != 0:\n",
    "                for ig in [1,3]:\n",
    "                    for mFFg in range(-F[ig],F[ig] + 1):\n",
    "                        for qq in [-1,1]:\n",
    "                        #print(mFFg)\n",
    "                            if cg(F,ig,mFFg,0,mFe,qq) != 0:\n",
    "                                Delta_ds.append(Delta[ig] - gF[2]*mFg*muB*B + gF[ig]*mFFg*muB*B)"
   ]
  },
  {
   "cell_type": "code",
   "execution_count": 23,
   "metadata": {},
   "outputs": [],
   "source": [
    "Delta_ds.sort()\n",
    "#Delta_ds"
   ]
  },
  {
   "cell_type": "code",
   "execution_count": 24,
   "metadata": {},
   "outputs": [],
   "source": [
    "Delta = [0,10,Delta_ds[-3],20]\n",
    "H0 = H_0(F,Delta)\n",
    "HI = H_I(F,Omega_p)\n",
    "H=H0+HI\n",
    "#make sure Hamiltonian is sparse\n",
    "#H = H.to(\"CSR\").tidyup(atol=1e-8)\n",
    "L = -1j*(spre(H)-spost(H))\n",
    "for i in range(len(c_ops)):\n",
    "    L += spre(c_ops[i])*spost(c_ops[i].dag()) - 0.5*(spre(c_ops[i].dag()*c_ops[i]) + spost(c_ops[i].dag()*c_ops[i]))\n",
    "L = L.data_as('ndarray')"
   ]
  },
  {
   "cell_type": "code",
   "execution_count": 25,
   "metadata": {},
   "outputs": [
    {
     "data": {
      "text/plain": [
       "(3600, 3600)"
      ]
     },
     "execution_count": 25,
     "metadata": {},
     "output_type": "execute_result"
    }
   ],
   "source": [
    "np.shape(L)"
   ]
  },
  {
   "cell_type": "code",
   "execution_count": 26,
   "metadata": {},
   "outputs": [],
   "source": [
    "eigenvalues, eigenvectors = eigs(L,k=10,sigma = 0+0j)"
   ]
  },
  {
   "cell_type": "code",
   "execution_count": 27,
   "metadata": {},
   "outputs": [
    {
     "data": {
      "text/plain": [
       "array([-4.21621376e-18-1.90116306e-17j, -3.68329188e-06+9.50310454e-11j,\n",
       "       -1.75070546e-05-1.11138984e-08j, -5.99293263e-05+5.07148719e-10j,\n",
       "       -1.47948071e-04-1.29554888e-07j, -3.02765600e-04-7.23497472e-09j,\n",
       "       -5.15893113e-04-1.09542735e-07j, -8.18685541e-04-3.33740529e-06j,\n",
       "       -1.09196591e-03+3.24368993e-06j, -1.83288103e-03+1.72961487e-06j])"
      ]
     },
     "execution_count": 27,
     "metadata": {},
     "output_type": "execute_result"
    }
   ],
   "source": [
    "eigenvalues"
   ]
  },
  {
   "cell_type": "code",
   "execution_count": 28,
   "metadata": {},
   "outputs": [
    {
     "data": {
      "text/plain": [
       "array([-4.21621376e-18, -3.68329188e-06, -1.75070546e-05, -5.99293263e-05,\n",
       "       -1.47948071e-04, -3.02765600e-04, -5.15893113e-04, -8.18685541e-04,\n",
       "       -1.09196591e-03, -1.83288103e-03])"
      ]
     },
     "execution_count": 28,
     "metadata": {},
     "output_type": "execute_result"
    }
   ],
   "source": [
    "eigenvalues.real"
   ]
  },
  {
   "cell_type": "code",
   "execution_count": 29,
   "metadata": {},
   "outputs": [],
   "source": [
    "rhoss = eigenvectors[:,0]\n",
    "rhos = np.zeros((N,N),dtype='complex64')\n",
    "for i in range(N):\n",
    "    for j in range(N):\n",
    "        rhos[j,i] = rhoss[j+i*N]\n",
    "\n",
    "rho = Qobj(rhos)\n",
    "rho = rho/rho.tr()"
   ]
  },
  {
   "cell_type": "code",
   "execution_count": 31,
   "metadata": {},
   "outputs": [],
   "source": [
    "pops_ = [expect(basis(N,i)*basis(N,i).dag(),rho) for i in range(N)] #steady state rest ion"
   ]
  },
  {
   "cell_type": "code",
   "execution_count": 32,
   "metadata": {},
   "outputs": [
    {
     "name": "stdout",
     "output_type": "stream",
     "text": [
      "42\n",
      "(0.989151149012678+3.054595465457055e-11j)\n",
      "58\n",
      "(0.010848850988160519-2.5755313246694778e-11j)\n"
     ]
    }
   ],
   "source": [
    "for j in range(len(pops_)):\n",
    "    if pops_[j].real>0.01:\n",
    "        print(j)\n",
    "        print(pops_[j])"
   ]
  },
  {
   "cell_type": "code",
   "execution_count": 34,
   "metadata": {},
   "outputs": [
    {
     "data": {
      "text/plain": [
       "(1-1.2737091662971659e-17j)"
      ]
     },
     "execution_count": 34,
     "metadata": {},
     "output_type": "execute_result"
    }
   ],
   "source": [
    "\n",
    "sum(pops_)"
   ]
  },
  {
   "cell_type": "code",
   "execution_count": 35,
   "metadata": {},
   "outputs": [],
   "source": [
    "#system parameters\n",
    "c = 299792458\n",
    "λ = 646e-9\n",
    "f = c/λ \n",
    "f_1 = 11.2e9\n",
    "f_2 = 10.5e9\n",
    "\n",
    "#176Lu+\n",
    "amu = 1.66053886e-27\n",
    "hbar = 1.054571817e-34\n",
    "M = 176*amu\n",
    "\n",
    "omega0  = 1.4\n",
    "\n",
    "eta = []\n",
    "\n",
    "eta2 = 2*np.pi*f/c*np.sqrt(hbar/(2*M*2*np.pi*omega0*10**(6)))\n",
    "eta.append(eta2)\n",
    "\n",
    "eta3 = 2*np.pi*(f-f_1)/c*np.sqrt(hbar/(2*M*2*np.pi*omega0*10**(6)))\n",
    "eta.append(eta3)\n",
    "\n",
    "eta4 = -2*np.pi*(f-f_2)/c*np.sqrt(hbar/(2*M*2*np.pi*omega0*10**(6)))\n",
    "eta.append(eta4)"
   ]
  },
  {
   "cell_type": "code",
   "execution_count": 36,
   "metadata": {},
   "outputs": [],
   "source": [
    "def H1_(F,eta,Omega_p):\n",
    "    H1=0*basis(N,0)*basis(N,0).dag()\n",
    "    for mFe in range(-F[0],F[0] + 1):\n",
    "        for ig in range(1,len(F)):\n",
    "            for mFg in range(-F[ig],F[ig]+1):\n",
    "                for q in range(-1,2):\n",
    "                    H1 += 1j*eta[ig-1]*cg(F,ig,mFg,0,mFe,q)*Omega_p[ig-1,q+1]/2*base(F,0,mFe)*base(F,ig,mFg).dag()\n",
    "                \n",
    "    return -1/np.sqrt(2*F[0]+1)*H1"
   ]
  },
  {
   "cell_type": "code",
   "execution_count": 37,
   "metadata": {},
   "outputs": [],
   "source": [
    "H0_ = H_0(F,Delta)\n",
    "HI_ = H_I(F,Omega_p) \n",
    "    \n",
    "\n",
    "H0 = H0_ + HI_ \n",
    "\n",
    "c=c_ops \n",
    "\n",
    "L0 = 0*spre(c[0])*spost(c[0].dag())\n",
    "for i in range(len(c)):\n",
    "    L0 += spre(c[i])*spost(c[i].dag()) - 0.5*(spre(c[i].dag()*c[i]) + spost(c[i].dag()*c[i]))\n",
    "\n",
    "L0 += -1j*(spre(H0) - spost(H0))\n",
    "    \n",
    "#L0 = np.array(L0)\n",
    "L0 = L0.data_as('ndarray')\n",
    "\n",
    "H_1 = H1_(F,eta,Omega_p)\n",
    "L_1 = -1j*(spre(H_1) - spost(H_1))\n",
    "\n",
    "#L_1 = np.array(L_1)\n",
    "L_1 = L_1.data_as('ndarray')\n",
    "\n",
    "H1 = H_1.dag()\n",
    "L1 = -1j*(spre(H1) - spost(H1))\n",
    "\n",
    "#L1 = np.array(L1)\n",
    "L1 = L1.data_as('ndarray')\n",
    "\n",
    "delta=omega0\n",
    "\n",
    "S3 = -np.matmul(inv(L0-3j*delta*np.eye(N**2)),L1)\n",
    "S2 = -np.matmul(inv(L0-2j*delta*np.eye(N**2)+ np.matmul(L_1,S3)),L1)\n",
    "S1 = -np.matmul(inv(L0-1j*delta*np.eye(N**2) + np.matmul(L_1,S2)),L1) \n",
    "\n",
    "T_3 = -np.matmul(inv(L0+3j*delta*np.eye(N**2)),L_1)\n",
    "T_2 = -np.matmul(inv(L0+2j*delta*np.eye(N**2)+ np.matmul(L1,T_3)),L_1)\n",
    "T_1 = -np.matmul(inv(L0+1j*delta*np.eye(N**2)+ np.matmul(L1,T_2)),L_1)\n",
    "    \n",
    "L = np.matmul(L_1,S1) + L0 +np.matmul(L1,T_1)\n",
    "    \n",
    "eigenvalues, eigenvectors = eigs(L,k=10,sigma = 0+0j)"
   ]
  },
  {
   "cell_type": "code",
   "execution_count": 38,
   "metadata": {},
   "outputs": [
    {
     "data": {
      "text/plain": [
       "array([ 1.22655457e-17-1.28871030e-17j, -2.23074139e-05-7.08112668e-08j,\n",
       "       -1.15551818e-04-9.20055190e-08j, -2.64812616e-04-3.22033890e-07j,\n",
       "       -4.94910815e-04+9.27544359e-07j, -9.85263579e-04-1.18946096e-05j,\n",
       "       -1.26482089e-03-1.01327236e-05j, -3.16131346e-03+1.18543653e-04j,\n",
       "       -3.15935598e-03-1.21936845e-04j, -3.28457406e-03+3.29463559e-08j])"
      ]
     },
     "execution_count": 38,
     "metadata": {},
     "output_type": "execute_result"
    }
   ],
   "source": [
    "eigenvalues"
   ]
  },
  {
   "cell_type": "code",
   "execution_count": 39,
   "metadata": {},
   "outputs": [],
   "source": [
    "rhoss = eigenvectors[:,0]\n",
    "rhos = np.zeros((N,N),dtype='complex64')\n",
    "for i in range(N):\n",
    "    for j in range(N):\n",
    "        rhos[j,i] = rhoss[j+i*N]\n",
    "\n",
    "rho = Qobj(rhos)\n",
    "rho = rho/rho.tr()"
   ]
  },
  {
   "cell_type": "code",
   "execution_count": 40,
   "metadata": {},
   "outputs": [],
   "source": [
    "pops_1 = [expect(basis(N,i)*basis(N,i).dag(),rho) for i in range(N)] #fictitious lasers"
   ]
  },
  {
   "cell_type": "code",
   "execution_count": 41,
   "metadata": {},
   "outputs": [
    {
     "name": "stdout",
     "output_type": "stream",
     "text": [
      "40\n",
      "(0.031146495116539902-4.65687913578372e-11j)\n",
      "41\n",
      "(0.012825590110106585-6.235748462729562e-11j)\n",
      "42\n",
      "(0.9069062652180293+4.704189815463167e-11j)\n",
      "58\n",
      "(0.01107421408573826+3.463003495074446e-11j)\n"
     ]
    }
   ],
   "source": [
    "for j in range(len(pops_1)):\n",
    "    if pops_1[j].real>0.01:\n",
    "        print(j)\n",
    "        print(pops_1[j])"
   ]
  },
  {
   "cell_type": "code",
   "execution_count": 43,
   "metadata": {},
   "outputs": [],
   "source": [
    "pop_cool = np.array( #average population during cooling\n",
    "[0.0011792390641969844,\n",
    " 0.0012107611218760176,\n",
    " 0.0010255929619416102,\n",
    " 0.0010022121160483766,\n",
    " 0.0007659574247022892,\n",
    " 0.000696084652191965,\n",
    " 0.0005383331434219447,\n",
    " 0.0004712277077444033,\n",
    " 0.00040460206684772424,\n",
    " 0.0004163657977780548,\n",
    " 0.00038797658897879163,\n",
    " 0.0003544372343916331,\n",
    " 0.0002914329008243498,\n",
    " 0.00031678219672375566,\n",
    " 0.0002489600098400819,\n",
    " 0.00987315390235903,\n",
    " 0.00633404250971594,\n",
    " 0.004296719532202632,\n",
    " 0.0031178868028897545,\n",
    " 0.0022155466618861653,\n",
    " 0.0018345555407735443,\n",
    " 0.001450869969824593,\n",
    " 0.0013864114384715615,\n",
    " 0.0012158140680596525,\n",
    " 0.0011109152512098243,\n",
    " 0.0008674738902752577,\n",
    " 0.0008715133846191664,\n",
    " 0.0006337424080750469,\n",
    " 0.01634014487933862,\n",
    " 0.007213378885346397,\n",
    " 0.011053759191608578,\n",
    " 0.008358395516808595,\n",
    " 0.010352943371152062,\n",
    " 0.009769854447761257,\n",
    " 0.011501916857259112,\n",
    " 0.013622762792136357,\n",
    " 0.01861843724887808,\n",
    " 0.025926024702848872,\n",
    " 0.04137904118766621,\n",
    " 0.07802206103546994,\n",
    " 0.16669095577568177,\n",
    " 0.17434586060555118,\n",
    " 0.2524212362010396,\n",
    " 0.0065425218828121575,\n",
    " 0.005306903740025843,\n",
    " 0.004897942767832944,\n",
    " 0.0062730300963799845,\n",
    " 0.0062721006635465745,\n",
    " 0.006754317209955248,\n",
    " 0.006246971083598386,\n",
    " 0.006678739595735177,\n",
    " 0.004987811175221999,\n",
    " 0.005180642288455225,\n",
    " 0.004598258756731275,\n",
    " 0.006823804749600693,\n",
    " 0.008004013547505752,\n",
    " 0.01104637481806433,\n",
    " 0.009644223951170915,\n",
    " 0.00824055811259824,\n",
    " 0.0023664024776241977])"
   ]
  },
  {
   "cell_type": "code",
   "execution_count": 44,
   "metadata": {},
   "outputs": [
    {
     "name": "stdout",
     "output_type": "stream",
     "text": [
      "40\n",
      "0.16669095577568177\n",
      "41\n",
      "0.17434586060555118\n",
      "42\n",
      "0.2524212362010396\n"
     ]
    }
   ],
   "source": [
    "for j in range(len(pop_cool)):\n",
    "    if pop_cool[j].real>0.1:\n",
    "        print(j)\n",
    "        print(pop_cool[j])"
   ]
  },
  {
   "cell_type": "code",
   "execution_count": 45,
   "metadata": {},
   "outputs": [],
   "source": [
    "#steady state populations of full system\n",
    "pops_int = np.array([1.64280000e-05, 3.60000000e-07, 9.26460000e-05, 1.01800000e-06,\n",
    "       3.11240000e-05, 2.36400000e-06, 6.23180000e-05, 2.21600000e-06,\n",
    "       7.31520000e-05, 7.26000000e-07, 7.74720000e-05, 3.16600000e-06,\n",
    "       5.26600000e-05, 1.64600000e-06, 2.71580000e-05, 5.76120000e-05,\n",
    "       3.68000000e-07, 1.06765600e-03, 1.16200000e-06, 2.22650000e-04,\n",
    "       1.77400000e-06, 6.75956000e-04, 6.14000000e-07, 2.70254000e-04,\n",
    "       1.10800000e-06, 3.68414000e-04, 7.44000000e-07, 9.46540000e-05,\n",
    "       3.48760000e-05, 1.26923600e-03, 2.50740000e-05, 8.53514000e-04,\n",
    "       7.35240000e-05, 8.30900000e-04, 3.50722000e-04, 1.85675200e-03,\n",
    "       1.02940600e-03, 4.75090400e-03, 1.66055800e-03, 2.00082860e-02,\n",
    "       1.44802820e-02, 1.23917400e-01, 8.08399232e-01, 1.57016000e-04,\n",
    "       1.47000000e-06, 2.59278000e-04, 4.05400000e-06, 1.58040000e-04,\n",
    "       1.41940000e-05, 1.40612000e-04, 2.96160000e-05, 1.65340000e-04,\n",
    "       2.51500000e-05, 2.92932000e-04, 4.31140000e-05, 8.94508000e-04,\n",
    "       5.33522000e-04, 3.92357000e-03, 9.27256400e-03, 1.33693000e-03])"
   ]
  },
  {
   "cell_type": "code",
   "execution_count": 46,
   "metadata": {},
   "outputs": [],
   "source": [
    "pops_ = np.array(pops_)"
   ]
  },
  {
   "cell_type": "code",
   "execution_count": 47,
   "metadata": {},
   "outputs": [],
   "source": [
    "pops_1 = np.array(pops_1)"
   ]
  },
  {
   "cell_type": "code",
   "execution_count": 48,
   "metadata": {},
   "outputs": [],
   "source": [
    "from numpy import linalg as LA"
   ]
  },
  {
   "cell_type": "code",
   "execution_count": 49,
   "metadata": {},
   "outputs": [
    {
     "data": {
      "text/plain": [
       "0.22066418850230926"
      ]
     },
     "execution_count": 49,
     "metadata": {},
     "output_type": "execute_result"
    }
   ],
   "source": [
    "LA.norm(pops_int - pops_)"
   ]
  },
  {
   "cell_type": "code",
   "execution_count": 50,
   "metadata": {},
   "outputs": [
    {
     "data": {
      "text/plain": [
       "0.1502540029626242"
      ]
     },
     "execution_count": 50,
     "metadata": {},
     "output_type": "execute_result"
    }
   ],
   "source": [
    "LA.norm(pops_int - pops_1)"
   ]
  },
  {
   "cell_type": "code",
   "execution_count": 51,
   "metadata": {},
   "outputs": [
    {
     "data": {
      "text/plain": [
       "0.7821171717431635"
      ]
     },
     "execution_count": 51,
     "metadata": {},
     "output_type": "execute_result"
    }
   ],
   "source": [
    "LA.norm(pop_cool - pops_)"
   ]
  },
  {
   "cell_type": "code",
   "execution_count": 52,
   "metadata": {},
   "outputs": [
    {
     "data": {
      "text/plain": [
       "0.6942256192696029"
      ]
     },
     "execution_count": 52,
     "metadata": {},
     "output_type": "execute_result"
    }
   ],
   "source": [
    "LA.norm(pop_cool - pops_1)"
   ]
  }
 ],
 "metadata": {
  "kernelspec": {
   "display_name": "base",
   "language": "python",
   "name": "python3"
  },
  "language_info": {
   "codemirror_mode": {
    "name": "ipython",
    "version": 3
   },
   "file_extension": ".py",
   "mimetype": "text/x-python",
   "name": "python",
   "nbconvert_exporter": "python",
   "pygments_lexer": "ipython3",
   "version": "3.11.11"
  }
 },
 "nbformat": 4,
 "nbformat_minor": 4
}
